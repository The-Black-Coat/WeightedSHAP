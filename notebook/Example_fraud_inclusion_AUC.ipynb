{
 "cells": [
  {
   "cell_type": "markdown",
   "id": "429d6ca6",
   "metadata": {},
   "source": [
    "# Example: WeightedSHAP on the fraud dataset\n",
    "\n",
    "- In this notebook, we introduce weightedSHAP, which provides a generalized feature attribution method."
   ]
  },
  {
   "cell_type": "code",
   "execution_count": 1,
   "id": "9f99822a",
   "metadata": {},
   "outputs": [],
   "source": [
    "import sys, os\n",
    "import numpy as np\n",
    "import pickle \n",
    "np.random.seed(2022)\n",
    "from analysis_utils import *\n",
    "\n",
    "sys.path.append('../weightedSHAP')\n",
    "import data, train, weightedSHAPEngine"
   ]
  },
  {
   "cell_type": "markdown",
   "id": "157334be",
   "metadata": {},
   "source": [
    "## Load data\n",
    "- We use the fraud dataset (https://www.openml.org/search?type=data&status=active&id=42397).\n",
    "- A function `data.load_data` will load the `train`, `val`, `est`, and `test` datasets. \n",
    " - `train`: to train a model to explain\n",
    " - `val`: to optimize hyperparameters\n",
    " - `est`: to estimate coalition functions\n",
    " - `test`: to evaluate the quality of feature attributions "
   ]
  },
  {
   "cell_type": "code",
   "execution_count": 2,
   "id": "36f9d991",
   "metadata": {},
   "outputs": [
    {
     "name": "stdout",
     "output_type": "stream",
     "text": [
      "------------------------------\n",
      "Load a dataset\n",
      "------------------------------\n",
      "--------------------------------------------------\n",
      "Fraud Detection\n",
      "--------------------------------------------------\n",
      "------------------------------\n",
      "Before adding noise\n",
      "Shape of X_train, X_val, X_est, X_test: (13310, 30), (1902, 30), (1902, 30), (1902, 30)\n",
      "------------------------------\n",
      "Rho: 0.0388\n",
      "After adding noise\n",
      "Shape of X_train, X_val, X_est, X_test: (13310, 90), (1902, 90), (1902, 90), (1902, 90)\n",
      "------------------------------\n"
     ]
    }
   ],
   "source": [
    "# Load dataset\n",
    "problem='classification' \n",
    "dataset='fraud'\n",
    "ML_model='boosting' \n",
    "(X_train, y_train), (X_val, y_val), (X_est, y_est), (X_test, y_test)=data.load_data(problem, dataset)    "
   ]
  },
  {
   "cell_type": "markdown",
   "id": "9d203fb7",
   "metadata": {},
   "source": [
    "## Train a model to explain\n",
    " - This step is a typical routine in machine learning. Given training and validation datasets, we train a model. Our goal is to interpret this model by looking a particular prediction (i.e., a local attribution problem)."
   ]
  },
  {
   "cell_type": "code",
   "execution_count": 3,
   "id": "9e5c7be6",
   "metadata": {},
   "outputs": [
    {
     "name": "stdout",
     "output_type": "stream",
     "text": [
      "------------------------------\n",
      "Train a model\n",
      "Train a model to explain: Boosting\n",
      "Training until validation scores don't improve for 25 rounds\n",
      "Early stopping, best iteration is:\n",
      "[12]\tvalid_0's binary_logloss: 0.646885\tvalid_0's binary_error: 0.0320715\n",
      "Elapsed time for training a model to explain: 1.21 seconds\n",
      "------------------------------\n"
     ]
    }
   ],
   "source": [
    "model_to_explain=train.create_model_to_explain(X_train, y_train, X_val, y_val, problem, ML_model)"
   ]
  },
  {
   "cell_type": "markdown",
   "id": "f59c30c7",
   "metadata": {},
   "source": [
    "## Compute attributions and evaluate its performance\n",
    "- `weightedSHAPEngine.run_attribution_core` computes conditional expectation values $\\mathbb{E}[f(X) \\mid X_S = x_S]$ based on various weighted versions $\\phi_\\mathbf{w} (x_i) := \\sum_{j=1} ^{d} w_j \\Delta_{j}(x_i)$ of SHAP (Equation (5) of the paper). We consider a set $\\mathcal{W}$ which includes SHAP as well.\n",
    "- We store them in `exp_dict` which includes\n",
    " - `cond_pred_keep_absolute` (add features with large absolute values first)\n",
    " - `cond_pred_remove_absolute` (remove features with large absolute values first)\n",
    " - `pred_masking` (add features with large absolute values first and other featuers are masked with zero)."
   ]
  },
  {
   "cell_type": "code",
   "execution_count": 4,
   "id": "8c04071f",
   "metadata": {},
   "outputs": [
    {
     "name": "stdout",
     "output_type": "stream",
     "text": [
      "Elapsed time for training a surrogate model: 527.47 seconds\n"
     ]
    },
    {
     "name": "stderr",
     "output_type": "stream",
     "text": [
      "\r",
      "  0%|                                                                                                                | 0/100 [00:00<?, ?it/s]"
     ]
    },
    {
     "name": "stdout",
     "output_type": "stream",
     "text": [
      "Total number of random sets: 900, GR_stat: 1.0044481225297783\n",
      "MCI score: 8993, Therehosld: 8991\n",
      "We have seen 1000 random subsets for each feature.\n"
     ]
    },
    {
     "name": "stderr",
     "output_type": "stream",
     "text": [
      "\r",
      "  1%|█                                                                                                       | 1/100 [00:25<42:46, 25.92s/it]"
     ]
    },
    {
     "name": "stdout",
     "output_type": "stream",
     "text": [
      "Total number of random sets: 1000, GR_stat: 1.0102558569524647\n",
      "Total number of random sets: 1100, GR_stat: 1.0074160922051987\n",
      "Total number of random sets: 1200, GR_stat: 1.008655035366421\n",
      "Total number of random sets: 1300, GR_stat: 1.0063212384785707\n",
      "Total number of random sets: 1400, GR_stat: 1.0061500413389084\n",
      "Total number of random sets: 1600, GR_stat: 1.005908302141378\n",
      "Total number of random sets: 1700, GR_stat: 1.0041591841727189\n",
      "MCI score: 8995, Therehosld: 8991\n",
      "We have seen 1800 random subsets for each feature.\n"
     ]
    },
    {
     "name": "stderr",
     "output_type": "stream",
     "text": [
      "\r",
      "  2%|██                                                                                                    | 2/100 [01:14<1:03:43, 39.02s/it]"
     ]
    },
    {
     "name": "stdout",
     "output_type": "stream",
     "text": [
      "Total number of random sets: 500, GR_stat: 1.0163095169574239\n",
      "Total number of random sets: 1000, GR_stat: 1.0077326128040351\n",
      "Total number of random sets: 1300, GR_stat: 1.0057636410103268\n",
      "Total number of random sets: 1400, GR_stat: 1.0057137346730483\n",
      "Total number of random sets: 1500, GR_stat: 1.005533623884607\n",
      "Total number of random sets: 1600, GR_stat: 1.0028695002518269\n",
      "MCI score: 8994, Therehosld: 8991\n",
      "We have seen 1700 random subsets for each feature.\n"
     ]
    },
    {
     "name": "stderr",
     "output_type": "stream",
     "text": [
      "\r",
      "  3%|███                                                                                                   | 3/100 [02:01<1:09:00, 42.69s/it]"
     ]
    },
    {
     "name": "stdout",
     "output_type": "stream",
     "text": [
      "Total number of random sets: 1100, GR_stat: 1.007537805616862\n",
      "Total number of random sets: 1300, GR_stat: 1.0097895252454514\n",
      "Total number of random sets: 1400, GR_stat: 1.0071102232971398\n",
      "Total number of random sets: 1500, GR_stat: 1.0066231163509478\n",
      "Total number of random sets: 1600, GR_stat: 1.0058451299193336\n",
      "Total number of random sets: 1700, GR_stat: 1.0049397066816688\n",
      "MCI score: 8995, Therehosld: 8991\n",
      "We have seen 1800 random subsets for each feature.\n"
     ]
    },
    {
     "name": "stderr",
     "output_type": "stream",
     "text": [
      "\r",
      "  4%|████                                                                                                  | 4/100 [02:48<1:10:57, 44.34s/it]"
     ]
    },
    {
     "name": "stdout",
     "output_type": "stream",
     "text": [
      "Total number of random sets: 700, GR_stat: 1.0129614485568346\n",
      "Total number of random sets: 1000, GR_stat: 1.0069803259252674\n",
      "Total number of random sets: 1100, GR_stat: 1.003825994922321\n",
      "MCI score: 8998, Therehosld: 8991\n",
      "We have seen 1200 random subsets for each feature.\n"
     ]
    },
    {
     "name": "stderr",
     "output_type": "stream",
     "text": [
      "\r",
      "  5%|█████                                                                                                 | 5/100 [03:18<1:02:26, 39.43s/it]"
     ]
    },
    {
     "name": "stdout",
     "output_type": "stream",
     "text": [
      "Total number of random sets: 900, GR_stat: 1.0121055740534584\n",
      "Total number of random sets: 1300, GR_stat: 1.0075818222030157\n",
      "Total number of random sets: 1400, GR_stat: 1.0042180086337975\n",
      "MCI score: 8996, Therehosld: 8991\n",
      "We have seen 1500 random subsets for each feature.\n"
     ]
    },
    {
     "name": "stderr",
     "output_type": "stream",
     "text": [
      "\r",
      "  6%|██████                                                                                                | 6/100 [03:57<1:01:37, 39.34s/it]"
     ]
    },
    {
     "name": "stdout",
     "output_type": "stream",
     "text": [
      "Total number of random sets: 1000, GR_stat: 1.0067372087682689\n",
      "Total number of random sets: 1200, GR_stat: 1.0047269236931053\n",
      "MCI score: 8992, Therehosld: 8991\n",
      "We have seen 1300 random subsets for each feature.\n"
     ]
    },
    {
     "name": "stderr",
     "output_type": "stream",
     "text": [
      "\r",
      "  7%|███████▎                                                                                                | 7/100 [04:31<58:06, 37.49s/it]"
     ]
    },
    {
     "name": "stdout",
     "output_type": "stream",
     "text": [
      "Total number of random sets: 1100, GR_stat: 1.0056031880385425\n",
      "Total number of random sets: 1300, GR_stat: 1.0048167678980615\n",
      "MCI score: 8992, Therehosld: 8991\n",
      "We have seen 1400 random subsets for each feature.\n"
     ]
    },
    {
     "name": "stderr",
     "output_type": "stream",
     "text": [
      "\r",
      "  8%|████████▎                                                                                               | 8/100 [05:07<56:45, 37.02s/it]"
     ]
    },
    {
     "name": "stdout",
     "output_type": "stream",
     "text": [
      "Total number of random sets: 900, GR_stat: 1.0039283340513974\n",
      "MCI score: 8993, Therehosld: 8991\n",
      "We have seen 1000 random subsets for each feature.\n"
     ]
    },
    {
     "name": "stderr",
     "output_type": "stream",
     "text": [
      "\r",
      "  9%|█████████▎                                                                                              | 9/100 [05:32<50:34, 33.34s/it]"
     ]
    },
    {
     "name": "stdout",
     "output_type": "stream",
     "text": [
      "Total number of random sets: 1100, GR_stat: 1.0088069005196427\n",
      "Total number of random sets: 1200, GR_stat: 1.0109575981412975\n",
      "Total number of random sets: 1300, GR_stat: 1.0108422602798748\n",
      "Total number of random sets: 1400, GR_stat: 1.0067363181592395\n",
      "Total number of random sets: 1500, GR_stat: 1.0063427679837251\n",
      "Total number of random sets: 1600, GR_stat: 1.0080387453808237\n",
      "Total number of random sets: 1700, GR_stat: 1.0070187547714724\n",
      "Total number of random sets: 1800, GR_stat: 1.0078350972638002\n",
      "Total number of random sets: 1900, GR_stat: 1.0078990726504793\n",
      "Total number of random sets: 2000, GR_stat: 1.008705076994871\n",
      "Total number of random sets: 2100, GR_stat: 1.0070270901335705\n",
      "Total number of random sets: 2200, GR_stat: 1.0066545428158322\n",
      "Total number of random sets: 2300, GR_stat: 1.0059169955302456\n",
      "Total number of random sets: 2400, GR_stat: 1.0074335362704787\n",
      "Total number of random sets: 2500, GR_stat: 1.004683666708194\n",
      "MCI score: 8997, Therehosld: 8991\n",
      "We have seen 2600 random subsets for each feature.\n"
     ]
    },
    {
     "name": "stderr",
     "output_type": "stream",
     "text": [
      "\r",
      " 10%|██████████                                                                                           | 10/100 [06:42<1:06:38, 44.43s/it]"
     ]
    },
    {
     "name": "stdout",
     "output_type": "stream",
     "text": [
      "Total number of random sets: 900, GR_stat: 1.0073943967325434\n",
      "Total number of random sets: 1100, GR_stat: 1.0070611466155788\n",
      "Total number of random sets: 1200, GR_stat: 1.005868538037139\n",
      "Total number of random sets: 1300, GR_stat: 1.007096443920144\n",
      "Total number of random sets: 1500, GR_stat: 1.0056325780827242\n",
      "Total number of random sets: 1700, GR_stat: 1.0041322092559037\n",
      "MCI score: 8997, Therehosld: 8991\n",
      "We have seen 1800 random subsets for each feature.\n"
     ]
    },
    {
     "name": "stderr",
     "output_type": "stream",
     "text": [
      "\r",
      " 11%|███████████                                                                                          | 11/100 [07:29<1:07:19, 45.38s/it]"
     ]
    },
    {
     "name": "stdout",
     "output_type": "stream",
     "text": [
      "Total number of random sets: 1100, GR_stat: 1.0086440081050232\n",
      "Total number of random sets: 1400, GR_stat: 1.004852536585263\n",
      "MCI score: 8995, Therehosld: 8991\n",
      "We have seen 1500 random subsets for each feature.\n"
     ]
    },
    {
     "name": "stderr",
     "output_type": "stream",
     "text": [
      "\r",
      " 12%|████████████                                                                                         | 12/100 [08:09<1:03:59, 43.63s/it]"
     ]
    },
    {
     "name": "stdout",
     "output_type": "stream",
     "text": [
      "Total number of random sets: 1200, GR_stat: 1.0041877425909496\n",
      "MCI score: 8998, Therehosld: 8991\n",
      "We have seen 1300 random subsets for each feature.\n"
     ]
    },
    {
     "name": "stderr",
     "output_type": "stream",
     "text": [
      "\r",
      " 13%|█████████████▍                                                                                         | 13/100 [08:43<59:17, 40.89s/it]"
     ]
    },
    {
     "name": "stdout",
     "output_type": "stream",
     "text": [
      "Total number of random sets: 1000, GR_stat: 1.00916319534759\n",
      "Total number of random sets: 1100, GR_stat: 1.0051711761235942\n",
      "Total number of random sets: 1200, GR_stat: 1.0044004677502236\n",
      "MCI score: 8995, Therehosld: 8991\n",
      "We have seen 1300 random subsets for each feature.\n"
     ]
    },
    {
     "name": "stderr",
     "output_type": "stream",
     "text": [
      "\r",
      " 14%|██████████████▍                                                                                        | 14/100 [09:17<55:39, 38.83s/it]"
     ]
    },
    {
     "name": "stdout",
     "output_type": "stream",
     "text": [
      "Total number of random sets: 900, GR_stat: 1.008807840415017\n",
      "Total number of random sets: 1300, GR_stat: 1.009039127882593\n",
      "Total number of random sets: 1400, GR_stat: 1.007041359426327\n",
      "Total number of random sets: 1500, GR_stat: 1.004947944828726\n",
      "MCI score: 8993, Therehosld: 8991\n",
      "We have seen 1600 random subsets for each feature.\n"
     ]
    },
    {
     "name": "stderr",
     "output_type": "stream",
     "text": [
      "\r",
      " 15%|███████████████▍                                                                                       | 15/100 [10:00<56:45, 40.07s/it]"
     ]
    },
    {
     "name": "stdout",
     "output_type": "stream",
     "text": [
      "Total number of random sets: 1000, GR_stat: 1.0051914986606003\n",
      "Total number of random sets: 1300, GR_stat: 1.0049432824362792\n",
      "MCI score: 8994, Therehosld: 8991\n",
      "We have seen 1400 random subsets for each feature.\n"
     ]
    },
    {
     "name": "stderr",
     "output_type": "stream",
     "text": [
      "\r",
      " 16%|████████████████▍                                                                                      | 16/100 [10:38<55:12, 39.43s/it]"
     ]
    },
    {
     "name": "stdout",
     "output_type": "stream",
     "text": [
      "Total number of random sets: 900, GR_stat: 1.00764162885721\n",
      "Total number of random sets: 1300, GR_stat: 1.0063666849148758\n",
      "Total number of random sets: 1400, GR_stat: 1.0050069327147393\n",
      "Total number of random sets: 1500, GR_stat: 1.0033912771693596\n",
      "MCI score: 8997, Therehosld: 8991\n",
      "We have seen 1600 random subsets for each feature.\n"
     ]
    },
    {
     "name": "stderr",
     "output_type": "stream",
     "text": [
      "\r",
      " 17%|█████████████████▌                                                                                     | 17/100 [11:23<56:53, 41.12s/it]"
     ]
    },
    {
     "name": "stdout",
     "output_type": "stream",
     "text": [
      "Total number of random sets: 800, GR_stat: 1.0104090310537186\n",
      "Total number of random sets: 900, GR_stat: 1.009577222410384\n",
      "Total number of random sets: 1300, GR_stat: 1.0047021240276328\n",
      "MCI score: 8998, Therehosld: 8991\n",
      "We have seen 1400 random subsets for each feature.\n"
     ]
    },
    {
     "name": "stderr",
     "output_type": "stream",
     "text": [
      "\r",
      " 18%|██████████████████▌                                                                                    | 18/100 [12:00<54:23, 39.80s/it]"
     ]
    },
    {
     "name": "stdout",
     "output_type": "stream",
     "text": [
      "Total number of random sets: 600, GR_stat: 1.0128345602974922\n",
      "Total number of random sets: 1200, GR_stat: 1.004647941402032\n",
      "MCI score: 8996, Therehosld: 8991\n",
      "We have seen 1300 random subsets for each feature.\n"
     ]
    },
    {
     "name": "stderr",
     "output_type": "stream",
     "text": [
      "\r",
      " 19%|███████████████████▌                                                                                   | 19/100 [12:34<51:15, 37.97s/it]"
     ]
    },
    {
     "name": "stdout",
     "output_type": "stream",
     "text": [
      "Total number of random sets: 1000, GR_stat: 1.0141887285756508\n",
      "Total number of random sets: 1100, GR_stat: 1.006981123019112\n",
      "Total number of random sets: 1400, GR_stat: 1.0075119718761651\n",
      "Total number of random sets: 1500, GR_stat: 1.0044670950292958\n",
      "MCI score: 8992, Therehosld: 8991\n",
      "We have seen 1600 random subsets for each feature.\n"
     ]
    },
    {
     "name": "stderr",
     "output_type": "stream",
     "text": [
      "\r",
      " 20%|████████████████████▌                                                                                  | 20/100 [13:16<52:07, 39.09s/it]"
     ]
    },
    {
     "name": "stdout",
     "output_type": "stream",
     "text": [
      "Total number of random sets: 1100, GR_stat: 1.0057166369136559\n",
      "Total number of random sets: 1200, GR_stat: 1.0055963734277726\n",
      "Total number of random sets: 1400, GR_stat: 1.0040088810443757\n",
      "MCI score: 8995, Therehosld: 8991\n",
      "We have seen 1500 random subsets for each feature.\n"
     ]
    },
    {
     "name": "stderr",
     "output_type": "stream",
     "text": [
      "\r",
      " 21%|█████████████████████▋                                                                                 | 21/100 [13:57<52:20, 39.75s/it]"
     ]
    },
    {
     "name": "stdout",
     "output_type": "stream",
     "text": [
      "Total number of random sets: 900, GR_stat: 1.0106807489522922\n",
      "Total number of random sets: 1000, GR_stat: 1.0065016731282717\n",
      "Total number of random sets: 1200, GR_stat: 1.0066290735204293\n",
      "Total number of random sets: 1300, GR_stat: 1.008592471456618\n",
      "Total number of random sets: 1400, GR_stat: 1.0055273538146696\n",
      "Total number of random sets: 1500, GR_stat: 1.0065703684802345\n",
      "Total number of random sets: 1600, GR_stat: 1.0068706589416965\n",
      "Total number of random sets: 1800, GR_stat: 1.005007664897396\n",
      "Total number of random sets: 1900, GR_stat: 1.0039603319606667\n",
      "MCI score: 8997, Therehosld: 8991\n",
      "We have seen 2000 random subsets for each feature.\n"
     ]
    },
    {
     "name": "stderr",
     "output_type": "stream",
     "text": [
      "\r",
      " 22%|██████████████████████▋                                                                                | 22/100 [14:50<56:51, 43.73s/it]"
     ]
    },
    {
     "name": "stdout",
     "output_type": "stream",
     "text": [
      "Total number of random sets: 1000, GR_stat: 1.0064546357631465\n",
      "Total number of random sets: 1100, GR_stat: 1.0057191221141624\n",
      "Total number of random sets: 1300, GR_stat: 1.003612146173081\n",
      "MCI score: 8994, Therehosld: 8991\n",
      "We have seen 1400 random subsets for each feature.\n"
     ]
    },
    {
     "name": "stderr",
     "output_type": "stream",
     "text": [
      "\r",
      " 23%|███████████████████████▋                                                                               | 23/100 [15:29<54:12, 42.25s/it]"
     ]
    },
    {
     "name": "stdout",
     "output_type": "stream",
     "text": [
      "Total number of random sets: 800, GR_stat: 1.0079515058084563\n",
      "Total number of random sets: 1000, GR_stat: 1.0115520616687976\n",
      "Total number of random sets: 1200, GR_stat: 1.009557789224087\n",
      "Total number of random sets: 1300, GR_stat: 1.0077647436300712\n",
      "Total number of random sets: 1600, GR_stat: 1.0059917916798926\n",
      "Total number of random sets: 1800, GR_stat: 1.0050048053576626\n",
      "Total number of random sets: 2000, GR_stat: 1.0033019740716334\n",
      "MCI score: 8997, Therehosld: 8991\n",
      "We have seen 2100 random subsets for each feature.\n"
     ]
    },
    {
     "name": "stderr",
     "output_type": "stream",
     "text": [
      "\r",
      " 24%|████████████████████████▏                                                                            | 24/100 [16:30<1:00:40, 47.90s/it]"
     ]
    },
    {
     "name": "stdout",
     "output_type": "stream",
     "text": [
      "Total number of random sets: 1100, GR_stat: 1.0061177109955217\n",
      "Total number of random sets: 1200, GR_stat: 1.0046811122922208\n",
      "MCI score: 8996, Therehosld: 8991\n",
      "We have seen 1300 random subsets for each feature.\n"
     ]
    },
    {
     "name": "stderr",
     "output_type": "stream",
     "text": [
      "\r",
      " 25%|█████████████████████████▊                                                                             | 25/100 [17:07<55:45, 44.61s/it]"
     ]
    },
    {
     "name": "stdout",
     "output_type": "stream",
     "text": [
      "Total number of random sets: 800, GR_stat: 1.0066004321787703\n",
      "Total number of random sets: 1000, GR_stat: 1.0075254079858549\n",
      "Total number of random sets: 1200, GR_stat: 1.0072294978488503\n",
      "Total number of random sets: 1300, GR_stat: 1.0057368940142075\n",
      "Total number of random sets: 1400, GR_stat: 1.0064376946989482\n",
      "Total number of random sets: 1500, GR_stat: 1.0045975881782803\n",
      "MCI score: 8996, Therehosld: 8991\n",
      "We have seen 1600 random subsets for each feature.\n"
     ]
    },
    {
     "name": "stderr",
     "output_type": "stream",
     "text": [
      "\r",
      " 26%|██████████████████████████▊                                                                            | 26/100 [17:53<55:35, 45.07s/it]"
     ]
    },
    {
     "name": "stdout",
     "output_type": "stream",
     "text": [
      "Total number of random sets: 600, GR_stat: 1.0109414650270536\n",
      "Total number of random sets: 900, GR_stat: 1.0069327841314861\n",
      "Total number of random sets: 1500, GR_stat: 1.0040756135268596\n",
      "MCI score: 8993, Therehosld: 8991\n",
      "We have seen 1600 random subsets for each feature.\n"
     ]
    },
    {
     "name": "stderr",
     "output_type": "stream",
     "text": [
      "\r",
      " 27%|███████████████████████████▊                                                                           | 27/100 [18:39<55:09, 45.33s/it]"
     ]
    },
    {
     "name": "stdout",
     "output_type": "stream",
     "text": [
      "Total number of random sets: 1100, GR_stat: 1.0046778965865621\n",
      "MCI score: 8992, Therehosld: 8991\n",
      "We have seen 1200 random subsets for each feature.\n"
     ]
    },
    {
     "name": "stderr",
     "output_type": "stream",
     "text": [
      "\r",
      " 28%|████████████████████████████▊                                                                          | 28/100 [19:13<50:18, 41.92s/it]"
     ]
    },
    {
     "name": "stdout",
     "output_type": "stream",
     "text": [
      "Total number of random sets: 900, GR_stat: 1.005335069833249\n",
      "Total number of random sets: 1100, GR_stat: 1.0042613699655698\n",
      "MCI score: 8993, Therehosld: 8991\n",
      "We have seen 1200 random subsets for each feature.\n"
     ]
    },
    {
     "name": "stderr",
     "output_type": "stream",
     "text": [
      "\r",
      " 29%|█████████████████████████████▊                                                                         | 29/100 [19:47<46:47, 39.55s/it]"
     ]
    },
    {
     "name": "stdout",
     "output_type": "stream",
     "text": [
      "Total number of random sets: 1000, GR_stat: 1.0100657782862619\n",
      "Total number of random sets: 1200, GR_stat: 1.0049861350534421\n",
      "MCI score: 8992, Therehosld: 8991\n",
      "We have seen 1300 random subsets for each feature.\n"
     ]
    },
    {
     "name": "stderr",
     "output_type": "stream",
     "text": [
      "\r",
      " 30%|██████████████████████████████▉                                                                        | 30/100 [20:24<45:15, 38.79s/it]"
     ]
    },
    {
     "name": "stdout",
     "output_type": "stream",
     "text": [
      "Total number of random sets: 900, GR_stat: 1.0055734910163079\n",
      "Total number of random sets: 1100, GR_stat: 1.0072357047014102\n",
      "Total number of random sets: 1300, GR_stat: 1.006737897606606\n",
      "Total number of random sets: 1400, GR_stat: 1.0066811196814807\n",
      "Total number of random sets: 1500, GR_stat: 1.0037460301929062\n",
      "MCI score: 8998, Therehosld: 8991\n",
      "We have seen 1600 random subsets for each feature.\n"
     ]
    },
    {
     "name": "stderr",
     "output_type": "stream",
     "text": [
      "\r",
      " 31%|███████████████████████████████▉                                                                       | 31/100 [21:10<47:06, 40.96s/it]"
     ]
    },
    {
     "name": "stdout",
     "output_type": "stream",
     "text": [
      "Total number of random sets: 800, GR_stat: 1.0128300392542124\n",
      "Total number of random sets: 900, GR_stat: 1.013219232665488\n",
      "Total number of random sets: 1000, GR_stat: 1.0107768168565767\n",
      "Total number of random sets: 1200, GR_stat: 1.0059487346106035\n",
      "Total number of random sets: 1300, GR_stat: 1.0074779171770747\n",
      "Total number of random sets: 1400, GR_stat: 1.004863553298431\n",
      "MCI score: 8994, Therehosld: 8991\n",
      "We have seen 1500 random subsets for each feature.\n"
     ]
    },
    {
     "name": "stderr",
     "output_type": "stream",
     "text": [
      "\r",
      " 32%|████████████████████████████████▉                                                                      | 32/100 [21:53<47:11, 41.64s/it]"
     ]
    },
    {
     "name": "stdout",
     "output_type": "stream",
     "text": [
      "Total number of random sets: 1000, GR_stat: 1.0070362075373218\n",
      "Total number of random sets: 1300, GR_stat: 1.005590248715996\n",
      "Total number of random sets: 1500, GR_stat: 1.004276546795165\n",
      "MCI score: 9000, Therehosld: 8991\n",
      "We have seen 1600 random subsets for each feature.\n"
     ]
    },
    {
     "name": "stderr",
     "output_type": "stream",
     "text": [
      "\r",
      " 33%|█████████████████████████████████▉                                                                     | 33/100 [22:39<47:58, 42.97s/it]"
     ]
    },
    {
     "name": "stdout",
     "output_type": "stream",
     "text": [
      "Total number of random sets: 900, GR_stat: 1.0054346658720337\n",
      "Total number of random sets: 1100, GR_stat: 1.0070041677824928\n",
      "Total number of random sets: 1500, GR_stat: 1.0034465618901731\n",
      "MCI score: 8992, Therehosld: 8991\n",
      "We have seen 1600 random subsets for each feature.\n"
     ]
    },
    {
     "name": "stderr",
     "output_type": "stream",
     "text": [
      "\r",
      " 34%|███████████████████████████████████                                                                    | 34/100 [23:25<48:18, 43.91s/it]"
     ]
    },
    {
     "name": "stdout",
     "output_type": "stream",
     "text": [
      "Total number of random sets: 800, GR_stat: 1.0140007688203232\n",
      "Total number of random sets: 1000, GR_stat: 1.006555087634423\n",
      "Total number of random sets: 1100, GR_stat: 1.0045008337498678\n",
      "MCI score: 8995, Therehosld: 8991\n",
      "We have seen 1200 random subsets for each feature.\n"
     ]
    },
    {
     "name": "stderr",
     "output_type": "stream",
     "text": [
      "\r",
      " 35%|████████████████████████████████████                                                                   | 35/100 [23:59<44:22, 40.97s/it]"
     ]
    },
    {
     "name": "stdout",
     "output_type": "stream",
     "text": [
      "Total number of random sets: 1000, GR_stat: 1.006624879063219\n",
      "Total number of random sets: 1100, GR_stat: 1.008065430621247\n",
      "Total number of random sets: 1200, GR_stat: 1.0070569627872823\n",
      "Total number of random sets: 1400, GR_stat: 1.0049284694054266\n",
      "MCI score: 8992, Therehosld: 8991\n",
      "We have seen 1500 random subsets for each feature.\n"
     ]
    },
    {
     "name": "stderr",
     "output_type": "stream",
     "text": [
      "\r",
      " 36%|█████████████████████████████████████                                                                  | 36/100 [24:42<44:23, 41.61s/it]"
     ]
    },
    {
     "name": "stdout",
     "output_type": "stream",
     "text": [
      "Total number of random sets: 900, GR_stat: 1.0078675014973795\n",
      "Total number of random sets: 1200, GR_stat: 1.0076672414058068\n",
      "Total number of random sets: 1300, GR_stat: 1.0064354907396365\n",
      "Total number of random sets: 1600, GR_stat: 1.0052223558632543\n",
      "Total number of random sets: 1700, GR_stat: 1.005095116691244\n",
      "Total number of random sets: 1800, GR_stat: 1.00393456407714\n",
      "MCI score: 8993, Therehosld: 8991\n",
      "We have seen 1900 random subsets for each feature.\n"
     ]
    },
    {
     "name": "stderr",
     "output_type": "stream",
     "text": [
      "\r",
      " 37%|██████████████████████████████████████                                                                 | 37/100 [25:37<47:56, 45.65s/it]"
     ]
    },
    {
     "name": "stdout",
     "output_type": "stream",
     "text": [
      "Total number of random sets: 900, GR_stat: 1.0090151813915036\n",
      "Total number of random sets: 1200, GR_stat: 1.0047550427490493\n",
      "MCI score: 8993, Therehosld: 8991\n",
      "We have seen 1300 random subsets for each feature.\n"
     ]
    },
    {
     "name": "stderr",
     "output_type": "stream",
     "text": [
      "\r",
      " 38%|███████████████████████████████████████▏                                                               | 38/100 [26:15<44:30, 43.07s/it]"
     ]
    },
    {
     "name": "stdout",
     "output_type": "stream",
     "text": [
      "Total number of random sets: 1100, GR_stat: 1.0053209653688533\n",
      "Total number of random sets: 1200, GR_stat: 1.006896753366532\n",
      "Total number of random sets: 1400, GR_stat: 1.006713174394029\n",
      "Total number of random sets: 1500, GR_stat: 1.0052295920555787\n",
      "Total number of random sets: 1600, GR_stat: 1.0052178216978378\n",
      "Total number of random sets: 1800, GR_stat: 1.0057214456913028\n",
      "Total number of random sets: 1900, GR_stat: 1.0057141301964463\n",
      "Total number of random sets: 2000, GR_stat: 1.0036650462482697\n",
      "MCI score: 8995, Therehosld: 8991\n",
      "We have seen 2100 random subsets for each feature.\n"
     ]
    },
    {
     "name": "stderr",
     "output_type": "stream",
     "text": [
      "\r",
      " 39%|████████████████████████████████████████▏                                                              | 39/100 [27:16<49:19, 48.51s/it]"
     ]
    },
    {
     "name": "stdout",
     "output_type": "stream",
     "text": [
      "Total number of random sets: 1000, GR_stat: 1.0063766740264017\n",
      "Total number of random sets: 1200, GR_stat: 1.0056766749362498\n",
      "Total number of random sets: 1300, GR_stat: 1.0057291336966163\n",
      "Total number of random sets: 1400, GR_stat: 1.004271972561659\n",
      "MCI score: 8994, Therehosld: 8991\n",
      "We have seen 1500 random subsets for each feature.\n"
     ]
    },
    {
     "name": "stderr",
     "output_type": "stream",
     "text": [
      "\r",
      " 40%|█████████████████████████████████████████▏                                                             | 40/100 [27:59<46:55, 46.92s/it]"
     ]
    },
    {
     "name": "stdout",
     "output_type": "stream",
     "text": [
      "Total number of random sets: 1100, GR_stat: 1.0047180104493543\n",
      "MCI score: 8995, Therehosld: 8991\n",
      "We have seen 1200 random subsets for each feature.\n"
     ]
    },
    {
     "name": "stderr",
     "output_type": "stream",
     "text": [
      "\r",
      " 41%|██████████████████████████████████████████▏                                                            | 41/100 [28:33<42:19, 43.04s/it]"
     ]
    },
    {
     "name": "stdout",
     "output_type": "stream",
     "text": [
      "Total number of random sets: 800, GR_stat: 1.0093354955782572\n",
      "Total number of random sets: 1000, GR_stat: 1.0057356230951604\n",
      "Total number of random sets: 1100, GR_stat: 1.0037797386575058\n",
      "MCI score: 8992, Therehosld: 8991\n",
      "We have seen 1200 random subsets for each feature.\n"
     ]
    },
    {
     "name": "stderr",
     "output_type": "stream",
     "text": [
      "\r",
      " 42%|███████████████████████████████████████████▎                                                           | 42/100 [29:07<38:58, 40.32s/it]"
     ]
    },
    {
     "name": "stdout",
     "output_type": "stream",
     "text": [
      "Total number of random sets: 1000, GR_stat: 1.0093877682492611\n",
      "Total number of random sets: 1100, GR_stat: 1.0078933102781082\n",
      "Total number of random sets: 1200, GR_stat: 1.0056420169113818\n",
      "Total number of random sets: 1300, GR_stat: 1.0087574342952057\n",
      "Total number of random sets: 1400, GR_stat: 1.0044338381826694\n",
      "MCI score: 8996, Therehosld: 8991\n",
      "We have seen 1500 random subsets for each feature.\n"
     ]
    },
    {
     "name": "stderr",
     "output_type": "stream",
     "text": [
      "\r",
      " 43%|████████████████████████████████████████████▎                                                          | 43/100 [29:50<39:06, 41.17s/it]"
     ]
    },
    {
     "name": "stdout",
     "output_type": "stream",
     "text": [
      "Total number of random sets: 900, GR_stat: 1.0119841227859199\n",
      "Total number of random sets: 1000, GR_stat: 1.0078779354648038\n",
      "Total number of random sets: 1100, GR_stat: 1.0076607955284196\n",
      "Total number of random sets: 1200, GR_stat: 1.0049612683811946\n",
      "MCI score: 8993, Therehosld: 8991\n",
      "We have seen 1300 random subsets for each feature.\n"
     ]
    },
    {
     "name": "stderr",
     "output_type": "stream",
     "text": [
      "\r",
      " 44%|█████████████████████████████████████████████▎                                                         | 44/100 [30:27<37:16, 39.93s/it]"
     ]
    },
    {
     "name": "stdout",
     "output_type": "stream",
     "text": [
      "Total number of random sets: 1000, GR_stat: 1.0052811585536783\n",
      "Total number of random sets: 1200, GR_stat: 1.0039163812595493\n",
      "MCI score: 8993, Therehosld: 8991\n",
      "We have seen 1300 random subsets for each feature.\n"
     ]
    },
    {
     "name": "stderr",
     "output_type": "stream",
     "text": [
      "\r",
      " 45%|██████████████████████████████████████████████▎                                                        | 45/100 [31:04<35:50, 39.10s/it]"
     ]
    },
    {
     "name": "stdout",
     "output_type": "stream",
     "text": [
      "Total number of random sets: 1100, GR_stat: 1.0086039679311227\n",
      "Total number of random sets: 1300, GR_stat: 1.0049826543686051\n",
      "MCI score: 8992, Therehosld: 8991\n",
      "We have seen 1400 random subsets for each feature.\n"
     ]
    },
    {
     "name": "stderr",
     "output_type": "stream",
     "text": [
      "\r",
      " 46%|███████████████████████████████████████████████▍                                                       | 46/100 [31:44<35:28, 39.42s/it]"
     ]
    },
    {
     "name": "stdout",
     "output_type": "stream",
     "text": [
      "Total number of random sets: 1000, GR_stat: 1.0058390505084347\n",
      "Total number of random sets: 1200, GR_stat: 1.007552809102338\n",
      "Total number of random sets: 1300, GR_stat: 1.0065631899146075\n",
      "Total number of random sets: 1400, GR_stat: 1.0057478686512473\n",
      "Total number of random sets: 1600, GR_stat: 1.0052168053300816\n",
      "Total number of random sets: 1700, GR_stat: 1.0051266134562757\n",
      "Total number of random sets: 1800, GR_stat: 1.004773957972231\n",
      "MCI score: 8997, Therehosld: 8991\n",
      "We have seen 1900 random subsets for each feature.\n"
     ]
    },
    {
     "name": "stderr",
     "output_type": "stream",
     "text": [
      "\r",
      " 47%|████████████████████████████████████████████████▍                                                      | 47/100 [32:40<39:02, 44.20s/it]"
     ]
    },
    {
     "name": "stdout",
     "output_type": "stream",
     "text": [
      "Total number of random sets: 1000, GR_stat: 1.004719196279967\n",
      "MCI score: 8992, Therehosld: 8991\n",
      "We have seen 1100 random subsets for each feature.\n"
     ]
    },
    {
     "name": "stderr",
     "output_type": "stream",
     "text": [
      "\r",
      " 48%|█████████████████████████████████████████████████▍                                                     | 48/100 [33:11<34:54, 40.28s/it]"
     ]
    },
    {
     "name": "stdout",
     "output_type": "stream",
     "text": [
      "Total number of random sets: 1200, GR_stat: 1.0052060198051977\n",
      "Total number of random sets: 1400, GR_stat: 1.0057772796979327\n",
      "Total number of random sets: 1500, GR_stat: 1.0061369238465345\n",
      "Total number of random sets: 1600, GR_stat: 1.0045724291319682\n",
      "MCI score: 9000, Therehosld: 8991\n",
      "We have seen 1700 random subsets for each feature.\n"
     ]
    },
    {
     "name": "stderr",
     "output_type": "stream",
     "text": [
      "\r",
      " 49%|██████████████████████████████████████████████████▍                                                    | 49/100 [34:00<36:31, 42.98s/it]"
     ]
    },
    {
     "name": "stdout",
     "output_type": "stream",
     "text": [
      "Total number of random sets: 800, GR_stat: 1.0046416597074337\n",
      "MCI score: 8993, Therehosld: 8991\n",
      "We have seen 900 random subsets for each feature.\n"
     ]
    },
    {
     "name": "stderr",
     "output_type": "stream",
     "text": [
      "\r",
      " 50%|███████████████████████████████████████████████████▌                                                   | 50/100 [34:25<31:20, 37.62s/it]"
     ]
    },
    {
     "name": "stdout",
     "output_type": "stream",
     "text": [
      "Total number of random sets: 1100, GR_stat: 1.0096101506353625\n",
      "Total number of random sets: 1200, GR_stat: 1.01047285422517\n",
      "Total number of random sets: 1300, GR_stat: 1.0036472446775884\n",
      "MCI score: 8993, Therehosld: 8991\n",
      "We have seen 1400 random subsets for each feature.\n"
     ]
    },
    {
     "name": "stderr",
     "output_type": "stream",
     "text": [
      "\r",
      " 51%|████████████████████████████████████████████████████▌                                                  | 51/100 [35:05<31:20, 38.38s/it]"
     ]
    },
    {
     "name": "stdout",
     "output_type": "stream",
     "text": [
      "Total number of random sets: 1000, GR_stat: 1.008657591160281\n",
      "Total number of random sets: 1200, GR_stat: 1.0049326957331912\n",
      "MCI score: 8992, Therehosld: 8991\n",
      "We have seen 1300 random subsets for each feature.\n"
     ]
    },
    {
     "name": "stderr",
     "output_type": "stream",
     "text": [
      "\r",
      " 52%|█████████████████████████████████████████████████████▌                                                 | 52/100 [35:43<30:26, 38.05s/it]"
     ]
    },
    {
     "name": "stdout",
     "output_type": "stream",
     "text": [
      "Total number of random sets: 900, GR_stat: 1.00735866381231\n",
      "Total number of random sets: 1100, GR_stat: 1.0056540922312776\n",
      "Total number of random sets: 1300, GR_stat: 1.0046762850536175\n",
      "MCI score: 8996, Therehosld: 8991\n",
      "We have seen 1400 random subsets for each feature.\n"
     ]
    },
    {
     "name": "stderr",
     "output_type": "stream",
     "text": [
      "\r",
      " 53%|██████████████████████████████████████████████████████▌                                                | 53/100 [36:23<30:18, 38.70s/it]"
     ]
    },
    {
     "name": "stdout",
     "output_type": "stream",
     "text": [
      "Total number of random sets: 1100, GR_stat: 1.0072291928884278\n",
      "Total number of random sets: 1200, GR_stat: 1.0070321067001857\n",
      "Total number of random sets: 1300, GR_stat: 1.0042779292195365\n",
      "MCI score: 8993, Therehosld: 8991\n",
      "We have seen 1400 random subsets for each feature.\n"
     ]
    },
    {
     "name": "stderr",
     "output_type": "stream",
     "text": [
      "\r",
      " 54%|███████████████████████████████████████████████████████▌                                               | 54/100 [37:03<30:01, 39.16s/it]"
     ]
    },
    {
     "name": "stdout",
     "output_type": "stream",
     "text": [
      "Total number of random sets: 1100, GR_stat: 1.0064163971218505\n",
      "Total number of random sets: 1300, GR_stat: 1.0102742723463514\n",
      "Total number of random sets: 1400, GR_stat: 1.0073444276212393\n",
      "Total number of random sets: 1600, GR_stat: 1.0042484020473819\n",
      "MCI score: 8993, Therehosld: 8991\n",
      "We have seen 1700 random subsets for each feature.\n"
     ]
    },
    {
     "name": "stderr",
     "output_type": "stream",
     "text": [
      "\r",
      " 55%|████████████████████████████████████████████████████████▋                                              | 55/100 [37:52<31:38, 42.18s/it]"
     ]
    },
    {
     "name": "stdout",
     "output_type": "stream",
     "text": [
      "Total number of random sets: 1000, GR_stat: 1.0090263173777572\n",
      "Total number of random sets: 1100, GR_stat: 1.0115498890663757\n",
      "Total number of random sets: 1200, GR_stat: 1.0071741949012616\n",
      "Total number of random sets: 1300, GR_stat: 1.0060213703485126\n",
      "Total number of random sets: 1500, GR_stat: 1.0057906183597156\n",
      "Total number of random sets: 1600, GR_stat: 1.0054017748844102\n",
      "Total number of random sets: 1700, GR_stat: 1.0026156612563062\n",
      "MCI score: 8994, Therehosld: 8991\n",
      "We have seen 1800 random subsets for each feature.\n"
     ]
    },
    {
     "name": "stderr",
     "output_type": "stream",
     "text": [
      "\r",
      " 56%|█████████████████████████████████████████████████████████▋                                             | 56/100 [38:45<33:10, 45.23s/it]"
     ]
    },
    {
     "name": "stdout",
     "output_type": "stream",
     "text": [
      "Total number of random sets: 700, GR_stat: 1.0133915160200955\n",
      "Total number of random sets: 900, GR_stat: 1.0071733464921147\n",
      "Total number of random sets: 1000, GR_stat: 1.0051084601629667\n",
      "Total number of random sets: 1100, GR_stat: 1.0064551303200007\n",
      "Total number of random sets: 1200, GR_stat: 1.007783906431058\n",
      "Total number of random sets: 1500, GR_stat: 1.005854915686357\n",
      "Total number of random sets: 1600, GR_stat: 1.0040790882074044\n",
      "MCI score: 8993, Therehosld: 8991\n",
      "We have seen 1700 random subsets for each feature.\n"
     ]
    },
    {
     "name": "stderr",
     "output_type": "stream",
     "text": [
      "\r",
      " 57%|██████████████████████████████████████████████████████████▋                                            | 57/100 [39:34<33:19, 46.50s/it]"
     ]
    },
    {
     "name": "stdout",
     "output_type": "stream",
     "text": [
      "Total number of random sets: 900, GR_stat: 1.0061673629270314\n",
      "Total number of random sets: 1000, GR_stat: 1.0043262714023382\n",
      "MCI score: 8992, Therehosld: 8991\n",
      "We have seen 1100 random subsets for each feature.\n"
     ]
    },
    {
     "name": "stderr",
     "output_type": "stream",
     "text": [
      "\r",
      " 58%|███████████████████████████████████████████████████████████▋                                           | 58/100 [40:05<29:21, 41.94s/it]"
     ]
    },
    {
     "name": "stdout",
     "output_type": "stream",
     "text": [
      "Total number of random sets: 1100, GR_stat: 1.0066947476340913\n",
      "Total number of random sets: 1200, GR_stat: 1.0072992661876883\n",
      "Total number of random sets: 1300, GR_stat: 1.00569485941703\n",
      "Total number of random sets: 1400, GR_stat: 1.004795997530395\n",
      "MCI score: 8995, Therehosld: 8991\n",
      "We have seen 1500 random subsets for each feature.\n"
     ]
    },
    {
     "name": "stderr",
     "output_type": "stream",
     "text": [
      "\r",
      " 59%|████████████████████████████████████████████████████████████▊                                          | 59/100 [40:49<28:57, 42.37s/it]"
     ]
    },
    {
     "name": "stdout",
     "output_type": "stream",
     "text": [
      "Total number of random sets: 800, GR_stat: 1.0113860092661386\n",
      "Total number of random sets: 1100, GR_stat: 1.007015312858583\n",
      "Total number of random sets: 1200, GR_stat: 1.0054776590358454\n",
      "Total number of random sets: 1500, GR_stat: 1.0052739261035402\n",
      "Total number of random sets: 1600, GR_stat: 1.0068566893693098\n",
      "Total number of random sets: 1700, GR_stat: 1.0042492206492943\n",
      "MCI score: 8998, Therehosld: 8991\n",
      "We have seen 1800 random subsets for each feature.\n"
     ]
    },
    {
     "name": "stderr",
     "output_type": "stream",
     "text": [
      "\r",
      " 60%|█████████████████████████████████████████████████████████████▊                                         | 60/100 [41:41<30:16, 45.42s/it]"
     ]
    },
    {
     "name": "stdout",
     "output_type": "stream",
     "text": [
      "Total number of random sets: 1000, GR_stat: 1.0058054534250649\n",
      "Total number of random sets: 1200, GR_stat: 1.0054766652538298\n",
      "Total number of random sets: 1500, GR_stat: 1.0049856944662445\n",
      "MCI score: 8995, Therehosld: 8991\n",
      "We have seen 1600 random subsets for each feature.\n"
     ]
    },
    {
     "name": "stderr",
     "output_type": "stream",
     "text": [
      "\r",
      " 61%|██████████████████████████████████████████████████████████████▊                                        | 61/100 [42:28<29:42, 45.71s/it]"
     ]
    },
    {
     "name": "stdout",
     "output_type": "stream",
     "text": [
      "Total number of random sets: 1100, GR_stat: 1.006502178554916\n",
      "Total number of random sets: 1300, GR_stat: 1.0048814451445818\n",
      "MCI score: 8994, Therehosld: 8991\n",
      "We have seen 1400 random subsets for each feature.\n"
     ]
    },
    {
     "name": "stderr",
     "output_type": "stream",
     "text": [
      "\r",
      " 62%|███████████████████████████████████████████████████████████████▊                                       | 62/100 [43:08<27:55, 44.09s/it]"
     ]
    },
    {
     "name": "stdout",
     "output_type": "stream",
     "text": [
      "Total number of random sets: 1000, GR_stat: 1.0065375264400336\n",
      "Total number of random sets: 1200, GR_stat: 1.0049924583183198\n",
      "MCI score: 8994, Therehosld: 8991\n",
      "We have seen 1300 random subsets for each feature.\n"
     ]
    },
    {
     "name": "stderr",
     "output_type": "stream",
     "text": [
      "\r",
      " 63%|████████████████████████████████████████████████████████████████▉                                      | 63/100 [43:46<25:58, 42.12s/it]"
     ]
    },
    {
     "name": "stdout",
     "output_type": "stream",
     "text": [
      "Total number of random sets: 900, GR_stat: 1.007553211852076\n",
      "Total number of random sets: 1100, GR_stat: 1.0064395810849676\n",
      "Total number of random sets: 1200, GR_stat: 1.0050029398751665\n",
      "Total number of random sets: 1300, GR_stat: 1.0050705172049612\n",
      "Total number of random sets: 1500, GR_stat: 1.0034823195882487\n",
      "MCI score: 8996, Therehosld: 8991\n",
      "We have seen 1600 random subsets for each feature.\n"
     ]
    },
    {
     "name": "stderr",
     "output_type": "stream",
     "text": [
      "\r",
      " 64%|█████████████████████████████████████████████████████████████████▉                                     | 64/100 [44:32<26:03, 43.42s/it]"
     ]
    },
    {
     "name": "stdout",
     "output_type": "stream",
     "text": [
      "Total number of random sets: 800, GR_stat: 1.007730949217636\n",
      "Total number of random sets: 1000, GR_stat: 1.0063519620489718\n",
      "Total number of random sets: 1100, GR_stat: 1.004456852689392\n",
      "MCI score: 8992, Therehosld: 8991\n",
      "We have seen 1200 random subsets for each feature.\n"
     ]
    },
    {
     "name": "stderr",
     "output_type": "stream",
     "text": [
      "\r",
      " 65%|██████████████████████████████████████████████████████████████████▉                                    | 65/100 [45:06<23:43, 40.67s/it]"
     ]
    },
    {
     "name": "stdout",
     "output_type": "stream",
     "text": [
      "Total number of random sets: 1000, GR_stat: 1.005592433637502\n",
      "Total number of random sets: 1200, GR_stat: 1.006222416088397\n",
      "Total number of random sets: 1300, GR_stat: 1.0052922688258976\n",
      "Total number of random sets: 1400, GR_stat: 1.0047093090122443\n",
      "MCI score: 8992, Therehosld: 8991\n",
      "We have seen 1500 random subsets for each feature.\n"
     ]
    },
    {
     "name": "stderr",
     "output_type": "stream",
     "text": [
      "\r",
      " 66%|███████████████████████████████████████████████████████████████████▉                                   | 66/100 [45:50<23:31, 41.50s/it]"
     ]
    },
    {
     "name": "stdout",
     "output_type": "stream",
     "text": [
      "Total number of random sets: 1000, GR_stat: 1.0074490555635232\n",
      "Total number of random sets: 1100, GR_stat: 1.0078441086691958\n",
      "Total number of random sets: 1500, GR_stat: 1.0050119115482898\n",
      "Total number of random sets: 1600, GR_stat: 1.0040638329573524\n",
      "MCI score: 8998, Therehosld: 8991\n",
      "We have seen 1700 random subsets for each feature.\n"
     ]
    },
    {
     "name": "stderr",
     "output_type": "stream",
     "text": [
      "\r",
      " 67%|█████████████████████████████████████████████████████████████████████                                  | 67/100 [46:39<24:08, 43.88s/it]"
     ]
    },
    {
     "name": "stdout",
     "output_type": "stream",
     "text": [
      "Total number of random sets: 700, GR_stat: 1.009253277399912\n",
      "Total number of random sets: 1000, GR_stat: 1.0064589204754237\n",
      "Total number of random sets: 1100, GR_stat: 1.008127336535541\n",
      "Total number of random sets: 1500, GR_stat: 1.00456827739429\n",
      "MCI score: 8992, Therehosld: 8991\n",
      "We have seen 1600 random subsets for each feature.\n"
     ]
    },
    {
     "name": "stderr",
     "output_type": "stream",
     "text": [
      "\r",
      " 68%|██████████████████████████████████████████████████████████████████████                                 | 68/100 [47:26<23:48, 44.64s/it]"
     ]
    },
    {
     "name": "stdout",
     "output_type": "stream",
     "text": [
      "Total number of random sets: 800, GR_stat: 1.0106189567104737\n",
      "Total number of random sets: 900, GR_stat: 1.0081206826274838\n",
      "Total number of random sets: 1300, GR_stat: 1.00778083199144\n",
      "Total number of random sets: 1400, GR_stat: 1.0040154209747498\n",
      "MCI score: 8998, Therehosld: 8991\n",
      "We have seen 1500 random subsets for each feature.\n"
     ]
    },
    {
     "name": "stderr",
     "output_type": "stream",
     "text": [
      "\r",
      " 69%|███████████████████████████████████████████████████████████████████████                                | 69/100 [48:09<22:49, 44.19s/it]"
     ]
    },
    {
     "name": "stdout",
     "output_type": "stream",
     "text": [
      "Total number of random sets: 700, GR_stat: 1.0129285700167243\n",
      "Total number of random sets: 900, GR_stat: 1.006648420080034\n",
      "Total number of random sets: 1200, GR_stat: 1.0061191230100834\n",
      "Total number of random sets: 1400, GR_stat: 1.004117603183246\n",
      "MCI score: 8992, Therehosld: 8991\n",
      "We have seen 1500 random subsets for each feature.\n"
     ]
    },
    {
     "name": "stderr",
     "output_type": "stream",
     "text": [
      "\r",
      " 70%|████████████████████████████████████████████████████████████████████████                               | 70/100 [48:52<21:57, 43.93s/it]"
     ]
    },
    {
     "name": "stdout",
     "output_type": "stream",
     "text": [
      "Total number of random sets: 800, GR_stat: 1.0092645549148556\n",
      "Total number of random sets: 900, GR_stat: 1.006312059698942\n",
      "Total number of random sets: 1000, GR_stat: 1.0075804890298656\n",
      "Total number of random sets: 1100, GR_stat: 1.0071701947224954\n",
      "Total number of random sets: 1200, GR_stat: 1.0038785945900799\n",
      "MCI score: 8993, Therehosld: 8991\n",
      "We have seen 1300 random subsets for each feature.\n"
     ]
    },
    {
     "name": "stderr",
     "output_type": "stream",
     "text": [
      "\r",
      " 71%|█████████████████████████████████████████████████████████████████████████▏                             | 71/100 [49:29<20:17, 41.97s/it]"
     ]
    },
    {
     "name": "stdout",
     "output_type": "stream",
     "text": [
      "Total number of random sets: 1200, GR_stat: 1.005627606085784\n",
      "Total number of random sets: 1500, GR_stat: 1.0049010054893257\n",
      "MCI score: 8995, Therehosld: 8991\n",
      "We have seen 1600 random subsets for each feature.\n"
     ]
    },
    {
     "name": "stderr",
     "output_type": "stream",
     "text": [
      "\r",
      " 72%|██████████████████████████████████████████████████████████████████████████▏                            | 72/100 [50:16<20:11, 43.28s/it]"
     ]
    },
    {
     "name": "stdout",
     "output_type": "stream",
     "text": [
      "Total number of random sets: 1100, GR_stat: 1.0059889767950503\n",
      "Total number of random sets: 1200, GR_stat: 1.0075443392217758\n",
      "Total number of random sets: 1400, GR_stat: 1.0049653445939186\n",
      "MCI score: 8995, Therehosld: 8991\n",
      "We have seen 1500 random subsets for each feature.\n"
     ]
    },
    {
     "name": "stderr",
     "output_type": "stream",
     "text": [
      "\r",
      " 73%|███████████████████████████████████████████████████████████████████████████▏                           | 73/100 [50:59<19:28, 43.27s/it]"
     ]
    },
    {
     "name": "stdout",
     "output_type": "stream",
     "text": [
      "Total number of random sets: 800, GR_stat: 1.0062206935622553\n",
      "Total number of random sets: 1100, GR_stat: 1.0093634734968469\n",
      "Total number of random sets: 1300, GR_stat: 1.007748074470051\n",
      "Total number of random sets: 1400, GR_stat: 1.0035260841122822\n",
      "MCI score: 8992, Therehosld: 8991\n",
      "We have seen 1500 random subsets for each feature.\n"
     ]
    },
    {
     "name": "stderr",
     "output_type": "stream",
     "text": [
      "\r",
      " 74%|████████████████████████████████████████████████████████████████████████████▏                          | 74/100 [51:42<18:46, 43.32s/it]"
     ]
    },
    {
     "name": "stdout",
     "output_type": "stream",
     "text": [
      "Total number of random sets: 800, GR_stat: 1.0099217474374167\n",
      "Total number of random sets: 900, GR_stat: 1.007667731612657\n",
      "Total number of random sets: 1000, GR_stat: 1.0070472616985249\n",
      "Total number of random sets: 1200, GR_stat: 1.0052387380406655\n",
      "Total number of random sets: 1300, GR_stat: 1.007744695014633\n",
      "Total number of random sets: 1400, GR_stat: 1.0068291654887298\n",
      "Total number of random sets: 1500, GR_stat: 1.0068628465686382\n",
      "Total number of random sets: 1600, GR_stat: 1.0048415028312365\n",
      "MCI score: 8996, Therehosld: 8991\n",
      "We have seen 1700 random subsets for each feature.\n"
     ]
    },
    {
     "name": "stderr",
     "output_type": "stream",
     "text": [
      "\r",
      " 75%|█████████████████████████████████████████████████████████████████████████████▎                         | 75/100 [52:34<19:02, 45.68s/it]"
     ]
    },
    {
     "name": "stdout",
     "output_type": "stream",
     "text": [
      "Total number of random sets: 900, GR_stat: 1.0086816803265486\n",
      "Total number of random sets: 1200, GR_stat: 1.0047161905491506\n",
      "MCI score: 8995, Therehosld: 8991\n",
      "We have seen 1300 random subsets for each feature.\n"
     ]
    },
    {
     "name": "stderr",
     "output_type": "stream",
     "text": [
      "\r",
      " 76%|██████████████████████████████████████████████████████████████████████████████▎                        | 76/100 [53:11<17:14, 43.11s/it]"
     ]
    },
    {
     "name": "stdout",
     "output_type": "stream",
     "text": [
      "Total number of random sets: 1000, GR_stat: 1.0062915674952215\n",
      "Total number of random sets: 1100, GR_stat: 1.0046757228124272\n",
      "MCI score: 8994, Therehosld: 8991\n",
      "We have seen 1200 random subsets for each feature.\n"
     ]
    },
    {
     "name": "stderr",
     "output_type": "stream",
     "text": [
      "\r",
      " 77%|███████████████████████████████████████████████████████████████████████████████▎                       | 77/100 [53:45<15:29, 40.43s/it]"
     ]
    },
    {
     "name": "stdout",
     "output_type": "stream",
     "text": [
      "Total number of random sets: 1100, GR_stat: 1.0109278217450002\n",
      "Total number of random sets: 1200, GR_stat: 1.0056035334481297\n",
      "Total number of random sets: 1300, GR_stat: 1.0080254325631723\n",
      "Total number of random sets: 1400, GR_stat: 1.005246513333484\n",
      "Total number of random sets: 1500, GR_stat: 1.0057769449039415\n",
      "Total number of random sets: 1700, GR_stat: 1.005861769681616\n",
      "Total number of random sets: 1800, GR_stat: 1.0039047333058941\n",
      "MCI score: 8998, Therehosld: 8991\n",
      "We have seen 1900 random subsets for each feature.\n"
     ]
    },
    {
     "name": "stderr",
     "output_type": "stream",
     "text": [
      "\r",
      " 78%|████████████████████████████████████████████████████████████████████████████████▎                      | 78/100 [54:41<16:30, 45.03s/it]"
     ]
    },
    {
     "name": "stdout",
     "output_type": "stream",
     "text": [
      "Total number of random sets: 800, GR_stat: 1.0069728499463206\n",
      "Total number of random sets: 900, GR_stat: 1.0124981423911867\n",
      "Total number of random sets: 1000, GR_stat: 1.0048831200538573\n",
      "MCI score: 8992, Therehosld: 8991\n",
      "We have seen 1100 random subsets for each feature.\n"
     ]
    },
    {
     "name": "stderr",
     "output_type": "stream",
     "text": [
      "\r",
      " 79%|█████████████████████████████████████████████████████████████████████████████████▎                     | 79/100 [55:12<14:21, 41.04s/it]"
     ]
    },
    {
     "name": "stdout",
     "output_type": "stream",
     "text": [
      "Total number of random sets: 1100, GR_stat: 1.0077169569495903\n",
      "Total number of random sets: 1300, GR_stat: 1.004594481509893\n",
      "MCI score: 8996, Therehosld: 8991\n",
      "We have seen 1400 random subsets for each feature.\n"
     ]
    },
    {
     "name": "stderr",
     "output_type": "stream",
     "text": [
      "\r",
      " 80%|██████████████████████████████████████████████████████████████████████████████████▍                    | 80/100 [55:55<13:52, 41.64s/it]"
     ]
    },
    {
     "name": "stdout",
     "output_type": "stream",
     "text": [
      "Total number of random sets: 1000, GR_stat: 1.007426740552583\n",
      "Total number of random sets: 1200, GR_stat: 1.007028402273243\n",
      "Total number of random sets: 1300, GR_stat: 1.0054646295649967\n",
      "Total number of random sets: 1500, GR_stat: 1.0064772376365259\n",
      "Total number of random sets: 1600, GR_stat: 1.0086337232168614\n",
      "Total number of random sets: 1700, GR_stat: 1.0038170852222257\n",
      "MCI score: 8998, Therehosld: 8991\n",
      "We have seen 1800 random subsets for each feature.\n"
     ]
    },
    {
     "name": "stderr",
     "output_type": "stream",
     "text": [
      "\r",
      " 81%|███████████████████████████████████████████████████████████████████████████████████▍                   | 81/100 [56:49<14:21, 45.34s/it]"
     ]
    },
    {
     "name": "stdout",
     "output_type": "stream",
     "text": [
      "Total number of random sets: 800, GR_stat: 1.0042188340160343\n",
      "MCI score: 8993, Therehosld: 8991\n",
      "We have seen 900 random subsets for each feature.\n"
     ]
    },
    {
     "name": "stderr",
     "output_type": "stream",
     "text": [
      "\r",
      " 82%|████████████████████████████████████████████████████████████████████████████████████▍                  | 82/100 [57:15<11:46, 39.25s/it]"
     ]
    },
    {
     "name": "stdout",
     "output_type": "stream",
     "text": [
      "Total number of random sets: 900, GR_stat: 1.0123566905978847\n",
      "Total number of random sets: 1000, GR_stat: 1.0081329039145295\n",
      "Total number of random sets: 1100, GR_stat: 1.0081566756795035\n",
      "Total number of random sets: 1200, GR_stat: 1.0065234268085084\n",
      "Total number of random sets: 1400, GR_stat: 1.0080306989372314\n",
      "Total number of random sets: 1500, GR_stat: 1.0060851442338952\n",
      "Total number of random sets: 1600, GR_stat: 1.0069485672234872\n",
      "Total number of random sets: 1700, GR_stat: 1.0044053592613222\n",
      "MCI score: 8997, Therehosld: 8991\n",
      "We have seen 1800 random subsets for each feature.\n"
     ]
    },
    {
     "name": "stderr",
     "output_type": "stream",
     "text": [
      "\r",
      " 83%|█████████████████████████████████████████████████████████████████████████████████████▍                 | 83/100 [58:07<12:13, 43.15s/it]"
     ]
    },
    {
     "name": "stdout",
     "output_type": "stream",
     "text": [
      "Total number of random sets: 800, GR_stat: 1.0064812472767513\n",
      "Total number of random sets: 1100, GR_stat: 1.0039334374285775\n",
      "MCI score: 8995, Therehosld: 8991\n",
      "We have seen 1200 random subsets for each feature.\n"
     ]
    },
    {
     "name": "stderr",
     "output_type": "stream",
     "text": [
      "\r",
      " 84%|██████████████████████████████████████████████████████████████████████████████████████▌                | 84/100 [58:41<10:46, 40.40s/it]"
     ]
    },
    {
     "name": "stdout",
     "output_type": "stream",
     "text": [
      "Total number of random sets: 900, GR_stat: 1.0099375444442142\n",
      "Total number of random sets: 1200, GR_stat: 1.006101127988267\n",
      "Total number of random sets: 1300, GR_stat: 1.003529292012474\n",
      "MCI score: 8996, Therehosld: 8991\n",
      "We have seen 1400 random subsets for each feature.\n"
     ]
    },
    {
     "name": "stderr",
     "output_type": "stream",
     "text": [
      "\r",
      " 85%|███████████████████████████████████████████████████████████████████████████████████████▌               | 85/100 [59:21<10:04, 40.28s/it]"
     ]
    },
    {
     "name": "stdout",
     "output_type": "stream",
     "text": [
      "Total number of random sets: 900, GR_stat: 1.0072337344213786\n",
      "Total number of random sets: 1100, GR_stat: 1.005425128313375\n",
      "Total number of random sets: 1300, GR_stat: 1.0043207605356668\n",
      "MCI score: 8997, Therehosld: 8991\n",
      "We have seen 1400 random subsets for each feature.\n"
     ]
    },
    {
     "name": "stderr",
     "output_type": "stream",
     "text": [
      "\r",
      " 86%|██████████████████████████████████████████████████████████████████████████████████████▊              | 86/100 [1:00:01<09:23, 40.24s/it]"
     ]
    },
    {
     "name": "stdout",
     "output_type": "stream",
     "text": [
      "Total number of random sets: 700, GR_stat: 1.0097635031198569\n",
      "Total number of random sets: 900, GR_stat: 1.0098278126897218\n",
      "Total number of random sets: 1100, GR_stat: 1.0124528689587509\n",
      "Total number of random sets: 1300, GR_stat: 1.0078936573474735\n",
      "Total number of random sets: 1400, GR_stat: 1.005576359394826\n",
      "Total number of random sets: 1500, GR_stat: 1.0049779164628057\n",
      "MCI score: 8993, Therehosld: 8991\n",
      "We have seen 1600 random subsets for each feature.\n"
     ]
    },
    {
     "name": "stderr",
     "output_type": "stream",
     "text": [
      "\r",
      " 87%|███████████████████████████████████████████████████████████████████████████████████████▊             | 87/100 [1:00:47<09:05, 42.00s/it]"
     ]
    },
    {
     "name": "stdout",
     "output_type": "stream",
     "text": [
      "Total number of random sets: 900, GR_stat: 1.0135979081733928\n",
      "Total number of random sets: 1100, GR_stat: 1.0120985783494052\n",
      "Total number of random sets: 1200, GR_stat: 1.0050515891209142\n",
      "Total number of random sets: 1400, GR_stat: 1.0076689946378454\n",
      "Total number of random sets: 1600, GR_stat: 1.00369047020329\n",
      "MCI score: 8993, Therehosld: 8991\n",
      "We have seen 1700 random subsets for each feature.\n"
     ]
    },
    {
     "name": "stderr",
     "output_type": "stream",
     "text": [
      "\r",
      " 88%|████████████████████████████████████████████████████████████████████████████████████████▉            | 88/100 [1:01:36<08:50, 44.19s/it]"
     ]
    },
    {
     "name": "stdout",
     "output_type": "stream",
     "text": [
      "Total number of random sets: 1300, GR_stat: 1.0052989256177236\n",
      "Total number of random sets: 1400, GR_stat: 1.007353165169779\n",
      "Total number of random sets: 1500, GR_stat: 1.0046979717868871\n",
      "MCI score: 8992, Therehosld: 8991\n",
      "We have seen 1600 random subsets for each feature.\n"
     ]
    },
    {
     "name": "stderr",
     "output_type": "stream",
     "text": [
      "\r",
      " 89%|█████████████████████████████████████████████████████████████████████████████████████████▉           | 89/100 [1:02:23<08:13, 44.86s/it]"
     ]
    },
    {
     "name": "stdout",
     "output_type": "stream",
     "text": [
      "Total number of random sets: 1000, GR_stat: 1.0047064046707457\n",
      "MCI score: 8992, Therehosld: 8991\n",
      "We have seen 1100 random subsets for each feature.\n"
     ]
    },
    {
     "name": "stderr",
     "output_type": "stream",
     "text": [
      "\r",
      " 90%|██████████████████████████████████████████████████████████████████████████████████████████▉          | 90/100 [1:02:54<06:47, 40.72s/it]"
     ]
    },
    {
     "name": "stdout",
     "output_type": "stream",
     "text": [
      "Total number of random sets: 700, GR_stat: 1.0109948790004202\n",
      "Total number of random sets: 1100, GR_stat: 1.0067111229580061\n",
      "Total number of random sets: 1300, GR_stat: 1.0081501055203057\n",
      "Total number of random sets: 1400, GR_stat: 1.0067147277190087\n",
      "Total number of random sets: 1500, GR_stat: 1.0060326861741458\n",
      "Total number of random sets: 1600, GR_stat: 1.0066356078152374\n",
      "Total number of random sets: 1700, GR_stat: 1.0061501537876119\n",
      "Total number of random sets: 1800, GR_stat: 1.0037593134606078\n",
      "MCI score: 8993, Therehosld: 8991\n",
      "We have seen 1900 random subsets for each feature.\n"
     ]
    },
    {
     "name": "stderr",
     "output_type": "stream",
     "text": [
      "\r",
      " 91%|███████████████████████████████████████████████████████████████████████████████████████████▉         | 91/100 [1:03:49<06:46, 45.20s/it]"
     ]
    },
    {
     "name": "stdout",
     "output_type": "stream",
     "text": [
      "Total number of random sets: 1000, GR_stat: 1.0047173068179414\n",
      "MCI score: 8996, Therehosld: 8991\n",
      "We have seen 1100 random subsets for each feature.\n"
     ]
    },
    {
     "name": "stderr",
     "output_type": "stream",
     "text": [
      "\r",
      " 92%|████████████████████████████████████████████████████████████████████████████████████████████▉        | 92/100 [1:04:21<05:28, 41.03s/it]"
     ]
    },
    {
     "name": "stdout",
     "output_type": "stream",
     "text": [
      "Total number of random sets: 900, GR_stat: 1.0092875776909251\n",
      "Total number of random sets: 1000, GR_stat: 1.0103462415477709\n",
      "Total number of random sets: 1100, GR_stat: 1.0101985708754728\n",
      "Total number of random sets: 1400, GR_stat: 1.0068364861120542\n",
      "Total number of random sets: 1500, GR_stat: 1.0074781074589774\n",
      "Total number of random sets: 1600, GR_stat: 1.004818440073797\n",
      "MCI score: 8995, Therehosld: 8991\n",
      "We have seen 1700 random subsets for each feature.\n"
     ]
    },
    {
     "name": "stderr",
     "output_type": "stream",
     "text": [
      "\r",
      " 93%|█████████████████████████████████████████████████████████████████████████████████████████████▉       | 93/100 [1:05:10<05:04, 43.46s/it]"
     ]
    },
    {
     "name": "stdout",
     "output_type": "stream",
     "text": [
      "Total number of random sets: 1100, GR_stat: 1.0071662611056678\n",
      "Total number of random sets: 1200, GR_stat: 1.0086900316445475\n",
      "Total number of random sets: 1300, GR_stat: 1.0043670688813946\n",
      "MCI score: 8993, Therehosld: 8991\n",
      "We have seen 1400 random subsets for each feature.\n"
     ]
    },
    {
     "name": "stderr",
     "output_type": "stream",
     "text": [
      "\r",
      " 94%|██████████████████████████████████████████████████████████████████████████████████████████████▉      | 94/100 [1:05:50<04:14, 42.45s/it]"
     ]
    },
    {
     "name": "stdout",
     "output_type": "stream",
     "text": [
      "Total number of random sets: 1100, GR_stat: 1.003973060542146\n",
      "MCI score: 8993, Therehosld: 8991\n",
      "We have seen 1200 random subsets for each feature.\n"
     ]
    },
    {
     "name": "stderr",
     "output_type": "stream",
     "text": [
      "\r",
      " 95%|███████████████████████████████████████████████████████████████████████████████████████████████▉     | 95/100 [1:06:24<03:19, 39.92s/it]"
     ]
    },
    {
     "name": "stdout",
     "output_type": "stream",
     "text": [
      "Total number of random sets: 800, GR_stat: 1.008444849280543\n",
      "Total number of random sets: 900, GR_stat: 1.0064157232148465\n",
      "Total number of random sets: 1100, GR_stat: 1.0056869199182892\n",
      "Total number of random sets: 1200, GR_stat: 1.0051277303063528\n",
      "Total number of random sets: 1300, GR_stat: 1.0048373893958606\n",
      "MCI score: 8996, Therehosld: 8991\n",
      "We have seen 1400 random subsets for each feature.\n"
     ]
    },
    {
     "name": "stderr",
     "output_type": "stream",
     "text": [
      "\r",
      " 96%|████████████████████████████████████████████████████████████████████████████████████████████████▉    | 96/100 [1:07:04<02:39, 39.94s/it]"
     ]
    },
    {
     "name": "stdout",
     "output_type": "stream",
     "text": [
      "Total number of random sets: 1100, GR_stat: 1.0092205575963789\n",
      "Total number of random sets: 1300, GR_stat: 1.0055889929043607\n",
      "Total number of random sets: 1400, GR_stat: 1.0064588035792439\n",
      "Total number of random sets: 1500, GR_stat: 1.0078000650767975\n",
      "Total number of random sets: 1600, GR_stat: 1.006022106626694\n",
      "Total number of random sets: 1700, GR_stat: 1.0039132931690509\n",
      "MCI score: 8995, Therehosld: 8991\n",
      "We have seen 1800 random subsets for each feature.\n"
     ]
    },
    {
     "name": "stderr",
     "output_type": "stream",
     "text": [
      "\r",
      " 97%|█████████████████████████████████████████████████████████████████████████████████████████████████▉   | 97/100 [1:07:56<02:10, 43.62s/it]"
     ]
    },
    {
     "name": "stdout",
     "output_type": "stream",
     "text": [
      "Total number of random sets: 1200, GR_stat: 1.0054921566102148\n",
      "Total number of random sets: 1400, GR_stat: 1.006068744292803\n",
      "Total number of random sets: 1500, GR_stat: 1.0061993194888494\n",
      "Total number of random sets: 1800, GR_stat: 1.0031908617613696\n",
      "MCI score: 8992, Therehosld: 8991\n",
      "We have seen 1900 random subsets for each feature.\n"
     ]
    },
    {
     "name": "stderr",
     "output_type": "stream",
     "text": [
      "\r",
      " 98%|██████████████████████████████████████████████████████████████████████████████████████████████████▉  | 98/100 [1:08:51<01:34, 47.02s/it]"
     ]
    },
    {
     "name": "stdout",
     "output_type": "stream",
     "text": [
      "Total number of random sets: 900, GR_stat: 1.0094353168998114\n",
      "Total number of random sets: 1000, GR_stat: 1.0094563759682555\n",
      "Total number of random sets: 1100, GR_stat: 1.0071679777960783\n",
      "Total number of random sets: 1300, GR_stat: 1.005408399269477\n",
      "Total number of random sets: 1400, GR_stat: 1.0050230627132186\n",
      "Total number of random sets: 1500, GR_stat: 1.0062869348950185\n",
      "Total number of random sets: 1600, GR_stat: 1.0050973762921742\n",
      "Total number of random sets: 1700, GR_stat: 1.0052930544017793\n",
      "Total number of random sets: 1800, GR_stat: 1.0058168302006578\n",
      "Total number of random sets: 1900, GR_stat: 1.0033974776564611\n",
      "MCI score: 8994, Therehosld: 8991\n",
      "We have seen 2000 random subsets for each feature.\n"
     ]
    },
    {
     "name": "stderr",
     "output_type": "stream",
     "text": [
      "\r",
      " 99%|███████████████████████████████████████████████████████████████████████████████████████████████████▉ | 99/100 [1:09:49<00:50, 50.39s/it]"
     ]
    },
    {
     "name": "stdout",
     "output_type": "stream",
     "text": [
      "Total number of random sets: 1100, GR_stat: 1.008063505728588\n",
      "Total number of random sets: 1300, GR_stat: 1.0047621261691417\n",
      "MCI score: 8994, Therehosld: 8991\n",
      "We have seen 1400 random subsets for each feature.\n"
     ]
    },
    {
     "name": "stderr",
     "output_type": "stream",
     "text": [
      "100%|████████████████████████████████████████████████████████████████████████████████████████████████████| 100/100 [1:10:29<00:00, 42.30s/it]\n"
     ]
    }
   ],
   "source": [
    "if not os.path.exists('fraud_example.pickle'):\n",
    "    # Train a surrogate model and generate a coalition function\n",
    "    # To efficiently estimate a conditional coalition function, we train a surrogate model. \n",
    "    conditional_extension=train.generate_coalition_function(model_to_explain, X_train, X_est, problem, ML_model)\n",
    "    \n",
    "    # With a surrogate model, we compute conditional expectations\n",
    "    exp_dict=weightedSHAPEngine.run_attribution_core(problem, ML_model,\n",
    "                                                     model_to_explain, conditional_extension,\n",
    "                                                     X_train, y_train,\n",
    "                                                     X_val, y_val, \n",
    "                                                     X_test, y_test)\n",
    "\n",
    "    with open('fraud_example.pickle', 'wb') as handle:\n",
    "        pickle.dump(exp_dict, handle, protocol=pickle.HIGHEST_PROTOCOL)\n",
    "else:\n",
    "    with open('fraud_example.pickle', 'rb') as handle:\n",
    "        exp_dict = pickle.load(handle)\n"
   ]
  },
  {
   "cell_type": "markdown",
   "id": "aea55d5e",
   "metadata": {},
   "source": [
    "## WeightedSHAP and Prediction recovery error curve \n",
    " - We obtain weightedSHAP (Equation (6) of the paper)\n",
    " \\begin{align*}\n",
    "    \\phi_{\\mathrm{WeightedSHAP}}(\\mathcal{T}, \\mathcal{W}) := \\phi_{\\mathbf{w}^* (\\mathcal{T}, \\mathcal{W})},\n",
    " \\end{align*} \n",
    " where $\\mathbf{w}^* (\\mathcal{T}, \\mathcal{W}) := \\mathrm{argmax}_{\\mathbf{w} \\in \\mathcal{W}} \\mathcal{T} (\\phi_{\\mathbf{w}})$.\n",
    " - A default implementation for $\\mathcal{T}$ includes the negative area under the prediction recovery error curve (AUP, Equation (4) of the paper) with `cond_pred_keep_absolute`. Note that `exp_dict` contains `remove_abolute` and `masking` as well."
   ]
  },
  {
   "cell_type": "code",
   "execution_count": 5,
   "id": "152c3f55",
   "metadata": {},
   "outputs": [],
   "source": [
    "y_test=np.array(exp_dict['true_list'])\n",
    "pred_list=np.array(exp_dict['pred_list'])\n",
    "cond_pred_keep_absolute=np.array(exp_dict['cond_pred_keep_absolute'])\n",
    "# Find a optimal weight and construct WeightedSHAP\n",
    "optimal_ind_keep_absolute_list=find_optimal_list(cond_pred_keep_absolute, pred_list) \n",
    "\n",
    "# {13:MCI, 6:SHAP}\n",
    "cond_pred_keep_absolute_short=np.array((cond_pred_keep_absolute[:,13,:],\n",
    "                                    cond_pred_keep_absolute[:,6,:],\n",
    "                                    cond_pred_keep_absolute[np.arange(len(optimal_ind_keep_absolute_list)),\n",
    "                                                            optimal_ind_keep_absolute_list,:])).transpose((1,0,2))\n",
    "recovery_curve_keep_absolute=np.mean(np.abs(cond_pred_keep_absolute_short - pred_list.reshape(-1,1,1)), axis=0)\n"
   ]
  },
  {
   "cell_type": "code",
   "execution_count": 6,
   "id": "4e4599f2",
   "metadata": {},
   "outputs": [
    {
     "data": {
      "text/plain": [
       "Text(0, 0.5, '$|f(x)-\\\\mathbb{E}[f(X) \\\\mid X_S = x_S]|$')"
      ]
     },
     "execution_count": 6,
     "metadata": {},
     "output_type": "execute_result"
    },
    {
     "data": {
      "image/png": "[encoded data removed]",
      "text/plain": [
       "<Figure size 432x288 with 1 Axes>"
      ]
     },
     "metadata": {
      "needs_background": "light"
     },
     "output_type": "display_data"
    }
   ],
   "source": [
    "n_features=len(recovery_curve_keep_absolute[0])\n",
    "n_display_features=int(n_features*0.6)\n",
    "\n",
    "plt.plot(recovery_curve_keep_absolute[0][max(1,int(n_features*0.075)):n_display_features],\n",
    "         label='MCI', color='blue', linewidth=2, alpha=0.6)\n",
    "plt.plot(recovery_curve_keep_absolute[1][max(1,int(n_features*0.075)):n_display_features],\n",
    "         label='Shapley', color='green', linewidth=2, alpha=0.6)\n",
    "plt.plot(recovery_curve_keep_absolute[2][max(1,int(n_features*0.075)):n_display_features],\n",
    "         label='WeightedSHAP', color='red', linewidth=2, alpha=0.6)\n",
    "plt.legend(fontsize=12)\n",
    "xlabel_text='Number of features added' \n",
    "plt.title(f'Prediction recovery error curve, Dataset: fraud \\n the lower, the better', fontsize=15)\n",
    "plt.xticks(np.arange(n_features)[max(1,int(n_features*0.075)):n_display_features][::n_display_features//6],\n",
    "               np.arange(n_features)[max(1,int(n_features*0.075)):n_display_features][::n_display_features//6])\n",
    "plt.xlabel(xlabel_text, fontsize=15)\n",
    "plt.ylabel(r'$|f(x)-\\mathbb{E}[f(X) \\mid X_S = x_S]|$', fontsize=15)\n",
    "    "
   ]
  },
  {
   "cell_type": "code",
   "execution_count": null,
   "id": "27c0199b",
   "metadata": {},
   "outputs": [],
   "source": []
  },
  {
   "cell_type": "code",
   "execution_count": null,
   "id": "6cb254a9",
   "metadata": {},
   "outputs": [],
   "source": []
  }
 ],
 "metadata": {
  "kernelspec": {
   "display_name": "Python 3 (ipykernel)",
   "language": "python",
   "name": "python3"
  },
  "language_info": {
   "codemirror_mode": {
    "name": "ipython",
    "version": 3
   },
   "file_extension": ".py",
   "mimetype": "text/x-python",
   "name": "python",
   "nbconvert_exporter": "python",
   "pygments_lexer": "ipython3",
   "version": "3.10.4"
  }
 },
 "nbformat": 4,
 "nbformat_minor": 5
}
