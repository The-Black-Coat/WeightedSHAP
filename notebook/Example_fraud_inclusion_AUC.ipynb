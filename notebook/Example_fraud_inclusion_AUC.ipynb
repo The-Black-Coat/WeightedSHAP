{
 "cells": [
  {
   "cell_type": "markdown",
   "id": "429d6ca6",
   "metadata": {},
   "source": [
    "# Example: WeightedSHAP on the fraud dataset\n",
    "\n",
    "- In this notebook, we introduce a generalized feature attribution method **weightedSHAP**."
   ]
  },
  {
   "cell_type": "code",
   "execution_count": null,
   "id": "9f99822a",
   "metadata": {},
   "outputs": [],
   "source": [
    "import sys, os\n",
    "import numpy as np\n",
    "import pickle \n",
    "np.random.seed(2022)\n",
    "import analysis_utils\n",
    "\n",
    "sys.path.append('../')\n",
    "import weightedSHAP"
   ]
  },
  {
   "cell_type": "markdown",
   "id": "157334be",
   "metadata": {},
   "source": [
    "## Load data\n",
    "- We use the fraud dataset (https://www.openml.org/search?type=data&status=active&id=42397).\n",
    "- A function `weightedSHAP.load_data` will load the `train`, `val`, `est`, and `test` datasets. \n",
    " - `train`: to train a model to explain\n",
    " - `val`: to optimize hyperparameters\n",
    " - `est`: to estimate coalition functions\n",
    " - `test`: to evaluate the quality of feature attributions "
   ]
  },
  {
   "cell_type": "code",
   "execution_count": null,
   "id": "36f9d991",
   "metadata": {},
   "outputs": [],
   "source": [
    "# Load dataset\n",
    "dir_path='./'\n",
    "problem='classification' \n",
    "dataset='fraud'\n",
    "ML_model='boosting' \n",
    "(X_train, y_train), (X_val, y_val), (X_est, y_est), (X_test, y_test)=weightedSHAP.load_data(problem, dataset, dir_path)    \n"
   ]
  },
  {
   "cell_type": "markdown",
   "id": "9d203fb7",
   "metadata": {},
   "source": [
    "## Train a model to explain\n",
    " - This step is a typical routine in machine learning. Given training and validation datasets, we train a model. Our goal is to interpret this model by looking a particular prediction (i.e., a local attribution problem)."
   ]
  },
  {
   "cell_type": "code",
   "execution_count": null,
   "id": "9e5c7be6",
   "metadata": {},
   "outputs": [],
   "source": [
    "# train a baseline model\n",
    "model_to_explain=weightedSHAP.create_model_to_explain(X_train, y_train, X_val, y_val, problem, ML_model)"
   ]
  },
  {
   "cell_type": "markdown",
   "id": "f59c30c7",
   "metadata": {},
   "source": [
    "## Compute attributions and evaluate its performance\n",
    "- `weightedSHAP.run_attribution_core` computes conditional expectation values $\\mathbb{E}[f(X) \\mid X_S = x_S]$ based on various weighted versions $\\phi_\\mathbf{w} (x_i) := \\sum_{j=1} ^{d} w_j \\Delta_{j}(x_i)$ of SHAP (Equation (5) of the paper). We consider a set $\\mathcal{W}$ which includes SHAP as well.\n",
    "- We store them in `exp_dict` which includes\n",
    " - `cond_pred_keep_absolute` (add features with large absolute values first)\n",
    " - `cond_pred_remove_absolute` (remove features with large absolute values first)\n",
    " - `pred_masking` (add features with large absolute values first and other featuers are masked with zero)."
   ]
  },
  {
   "cell_type": "code",
   "execution_count": 4,
   "id": "8c04071f",
   "metadata": {},
   "outputs": [],
   "source": [
    "if not os.path.exists(f'{dir_path}/fraud_example.pickle'):\n",
    "    # Generate a conditional coalition function\n",
    "    # To efficiently obtain a conditional coalition function, it internally trains a surrogate model. \n",
    "    conditional_extension=weightedSHAP.generate_coalition_function(model_to_explain, X_train, X_est, problem, ML_model)\n",
    "    \n",
    "    # With the conditional coalition function, we compute attributions\n",
    "    exp_dict=weightedSHAP.compute_attributions(problem, ML_model,\n",
    "                                                 model_to_explain, conditional_extension,\n",
    "                                                 X_train, y_train,\n",
    "                                                 X_val, y_val, \n",
    "                                                 X_test, y_test)\n",
    "\n",
    "    with open(f'{dir_path}/fraud_example.pickle', 'wb') as handle:\n",
    "        pickle.dump(exp_dict, handle, protocol=pickle.HIGHEST_PROTOCOL)\n",
    "else:\n",
    "    with open(f'{dir_path}/fraud_example.pickle', 'rb') as handle:\n",
    "        exp_dict = pickle.load(handle)\n"
   ]
  },
  {
   "cell_type": "markdown",
   "id": "aea55d5e",
   "metadata": {},
   "source": [
    "## WeightedSHAP and Prediction recovery error curve \n",
    " - We obtain weightedSHAP (Equation (6) of the paper)\n",
    " \\begin{align*}\n",
    "    \\phi_{\\mathrm{WeightedSHAP}}(\\mathcal{T}, \\mathcal{W}) := \\phi_{\\mathbf{w}^* (\\mathcal{T}, \\mathcal{W})},\n",
    " \\end{align*} \n",
    " where $\\mathbf{w}^* (\\mathcal{T}, \\mathcal{W}) := \\mathrm{argmax}_{\\mathbf{w} \\in \\mathcal{W}} \\mathcal{T} (\\phi_{\\mathbf{w}})$.\n",
    " - A default implementation for $\\mathcal{T}$ includes the negative area under the prediction recovery error curve (AUP, Equation (4) of the paper) with `cond_pred_keep_absolute`. Note that `exp_dict` contains `remove_abolute` and `masking` as well."
   ]
  },
  {
   "cell_type": "code",
   "execution_count": 5,
   "id": "a94ffbd0",
   "metadata": {},
   "outputs": [
    {
     "data": {
      "text/plain": [
       "dict_keys(['true_list', 'pred_list', 'cond_pred_keep_absolute', 'cond_pred_remove_absolute', 'pred_masking'])"
      ]
     },
     "execution_count": 5,
     "metadata": {},
     "output_type": "execute_result"
    }
   ],
   "source": [
    "exp_dict.keys()"
   ]
  },
  {
   "cell_type": "code",
   "execution_count": null,
   "id": "0c5c98dc",
   "metadata": {},
   "outputs": [],
   "source": []
  },
  {
   "cell_type": "code",
   "execution_count": null,
   "id": "152c3f55",
   "metadata": {},
   "outputs": [],
   "source": [
    "y_test=np.array(exp_dict['true_list'])\n",
    "pred_list=np.array(exp_dict['pred_list'])\n",
    "cond_pred_keep_absolute=np.array(exp_dict['cond_pred_keep_absolute'])\n",
    "\n",
    "# Find a optimal weight and construct WeightedSHAP\n",
    "optimal_ind_keep_absolute_list=analysis_utils.find_optimal_list(cond_pred_keep_absolute, pred_list) \n",
    "\n",
    "# {13:MCI, 6:SHAP}\n",
    "cond_pred_keep_absolute_short=np.array((cond_pred_keep_absolute[:,13,:],\n",
    "                                        cond_pred_keep_absolute[:,6,:],\n",
    "                                        cond_pred_keep_absolute[np.arange(len(optimal_ind_keep_absolute_list)),\n",
    "                                        optimal_ind_keep_absolute_list,:])).transpose((1,0,2))\n",
    "recovery_curve_keep_absolute=np.mean(np.abs(cond_pred_keep_absolute_short - pred_list.reshape(-1,1,1)), axis=0)\n"
   ]
  },
  {
   "cell_type": "code",
   "execution_count": null,
   "id": "4e4599f2",
   "metadata": {},
   "outputs": [],
   "source": [
    "n_features=len(recovery_curve_keep_absolute[0])\n",
    "n_display_features=int(n_features*0.6)\n",
    "\n",
    "plt.plot(recovery_curve_keep_absolute[0][max(1,int(n_features*0.075)):n_display_features],\n",
    "         label='MCI', color='blue', linewidth=2, alpha=0.6)\n",
    "plt.plot(recovery_curve_keep_absolute[1][max(1,int(n_features*0.075)):n_display_features],\n",
    "         label='Shapley', color='green', linewidth=2, alpha=0.6)\n",
    "plt.plot(recovery_curve_keep_absolute[2][max(1,int(n_features*0.075)):n_display_features],\n",
    "         label='WeightedSHAP', color='red', linewidth=2, alpha=0.6)\n",
    "plt.legend(fontsize=12)\n",
    "xlabel_text='Number of features added' \n",
    "plt.title(f'Prediction recovery error curve, Dataset: fraud \\n the lower, the better', fontsize=15)\n",
    "plt.xticks(np.arange(n_features)[max(1,int(n_features*0.075)):n_display_features][::n_display_features//6],\n",
    "               np.arange(n_features)[max(1,int(n_features*0.075)):n_display_features][::n_display_features//6])\n",
    "plt.xlabel(xlabel_text, fontsize=15)\n",
    "plt.ylabel(r'$|f(x)-\\mathbb{E}[f(X) \\mid X_S = x_S]|$', fontsize=15)\n",
    "    "
   ]
  },
  {
   "cell_type": "code",
   "execution_count": null,
   "id": "27c0199b",
   "metadata": {},
   "outputs": [],
   "source": []
  },
  {
   "cell_type": "code",
   "execution_count": null,
   "id": "6cb254a9",
   "metadata": {},
   "outputs": [],
   "source": []
  }
 ],
 "metadata": {
  "kernelspec": {
   "display_name": "Python 3 (ipykernel)",
   "language": "python",
   "name": "python3"
  },
  "language_info": {
   "codemirror_mode": {
    "name": "ipython",
    "version": 3
   },
   "file_extension": ".py",
   "mimetype": "text/x-python",
   "name": "python",
   "nbconvert_exporter": "python",
   "pygments_lexer": "ipython3",
   "version": "3.10.4"
  }
 },
 "nbformat": 4,
 "nbformat_minor": 5
}
