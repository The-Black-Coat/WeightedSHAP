{
 "cells": [
  {
   "cell_type": "markdown",
   "id": "429d6ca6",
   "metadata": {},
   "source": [
    "# Example: WeightedSHAP on the fraud dataset\n",
    "\n",
    "- In this notebook, we introduce a generalized feature attribution method **weightedSHAP**."
   ]
  },
  {
   "cell_type": "code",
   "execution_count": 1,
   "id": "9f99822a",
   "metadata": {},
   "outputs": [],
   "source": [
    "import sys, os\n",
    "import numpy as np\n",
    "import pickle \n",
    "np.random.seed(2022)\n",
    "sys.path.append('../')\n",
    "import weightedSHAP"
   ]
  },
  {
   "cell_type": "markdown",
   "id": "157334be",
   "metadata": {},
   "source": [
    "## Load data\n",
    "- We use the fraud dataset (https://www.openml.org/search?type=data&status=active&id=42397).\n",
    "- A function `weightedSHAP.load_data` will load the `train`, `val`, `est`, and `test` datasets. \n",
    " - `train`: to train a model to explain\n",
    " - `val`: to optimize hyperparameters\n",
    " - `est`: to estimate coalition functions\n",
    " - `test`: to evaluate the quality of feature attributions "
   ]
  },
  {
   "cell_type": "code",
   "execution_count": 2,
   "id": "36f9d991",
   "metadata": {},
   "outputs": [
    {
     "name": "stdout",
     "output_type": "stream",
     "text": [
      "------------------------------\n",
      "Load a dataset\n",
      "------------------------------\n",
      "--------------------------------------------------\n",
      "Fraud Detection\n",
      "--------------------------------------------------\n",
      "------------------------------\n",
      "Before adding noise\n",
      "Shape of X_train, X_val, X_est, X_test: (13310, 30), (1902, 30), (1902, 30), (1902, 30)\n",
      "------------------------------\n",
      "Rho: 0.0388\n",
      "After adding noise\n",
      "Shape of X_train, X_val, X_est, X_test: (13310, 90), (1902, 90), (1902, 90), (1902, 90)\n",
      "------------------------------\n"
     ]
    }
   ],
   "source": [
    "# Load dataset\n",
    "dir_path='./'\n",
    "problem='classification' \n",
    "dataset='fraud'\n",
    "ML_model='boosting' \n",
    "(X_train, y_train), (X_val, y_val), (X_est, y_est), (X_test, y_test)=weightedSHAP.load_data(problem, dataset, dir_path)    \n"
   ]
  },
  {
   "cell_type": "markdown",
   "id": "9d203fb7",
   "metadata": {},
   "source": [
    "## Train a model to explain\n",
    " - This step is a typical routine in machine learning. Given training and validation datasets, we train a model. Our goal is to interpret this model by looking a particular prediction (i.e., a local attribution problem)."
   ]
  },
  {
   "cell_type": "code",
   "execution_count": 3,
   "id": "9e5c7be6",
   "metadata": {},
   "outputs": [
    {
     "name": "stdout",
     "output_type": "stream",
     "text": [
      "------------------------------\n",
      "Train a model\n",
      "Train a model to explain: Boosting\n",
      "Training until validation scores don't improve for 25 rounds\n",
      "Early stopping, best iteration is:\n",
      "[12]\tvalid_0's binary_logloss: 0.646885\tvalid_0's binary_error: 0.0320715\n",
      "Elapsed time for training a model to explain: 0.53 seconds\n",
      "------------------------------\n"
     ]
    }
   ],
   "source": [
    "# train a baseline model\n",
    "model_to_explain=weightedSHAP.create_model_to_explain(X_train, y_train, X_val, y_val, problem, ML_model)"
   ]
  },
  {
   "cell_type": "markdown",
   "id": "f59c30c7",
   "metadata": {},
   "source": [
    "## Compute WeightedSHAP \n",
    "- `weightedSHAP.generate_coalition_function` creates a conditional coalition function that computes conditional expectation values $\\mathbb{E}[f(X) \\mid X_S = x_S]$.\n",
    "- `weightedSHAP.compute_attributions` computes WeightedSHAP \n",
    " \\begin{align*}\n",
    "    \\phi_{\\mathrm{WeightedSHAP}}(\\mathcal{T}, \\mathcal{W}) := \\phi_{\\mathbf{w}^* (\\mathcal{T}, \\mathcal{W})},\n",
    " \\end{align*} \n",
    "  where $\\mathbf{w}^* (\\mathcal{T}, \\mathcal{W}) := \\mathrm{argmax}_{\\mathbf{w} \\in \\mathcal{W}} \\mathcal{T} (\\phi_{\\mathbf{w}})$. By default, a set $\\mathcal{W}$ includes SHAP and $\\mathcal{T}$ is the negative area under the prediction recovery error curve (AUP, Equation (4) of the paper)."
   ]
  },
  {
   "cell_type": "code",
   "execution_count": 4,
   "id": "8c04071f",
   "metadata": {},
   "outputs": [
    {
     "name": "stdout",
     "output_type": "stream",
     "text": [
      "Elapsed time for training a surrogate model: 293.12 seconds\n"
     ]
    },
    {
     "name": "stderr",
     "output_type": "stream",
     "text": [
      "\r",
      "  0%|                                                                                                                | 0/100 [00:00<?, ?it/s]"
     ]
    },
    {
     "name": "stdout",
     "output_type": "stream",
     "text": [
      "Total number of random sets: 200, GR_stat: 1.0849638079833122\n",
      "Total number of random sets: 300, GR_stat: 1.0266011693579467\n",
      "Total number of random sets: 400, GR_stat: 1.019406835060561\n",
      "Total number of random sets: 500, GR_stat: 1.0144173368531912\n",
      "Total number of random sets: 600, GR_stat: 1.0098584520345955\n",
      "Total number of random sets: 700, GR_stat: 1.0083459923116076\n",
      "Total number of random sets: 800, GR_stat: 1.0068965919301647\n",
      "Total number of random sets: 900, GR_stat: 1.0041941707407975\n",
      "Therehosld: 8991\n",
      "We have seen 1000 random subsets for each feature.\n"
     ]
    },
    {
     "name": "stderr",
     "output_type": "stream",
     "text": [
      "\r",
      "  1%|█                                                                                                       | 1/100 [00:10<18:03, 10.95s/it]"
     ]
    },
    {
     "name": "stdout",
     "output_type": "stream",
     "text": [
      "Total number of random sets: 200, GR_stat: 1.0300265469592411\n",
      "Total number of random sets: 300, GR_stat: 1.0214152098249112\n",
      "Total number of random sets: 400, GR_stat: 1.017614183771613\n",
      "Total number of random sets: 500, GR_stat: 1.0223497351104989\n",
      "Total number of random sets: 600, GR_stat: 1.016632954374027\n",
      "Total number of random sets: 700, GR_stat: 1.0116764309028885\n",
      "Total number of random sets: 800, GR_stat: 1.0091787271995212\n",
      "Total number of random sets: 900, GR_stat: 1.0065439349615792\n",
      "Total number of random sets: 1000, GR_stat: 1.008881444627746\n",
      "Total number of random sets: 1100, GR_stat: 1.007117557250145\n",
      "Total number of random sets: 1200, GR_stat: 1.006991523954771\n",
      "Total number of random sets: 1300, GR_stat: 1.0057853518862097\n",
      "Total number of random sets: 1400, GR_stat: 1.00722117765096\n",
      "Total number of random sets: 1500, GR_stat: 1.0066207531111393\n",
      "Total number of random sets: 1600, GR_stat: 1.0036375759158438\n",
      "Therehosld: 8991\n",
      "We have seen 1700 random subsets for each feature.\n"
     ]
    },
    {
     "name": "stderr",
     "output_type": "stream",
     "text": [
      "\r",
      "  2%|██                                                                                                      | 2/100 [00:30<25:45, 15.77s/it]"
     ]
    },
    {
     "name": "stdout",
     "output_type": "stream",
     "text": [
      "Total number of random sets: 200, GR_stat: 1.0330201245560617\n",
      "Total number of random sets: 300, GR_stat: 1.0255853713502312\n",
      "Total number of random sets: 400, GR_stat: 1.0203404385872095\n",
      "Total number of random sets: 500, GR_stat: 1.0143619196009244\n",
      "Total number of random sets: 600, GR_stat: 1.012240260221126\n",
      "Total number of random sets: 700, GR_stat: 1.0100881432416742\n",
      "Total number of random sets: 800, GR_stat: 1.0099043763144457\n",
      "Total number of random sets: 900, GR_stat: 1.0109569337660782\n",
      "Total number of random sets: 1000, GR_stat: 1.008920420973148\n",
      "Total number of random sets: 1100, GR_stat: 1.0083601690784045\n",
      "Total number of random sets: 1200, GR_stat: 1.0060426662355133\n",
      "Total number of random sets: 1300, GR_stat: 1.004211416313171\n",
      "Therehosld: 8991\n",
      "We have seen 1400 random subsets for each feature.\n"
     ]
    },
    {
     "name": "stderr",
     "output_type": "stream",
     "text": [
      "\r",
      "  3%|███                                                                                                     | 3/100 [00:45<25:25, 15.73s/it]"
     ]
    },
    {
     "name": "stdout",
     "output_type": "stream",
     "text": [
      "Total number of random sets: 200, GR_stat: 1.0381904659526537\n",
      "Total number of random sets: 300, GR_stat: 1.0267001458333354\n",
      "Total number of random sets: 400, GR_stat: 1.027435124014517\n",
      "Total number of random sets: 500, GR_stat: 1.0282110489438825\n",
      "Total number of random sets: 600, GR_stat: 1.0138997273840138\n",
      "Total number of random sets: 700, GR_stat: 1.0173036242313584\n",
      "Total number of random sets: 800, GR_stat: 1.0180653423764041\n",
      "Total number of random sets: 900, GR_stat: 1.0105655890504661\n",
      "Total number of random sets: 1000, GR_stat: 1.0076977002927778\n",
      "Total number of random sets: 1100, GR_stat: 1.009928963245134\n",
      "Total number of random sets: 1200, GR_stat: 1.0068058007445402\n",
      "Total number of random sets: 1300, GR_stat: 1.0059182696737643\n",
      "Total number of random sets: 1400, GR_stat: 1.0073837021433194\n",
      "Total number of random sets: 1500, GR_stat: 1.0055403851153915\n",
      "Total number of random sets: 1600, GR_stat: 1.004625237177519\n",
      "Therehosld: 8991\n",
      "We have seen 1700 random subsets for each feature.\n"
     ]
    },
    {
     "name": "stderr",
     "output_type": "stream",
     "text": [
      "\r",
      "  4%|████▏                                                                                                   | 4/100 [01:05<27:23, 17.12s/it]"
     ]
    },
    {
     "name": "stdout",
     "output_type": "stream",
     "text": [
      "Total number of random sets: 200, GR_stat: 1.039534350926342\n",
      "Total number of random sets: 300, GR_stat: 1.0297032116574174\n",
      "Total number of random sets: 400, GR_stat: 1.0160773467367168\n",
      "Total number of random sets: 500, GR_stat: 1.0105146505047704\n",
      "Total number of random sets: 600, GR_stat: 1.0108086283823032\n",
      "Total number of random sets: 700, GR_stat: 1.0087046914134128\n",
      "Total number of random sets: 800, GR_stat: 1.0072413230066541\n",
      "Total number of random sets: 900, GR_stat: 1.0078985013223678\n",
      "Total number of random sets: 1000, GR_stat: 1.0060371247230593\n",
      "Total number of random sets: 1100, GR_stat: 1.0060488939518484\n",
      "Total number of random sets: 1200, GR_stat: 1.0054246056747984\n",
      "Total number of random sets: 1300, GR_stat: 1.004585836351337\n",
      "Therehosld: 8991\n",
      "We have seen 1400 random subsets for each feature.\n"
     ]
    },
    {
     "name": "stderr",
     "output_type": "stream",
     "text": [
      "\r",
      "  5%|█████▏                                                                                                  | 5/100 [01:20<26:16, 16.59s/it]"
     ]
    },
    {
     "name": "stdout",
     "output_type": "stream",
     "text": [
      "Total number of random sets: 200, GR_stat: 1.0356652737628567\n",
      "Total number of random sets: 300, GR_stat: 1.0269488407054044\n",
      "Total number of random sets: 400, GR_stat: 1.0201806686313524\n",
      "Total number of random sets: 500, GR_stat: 1.0169813942075543\n",
      "Total number of random sets: 600, GR_stat: 1.0134373566459243\n",
      "Total number of random sets: 700, GR_stat: 1.0160538840617217\n",
      "Total number of random sets: 800, GR_stat: 1.0086643925020151\n",
      "Total number of random sets: 900, GR_stat: 1.0078128885696074\n",
      "Total number of random sets: 1000, GR_stat: 1.006867611309011\n",
      "Total number of random sets: 1100, GR_stat: 1.007711806294734\n",
      "Total number of random sets: 1200, GR_stat: 1.009086669600752\n",
      "Total number of random sets: 1300, GR_stat: 1.0066277309017648\n",
      "Total number of random sets: 1400, GR_stat: 1.006054801635959\n",
      "Total number of random sets: 1500, GR_stat: 1.0051012089858684\n",
      "Total number of random sets: 1600, GR_stat: 1.0052545724973185\n",
      "Total number of random sets: 1700, GR_stat: 1.004018325544387\n",
      "Therehosld: 8991\n",
      "We have seen 1800 random subsets for each feature.\n"
     ]
    },
    {
     "name": "stderr",
     "output_type": "stream",
     "text": [
      "\r",
      "  6%|██████▏                                                                                                 | 6/100 [01:41<28:01, 17.89s/it]"
     ]
    },
    {
     "name": "stdout",
     "output_type": "stream",
     "text": [
      "Total number of random sets: 200, GR_stat: 1.0529960169812598\n",
      "Total number of random sets: 300, GR_stat: 1.0270798040094684\n",
      "Total number of random sets: 400, GR_stat: 1.0173151369037123\n",
      "Total number of random sets: 500, GR_stat: 1.0108165737584969\n",
      "Total number of random sets: 600, GR_stat: 1.013879480874948\n",
      "Total number of random sets: 700, GR_stat: 1.0105848285614605\n",
      "Total number of random sets: 800, GR_stat: 1.0088764988648713\n",
      "Total number of random sets: 900, GR_stat: 1.008783072492473\n",
      "Total number of random sets: 1000, GR_stat: 1.0066783332330942\n",
      "Total number of random sets: 1100, GR_stat: 1.0045205473088288\n",
      "Therehosld: 8991\n",
      "We have seen 1200 random subsets for each feature.\n"
     ]
    },
    {
     "name": "stderr",
     "output_type": "stream",
     "text": [
      "\r",
      "  7%|███████▎                                                                                                | 7/100 [01:54<25:26, 16.41s/it]"
     ]
    },
    {
     "name": "stdout",
     "output_type": "stream",
     "text": [
      "Total number of random sets: 200, GR_stat: 1.0385117793931664\n",
      "Total number of random sets: 300, GR_stat: 1.0206161202654096\n",
      "Total number of random sets: 400, GR_stat: 1.0337745892052252\n",
      "Total number of random sets: 500, GR_stat: 1.0118762391666674\n",
      "Total number of random sets: 600, GR_stat: 1.0128168087931242\n",
      "Total number of random sets: 700, GR_stat: 1.0072706824349889\n",
      "Total number of random sets: 800, GR_stat: 1.0136414734228845\n",
      "Total number of random sets: 900, GR_stat: 1.0073788831283037\n",
      "Total number of random sets: 1000, GR_stat: 1.0058534868889433\n",
      "Total number of random sets: 1100, GR_stat: 1.0088068797201102\n",
      "Total number of random sets: 1200, GR_stat: 1.0058499995561434\n",
      "Total number of random sets: 1300, GR_stat: 1.0061737137635671\n",
      "Total number of random sets: 1400, GR_stat: 1.0054259523874758\n",
      "Total number of random sets: 1500, GR_stat: 1.0046408456400917\n",
      "Therehosld: 8991\n",
      "We have seen 1600 random subsets for each feature.\n"
     ]
    },
    {
     "name": "stderr",
     "output_type": "stream",
     "text": [
      "\r",
      "  8%|████████▎                                                                                               | 8/100 [02:12<25:56, 16.92s/it]"
     ]
    },
    {
     "name": "stdout",
     "output_type": "stream",
     "text": [
      "Total number of random sets: 200, GR_stat: 1.0364343628253\n",
      "Total number of random sets: 300, GR_stat: 1.0232827299283518\n",
      "Total number of random sets: 400, GR_stat: 1.0129185108395253\n",
      "Total number of random sets: 500, GR_stat: 1.0205106676643452\n",
      "Total number of random sets: 600, GR_stat: 1.0136690508776496\n",
      "Total number of random sets: 700, GR_stat: 1.0084061187071311\n",
      "Total number of random sets: 800, GR_stat: 1.007975915047365\n",
      "Total number of random sets: 900, GR_stat: 1.0077826374512713\n",
      "Total number of random sets: 1000, GR_stat: 1.0043300693351984\n",
      "Therehosld: 8991\n",
      "We have seen 1100 random subsets for each feature.\n"
     ]
    },
    {
     "name": "stderr",
     "output_type": "stream",
     "text": [
      "\r",
      "  9%|█████████▎                                                                                              | 9/100 [02:24<23:22, 15.41s/it]"
     ]
    },
    {
     "name": "stdout",
     "output_type": "stream",
     "text": [
      "Total number of random sets: 200, GR_stat: 1.0287892427438563\n",
      "Total number of random sets: 300, GR_stat: 1.0186749264433563\n",
      "Total number of random sets: 400, GR_stat: 1.0169136444612965\n",
      "Total number of random sets: 500, GR_stat: 1.0164675062807693\n",
      "Total number of random sets: 600, GR_stat: 1.0171238647417868\n",
      "Total number of random sets: 700, GR_stat: 1.0128167410755768\n",
      "Total number of random sets: 800, GR_stat: 1.012071482917969\n",
      "Total number of random sets: 900, GR_stat: 1.010245478702619\n",
      "Total number of random sets: 1000, GR_stat: 1.0080539149649228\n",
      "Total number of random sets: 1100, GR_stat: 1.0065943773041437\n",
      "Total number of random sets: 1200, GR_stat: 1.0079990815031157\n",
      "Total number of random sets: 1300, GR_stat: 1.0065311272977149\n",
      "Total number of random sets: 1400, GR_stat: 1.0070042197518\n",
      "Total number of random sets: 1500, GR_stat: 1.0052502543872597\n",
      "Total number of random sets: 1600, GR_stat: 1.0049922897060912\n",
      "Therehosld: 8991\n",
      "We have seen 1700 random subsets for each feature.\n"
     ]
    },
    {
     "name": "stderr",
     "output_type": "stream",
     "text": [
      "\r",
      " 10%|██████████▎                                                                                            | 10/100 [02:43<24:51, 16.57s/it]"
     ]
    },
    {
     "name": "stdout",
     "output_type": "stream",
     "text": [
      "Total number of random sets: 200, GR_stat: 1.0594788118258704\n",
      "Total number of random sets: 300, GR_stat: 1.042195061595334\n",
      "Total number of random sets: 400, GR_stat: 1.0197908926857306\n",
      "Total number of random sets: 500, GR_stat: 1.014242195098613\n",
      "Total number of random sets: 600, GR_stat: 1.0129847133065333\n",
      "Total number of random sets: 700, GR_stat: 1.015625590981324\n",
      "Total number of random sets: 800, GR_stat: 1.0100376507601925\n",
      "Total number of random sets: 900, GR_stat: 1.0093223815909103\n",
      "Total number of random sets: 1000, GR_stat: 1.0081573336378402\n",
      "Total number of random sets: 1100, GR_stat: 1.0050438836850182\n",
      "Total number of random sets: 1200, GR_stat: 1.007302320593781\n",
      "Total number of random sets: 1300, GR_stat: 1.0048298832158769\n",
      "Therehosld: 8991\n",
      "We have seen 1400 random subsets for each feature.\n"
     ]
    },
    {
     "name": "stderr",
     "output_type": "stream",
     "text": [
      "\r",
      " 11%|███████████▎                                                                                           | 11/100 [02:59<24:08, 16.28s/it]"
     ]
    },
    {
     "name": "stdout",
     "output_type": "stream",
     "text": [
      "Total number of random sets: 200, GR_stat: 1.0426695842516005\n",
      "Total number of random sets: 300, GR_stat: 1.0221423594236847\n",
      "Total number of random sets: 400, GR_stat: 1.0188179409005451\n",
      "Total number of random sets: 500, GR_stat: 1.0168112987223692\n",
      "Total number of random sets: 600, GR_stat: 1.0159757421709865\n",
      "Total number of random sets: 700, GR_stat: 1.0183724259942568\n",
      "Total number of random sets: 800, GR_stat: 1.01156712475477\n",
      "Total number of random sets: 900, GR_stat: 1.007718416271759\n",
      "Total number of random sets: 1000, GR_stat: 1.0109691406661685\n",
      "Total number of random sets: 1100, GR_stat: 1.0048494856516181\n",
      "Therehosld: 8991\n",
      "We have seen 1200 random subsets for each feature.\n"
     ]
    },
    {
     "name": "stderr",
     "output_type": "stream",
     "text": [
      "\r",
      " 12%|████████████▎                                                                                          | 12/100 [03:12<22:31, 15.36s/it]"
     ]
    },
    {
     "name": "stdout",
     "output_type": "stream",
     "text": [
      "Total number of random sets: 200, GR_stat: 1.0469340571776617\n",
      "Total number of random sets: 300, GR_stat: 1.02512779486407\n",
      "Total number of random sets: 400, GR_stat: 1.0204379584054726\n",
      "Total number of random sets: 500, GR_stat: 1.0250588764382451\n",
      "Total number of random sets: 600, GR_stat: 1.012375552836577\n",
      "Total number of random sets: 700, GR_stat: 1.010612879731852\n",
      "Total number of random sets: 800, GR_stat: 1.0101709514299082\n",
      "Total number of random sets: 900, GR_stat: 1.0071259691979195\n",
      "Total number of random sets: 1000, GR_stat: 1.0108937824246864\n",
      "Total number of random sets: 1100, GR_stat: 1.0063236777512332\n",
      "Total number of random sets: 1200, GR_stat: 1.0071123388961742\n",
      "Total number of random sets: 1300, GR_stat: 1.0049375815978072\n",
      "Therehosld: 8991\n",
      "We have seen 1400 random subsets for each feature.\n"
     ]
    },
    {
     "name": "stderr",
     "output_type": "stream",
     "text": [
      "\r",
      " 13%|█████████████▍                                                                                         | 13/100 [03:28<22:23, 15.44s/it]"
     ]
    },
    {
     "name": "stdout",
     "output_type": "stream",
     "text": [
      "Total number of random sets: 200, GR_stat: 1.0295157590034498\n",
      "Total number of random sets: 300, GR_stat: 1.028804896391294\n",
      "Total number of random sets: 400, GR_stat: 1.0314237342116308\n",
      "Total number of random sets: 500, GR_stat: 1.0243275240056966\n",
      "Total number of random sets: 600, GR_stat: 1.0123428600576014\n",
      "Total number of random sets: 700, GR_stat: 1.010779964215688\n",
      "Total number of random sets: 800, GR_stat: 1.0124377626961722\n",
      "Total number of random sets: 900, GR_stat: 1.0146379077541068\n",
      "Total number of random sets: 1000, GR_stat: 1.0084901105618531\n",
      "Total number of random sets: 1100, GR_stat: 1.008723069481303\n",
      "Total number of random sets: 1200, GR_stat: 1.0065151296201742\n",
      "Total number of random sets: 1300, GR_stat: 1.004766413315866\n",
      "Therehosld: 8991\n",
      "We have seen 1400 random subsets for each feature.\n"
     ]
    },
    {
     "name": "stderr",
     "output_type": "stream",
     "text": [
      "\r",
      " 14%|██████████████▍                                                                                        | 14/100 [03:43<22:12, 15.50s/it]"
     ]
    },
    {
     "name": "stdout",
     "output_type": "stream",
     "text": [
      "Total number of random sets: 200, GR_stat: 1.0283488842875097\n",
      "Total number of random sets: 300, GR_stat: 1.0207336489558736\n",
      "Total number of random sets: 400, GR_stat: 1.0155182290488822\n",
      "Total number of random sets: 500, GR_stat: 1.01598519234901\n",
      "Total number of random sets: 600, GR_stat: 1.0171948333372407\n",
      "Total number of random sets: 700, GR_stat: 1.0090110845891345\n",
      "Total number of random sets: 800, GR_stat: 1.0092864529772059\n",
      "Total number of random sets: 900, GR_stat: 1.008807452452666\n",
      "Total number of random sets: 1000, GR_stat: 1.0066049061617337\n",
      "Total number of random sets: 1100, GR_stat: 1.0057670341998837\n",
      "Total number of random sets: 1200, GR_stat: 1.0046090846600677\n",
      "Therehosld: 8991\n",
      "We have seen 1300 random subsets for each feature.\n"
     ]
    },
    {
     "name": "stderr",
     "output_type": "stream",
     "text": [
      "\r",
      " 15%|███████████████▍                                                                                       | 15/100 [03:58<21:33, 15.21s/it]"
     ]
    },
    {
     "name": "stdout",
     "output_type": "stream",
     "text": [
      "Total number of random sets: 200, GR_stat: 1.061457966195357\n",
      "Total number of random sets: 300, GR_stat: 1.0242502344518218\n",
      "Total number of random sets: 400, GR_stat: 1.01815070591355\n",
      "Total number of random sets: 500, GR_stat: 1.020301097035152\n",
      "Total number of random sets: 600, GR_stat: 1.0097497075329571\n",
      "Total number of random sets: 700, GR_stat: 1.0092667439735714\n",
      "Total number of random sets: 800, GR_stat: 1.0096276509776945\n",
      "Total number of random sets: 900, GR_stat: 1.0067661795266123\n",
      "Total number of random sets: 1000, GR_stat: 1.0113831042342962\n",
      "Total number of random sets: 1100, GR_stat: 1.005662533420884\n",
      "Total number of random sets: 1200, GR_stat: 1.007376276205628\n",
      "Total number of random sets: 1300, GR_stat: 1.0065217783562037\n",
      "Total number of random sets: 1400, GR_stat: 1.0065168604466816\n",
      "Total number of random sets: 1500, GR_stat: 1.0032076899278886\n",
      "Therehosld: 8991\n",
      "We have seen 1600 random subsets for each feature.\n"
     ]
    },
    {
     "name": "stderr",
     "output_type": "stream",
     "text": [
      "\r",
      " 16%|████████████████▍                                                                                      | 16/100 [04:16<22:26, 16.02s/it]"
     ]
    },
    {
     "name": "stdout",
     "output_type": "stream",
     "text": [
      "Total number of random sets: 200, GR_stat: 1.0643597748418823\n",
      "Total number of random sets: 300, GR_stat: 1.0226309523050525\n",
      "Total number of random sets: 400, GR_stat: 1.0151220996464223\n",
      "Total number of random sets: 500, GR_stat: 1.0101817679259208\n",
      "Total number of random sets: 600, GR_stat: 1.0128523943201357\n",
      "Total number of random sets: 700, GR_stat: 1.0098213156944849\n",
      "Total number of random sets: 800, GR_stat: 1.0082036153995242\n",
      "Total number of random sets: 900, GR_stat: 1.0076027492729576\n",
      "Total number of random sets: 1000, GR_stat: 1.0074798433653493\n",
      "Total number of random sets: 1100, GR_stat: 1.0062556109070633\n",
      "Total number of random sets: 1200, GR_stat: 1.0048211057183296\n",
      "Therehosld: 8991\n",
      "We have seen 1300 random subsets for each feature.\n"
     ]
    },
    {
     "name": "stderr",
     "output_type": "stream",
     "text": [
      "\r",
      " 17%|█████████████████▌                                                                                     | 17/100 [04:30<21:27, 15.52s/it]"
     ]
    },
    {
     "name": "stdout",
     "output_type": "stream",
     "text": [
      "Total number of random sets: 200, GR_stat: 1.0260679745552128\n",
      "Total number of random sets: 300, GR_stat: 1.0183559757114131\n",
      "Total number of random sets: 400, GR_stat: 1.0153951026169337\n",
      "Total number of random sets: 500, GR_stat: 1.0094048019173492\n",
      "Total number of random sets: 600, GR_stat: 1.0128000482911466\n",
      "Total number of random sets: 700, GR_stat: 1.0097730376694591\n",
      "Total number of random sets: 800, GR_stat: 1.0089624650103977\n",
      "Total number of random sets: 900, GR_stat: 1.0089522545108687\n",
      "Total number of random sets: 1000, GR_stat: 1.006403553940917\n",
      "Total number of random sets: 1100, GR_stat: 1.0093770993637674\n",
      "Total number of random sets: 1200, GR_stat: 1.005867920130762\n",
      "Total number of random sets: 1300, GR_stat: 1.0053220229758053\n",
      "Total number of random sets: 1400, GR_stat: 1.0032213877993543\n",
      "Therehosld: 8991\n",
      "We have seen 1500 random subsets for each feature.\n"
     ]
    },
    {
     "name": "stderr",
     "output_type": "stream",
     "text": [
      "\r",
      " 18%|██████████████████▌                                                                                    | 18/100 [04:47<21:40, 15.86s/it]"
     ]
    },
    {
     "name": "stdout",
     "output_type": "stream",
     "text": [
      "Total number of random sets: 200, GR_stat: 1.0368645639616398\n",
      "Total number of random sets: 300, GR_stat: 1.0192985765168154\n",
      "Total number of random sets: 400, GR_stat: 1.0170888336928094\n",
      "Total number of random sets: 500, GR_stat: 1.011644667289087\n",
      "Total number of random sets: 600, GR_stat: 1.0103248096666075\n",
      "Total number of random sets: 700, GR_stat: 1.0067457299754368\n",
      "Total number of random sets: 800, GR_stat: 1.007811932729516\n",
      "Total number of random sets: 900, GR_stat: 1.009778370539355\n",
      "Total number of random sets: 1000, GR_stat: 1.0062353399035568\n",
      "Total number of random sets: 1100, GR_stat: 1.0053865515227578\n",
      "Total number of random sets: 1200, GR_stat: 1.004504915712601\n",
      "Therehosld: 8991\n",
      "We have seen 1300 random subsets for each feature.\n"
     ]
    },
    {
     "name": "stderr",
     "output_type": "stream",
     "text": [
      "\r",
      " 19%|███████████████████▌                                                                                   | 19/100 [05:01<20:47, 15.41s/it]"
     ]
    },
    {
     "name": "stdout",
     "output_type": "stream",
     "text": [
      "Total number of random sets: 200, GR_stat: 1.0370710048674134\n",
      "Total number of random sets: 300, GR_stat: 1.0242815444250901\n",
      "Total number of random sets: 400, GR_stat: 1.027723287733104\n",
      "Total number of random sets: 500, GR_stat: 1.0137397571630298\n",
      "Total number of random sets: 600, GR_stat: 1.0129338457823034\n",
      "Total number of random sets: 700, GR_stat: 1.0084651980448367\n",
      "Total number of random sets: 800, GR_stat: 1.009182959217509\n",
      "Total number of random sets: 900, GR_stat: 1.0063226087596222\n",
      "Total number of random sets: 1000, GR_stat: 1.008653840459959\n",
      "Total number of random sets: 1100, GR_stat: 1.009601953509506\n",
      "Total number of random sets: 1200, GR_stat: 1.0060332069429485\n",
      "Total number of random sets: 1300, GR_stat: 1.007220764492782\n",
      "Total number of random sets: 1400, GR_stat: 1.0048967905591324\n",
      "Therehosld: 8991\n",
      "We have seen 1500 random subsets for each feature.\n"
     ]
    },
    {
     "name": "stderr",
     "output_type": "stream",
     "text": [
      "\r",
      " 20%|████████████████████▌                                                                                  | 20/100 [05:18<21:03, 15.79s/it]"
     ]
    },
    {
     "name": "stdout",
     "output_type": "stream",
     "text": [
      "Total number of random sets: 200, GR_stat: 1.0487679972357455\n",
      "Total number of random sets: 300, GR_stat: 1.022148906863795\n",
      "Total number of random sets: 400, GR_stat: 1.0184828039664713\n",
      "Total number of random sets: 500, GR_stat: 1.016147406156702\n",
      "Total number of random sets: 600, GR_stat: 1.0118582768224405\n",
      "Total number of random sets: 700, GR_stat: 1.0111458132100917\n",
      "Total number of random sets: 800, GR_stat: 1.0083174659084253\n",
      "Total number of random sets: 900, GR_stat: 1.0090477670457976\n",
      "Total number of random sets: 1000, GR_stat: 1.0093506442741071\n",
      "Total number of random sets: 1100, GR_stat: 1.0071102050647494\n",
      "Total number of random sets: 1200, GR_stat: 1.0059548247950807\n",
      "Total number of random sets: 1300, GR_stat: 1.006267980540945\n",
      "Total number of random sets: 1400, GR_stat: 1.0050442234653774\n",
      "Total number of random sets: 1500, GR_stat: 1.0062902525144874\n",
      "Total number of random sets: 1600, GR_stat: 1.0074478672774336\n",
      "Total number of random sets: 1700, GR_stat: 1.005876470893473\n",
      "Total number of random sets: 1800, GR_stat: 1.004574776434934\n",
      "Therehosld: 8991\n",
      "We have seen 1900 random subsets for each feature.\n"
     ]
    },
    {
     "name": "stderr",
     "output_type": "stream",
     "text": [
      "\r",
      " 21%|█████████████████████▋                                                                                 | 21/100 [05:39<23:00, 17.48s/it]"
     ]
    },
    {
     "name": "stdout",
     "output_type": "stream",
     "text": [
      "Total number of random sets: 200, GR_stat: 1.0337693374570334\n",
      "Total number of random sets: 300, GR_stat: 1.0249541016089319\n",
      "Total number of random sets: 400, GR_stat: 1.0203201102777226\n",
      "Total number of random sets: 500, GR_stat: 1.021954842117972\n",
      "Total number of random sets: 600, GR_stat: 1.0166415698363385\n",
      "Total number of random sets: 700, GR_stat: 1.0133597835601058\n",
      "Total number of random sets: 800, GR_stat: 1.0099249025132562\n",
      "Total number of random sets: 900, GR_stat: 1.0061039771494886\n",
      "Total number of random sets: 1000, GR_stat: 1.0068754547302974\n",
      "Total number of random sets: 1100, GR_stat: 1.0058652606454161\n",
      "Total number of random sets: 1200, GR_stat: 1.007356083952188\n",
      "Total number of random sets: 1300, GR_stat: 1.0049902669538135\n",
      "Therehosld: 8991\n",
      "We have seen 1400 random subsets for each feature.\n"
     ]
    },
    {
     "name": "stderr",
     "output_type": "stream",
     "text": [
      "\r",
      " 22%|██████████████████████▋                                                                                | 22/100 [05:55<21:59, 16.92s/it]"
     ]
    },
    {
     "name": "stdout",
     "output_type": "stream",
     "text": [
      "Total number of random sets: 200, GR_stat: 1.0479433092892045\n",
      "Total number of random sets: 300, GR_stat: 1.0237921840163609\n",
      "Total number of random sets: 400, GR_stat: 1.014854959925213\n",
      "Total number of random sets: 500, GR_stat: 1.0132533799732841\n",
      "Total number of random sets: 600, GR_stat: 1.0107807961407014\n",
      "Total number of random sets: 700, GR_stat: 1.0092608978359647\n",
      "Total number of random sets: 800, GR_stat: 1.013097537025743\n",
      "Total number of random sets: 900, GR_stat: 1.0071558202112705\n",
      "Total number of random sets: 1000, GR_stat: 1.0071303016213515\n",
      "Total number of random sets: 1100, GR_stat: 1.0085649584432206\n",
      "Total number of random sets: 1200, GR_stat: 1.0061473634442628\n",
      "Total number of random sets: 1300, GR_stat: 1.0047749793085132\n",
      "Therehosld: 8991\n",
      "We have seen 1400 random subsets for each feature.\n"
     ]
    },
    {
     "name": "stderr",
     "output_type": "stream",
     "text": [
      "\r",
      " 23%|███████████████████████▋                                                                               | 23/100 [06:10<21:10, 16.49s/it]"
     ]
    },
    {
     "name": "stdout",
     "output_type": "stream",
     "text": [
      "Total number of random sets: 200, GR_stat: 1.03857054488633\n",
      "Total number of random sets: 300, GR_stat: 1.0242767813927252\n",
      "Total number of random sets: 400, GR_stat: 1.017900999894538\n",
      "Total number of random sets: 500, GR_stat: 1.0198776753332224\n",
      "Total number of random sets: 600, GR_stat: 1.0129649512723402\n",
      "Total number of random sets: 700, GR_stat: 1.010130062752996\n",
      "Total number of random sets: 800, GR_stat: 1.0084198710761696\n",
      "Total number of random sets: 900, GR_stat: 1.0062549552767344\n",
      "Total number of random sets: 1000, GR_stat: 1.00509012956721\n",
      "Total number of random sets: 1100, GR_stat: 1.008152976729121\n",
      "Total number of random sets: 1200, GR_stat: 1.0065266348080089\n",
      "Total number of random sets: 1300, GR_stat: 1.006419848839033\n",
      "Total number of random sets: 1400, GR_stat: 1.0048971315093813\n",
      "Therehosld: 8991\n",
      "We have seen 1500 random subsets for each feature.\n"
     ]
    },
    {
     "name": "stderr",
     "output_type": "stream",
     "text": [
      "\r",
      " 24%|████████████████████████▋                                                                              | 24/100 [06:27<20:57, 16.54s/it]"
     ]
    },
    {
     "name": "stdout",
     "output_type": "stream",
     "text": [
      "Total number of random sets: 200, GR_stat: 1.0593823858465719\n",
      "Total number of random sets: 300, GR_stat: 1.0279374915714083\n",
      "Total number of random sets: 400, GR_stat: 1.015274956798265\n",
      "Total number of random sets: 500, GR_stat: 1.0197386409400022\n",
      "Total number of random sets: 600, GR_stat: 1.0104754367509923\n",
      "Total number of random sets: 700, GR_stat: 1.0111565139974343\n",
      "Total number of random sets: 800, GR_stat: 1.0093303752764011\n",
      "Total number of random sets: 900, GR_stat: 1.00610472653169\n",
      "Total number of random sets: 1000, GR_stat: 1.008485576390208\n",
      "Total number of random sets: 1100, GR_stat: 1.00389147984209\n",
      "Therehosld: 8991\n",
      "We have seen 1200 random subsets for each feature.\n"
     ]
    },
    {
     "name": "stderr",
     "output_type": "stream",
     "text": [
      "\r",
      " 25%|█████████████████████████▊                                                                             | 25/100 [06:40<19:24, 15.52s/it]"
     ]
    },
    {
     "name": "stdout",
     "output_type": "stream",
     "text": [
      "Total number of random sets: 200, GR_stat: 1.0406461568992624\n",
      "Total number of random sets: 300, GR_stat: 1.024505768432988\n",
      "Total number of random sets: 400, GR_stat: 1.0234241701073639\n",
      "Total number of random sets: 500, GR_stat: 1.0133136988769147\n",
      "Total number of random sets: 600, GR_stat: 1.012343549685365\n",
      "Total number of random sets: 700, GR_stat: 1.007946582297203\n",
      "Total number of random sets: 800, GR_stat: 1.010472749546574\n",
      "Total number of random sets: 900, GR_stat: 1.0078396454981708\n",
      "Total number of random sets: 1000, GR_stat: 1.007239172756582\n",
      "Total number of random sets: 1100, GR_stat: 1.0086616154415382\n",
      "Total number of random sets: 1200, GR_stat: 1.0057236534491834\n",
      "Total number of random sets: 1300, GR_stat: 1.0067801889593824\n",
      "Total number of random sets: 1400, GR_stat: 1.0044189059621074\n",
      "Therehosld: 8991\n",
      "We have seen 1500 random subsets for each feature.\n"
     ]
    },
    {
     "name": "stderr",
     "output_type": "stream",
     "text": [
      "\r",
      " 26%|██████████████████████████▊                                                                            | 26/100 [06:57<19:33, 15.86s/it]"
     ]
    },
    {
     "name": "stdout",
     "output_type": "stream",
     "text": [
      "Total number of random sets: 200, GR_stat: 1.0294851760534074\n",
      "Total number of random sets: 300, GR_stat: 1.028408398260866\n",
      "Total number of random sets: 400, GR_stat: 1.0149290839279537\n",
      "Total number of random sets: 500, GR_stat: 1.0108750882998563\n",
      "Total number of random sets: 600, GR_stat: 1.0086805221839543\n",
      "Total number of random sets: 700, GR_stat: 1.0110015510998969\n",
      "Total number of random sets: 800, GR_stat: 1.0075691712781363\n",
      "Total number of random sets: 900, GR_stat: 1.0104560048068303\n",
      "Total number of random sets: 1000, GR_stat: 1.0092154912047193\n",
      "Total number of random sets: 1100, GR_stat: 1.0055132323876441\n",
      "Total number of random sets: 1200, GR_stat: 1.0052577934026463\n",
      "Total number of random sets: 1300, GR_stat: 1.007017355542448\n",
      "Total number of random sets: 1400, GR_stat: 1.008156325295608\n",
      "Total number of random sets: 1500, GR_stat: 1.006050138936761\n",
      "Total number of random sets: 1600, GR_stat: 1.0040898936081744\n",
      "Therehosld: 8991\n",
      "We have seen 1700 random subsets for each feature.\n"
     ]
    },
    {
     "name": "stderr",
     "output_type": "stream",
     "text": [
      "\r",
      " 27%|███████████████████████████▊                                                                           | 27/100 [07:16<20:27, 16.81s/it]"
     ]
    },
    {
     "name": "stdout",
     "output_type": "stream",
     "text": [
      "Total number of random sets: 200, GR_stat: 1.043932842050959\n",
      "Total number of random sets: 300, GR_stat: 1.0429734015330465\n",
      "Total number of random sets: 400, GR_stat: 1.0168791114670843\n",
      "Total number of random sets: 500, GR_stat: 1.0096823904510346\n",
      "Total number of random sets: 600, GR_stat: 1.0135600779576692\n",
      "Total number of random sets: 700, GR_stat: 1.0113481159363333\n",
      "Total number of random sets: 800, GR_stat: 1.0068415719527801\n",
      "Total number of random sets: 900, GR_stat: 1.0072941331724976\n",
      "Total number of random sets: 1000, GR_stat: 1.006483029390416\n",
      "Total number of random sets: 1100, GR_stat: 1.0067363828032925\n",
      "Total number of random sets: 1200, GR_stat: 1.0062914469516622\n",
      "Total number of random sets: 1300, GR_stat: 1.004900940985897\n",
      "Therehosld: 8991\n",
      "We have seen 1400 random subsets for each feature.\n"
     ]
    },
    {
     "name": "stderr",
     "output_type": "stream",
     "text": [
      "\r",
      " 28%|████████████████████████████▊                                                                          | 28/100 [07:31<19:41, 16.41s/it]"
     ]
    },
    {
     "name": "stdout",
     "output_type": "stream",
     "text": [
      "Total number of random sets: 200, GR_stat: 1.0297948118480638\n",
      "Total number of random sets: 300, GR_stat: 1.0215827046649686\n",
      "Total number of random sets: 400, GR_stat: 1.019357637362449\n",
      "Total number of random sets: 500, GR_stat: 1.0113658768868288\n",
      "Total number of random sets: 600, GR_stat: 1.0107053351204072\n",
      "Total number of random sets: 700, GR_stat: 1.0138702629120215\n",
      "Total number of random sets: 800, GR_stat: 1.0110307384537165\n",
      "Total number of random sets: 900, GR_stat: 1.0105216180840202\n",
      "Total number of random sets: 1000, GR_stat: 1.009336493756537\n",
      "Total number of random sets: 1100, GR_stat: 1.0062115811261796\n",
      "Total number of random sets: 1200, GR_stat: 1.0061346300109246\n",
      "Total number of random sets: 1300, GR_stat: 1.0036440747534936\n",
      "Therehosld: 8991\n",
      "We have seen 1400 random subsets for each feature.\n"
     ]
    },
    {
     "name": "stderr",
     "output_type": "stream",
     "text": [
      "\r",
      " 29%|█████████████████████████████▊                                                                         | 29/100 [07:47<19:07, 16.16s/it]"
     ]
    },
    {
     "name": "stdout",
     "output_type": "stream",
     "text": [
      "Total number of random sets: 200, GR_stat: 1.037249190716516\n",
      "Total number of random sets: 300, GR_stat: 1.0236519553080425\n",
      "Total number of random sets: 400, GR_stat: 1.0121689629332746\n",
      "Total number of random sets: 500, GR_stat: 1.0103118071984298\n",
      "Total number of random sets: 600, GR_stat: 1.0109360806497905\n",
      "Total number of random sets: 700, GR_stat: 1.0119608944867358\n",
      "Total number of random sets: 800, GR_stat: 1.0102230041218878\n",
      "Total number of random sets: 900, GR_stat: 1.0096140164429401\n",
      "Total number of random sets: 1000, GR_stat: 1.012021498679146\n",
      "Total number of random sets: 1100, GR_stat: 1.0095756775107867\n",
      "Total number of random sets: 1200, GR_stat: 1.0110219226050738\n",
      "Total number of random sets: 1300, GR_stat: 1.009904750110177\n",
      "Total number of random sets: 1400, GR_stat: 1.0094433832863934\n",
      "Total number of random sets: 1500, GR_stat: 1.0077695622643728\n",
      "Total number of random sets: 1600, GR_stat: 1.0077353910694378\n",
      "Total number of random sets: 1700, GR_stat: 1.0043742732682934\n",
      "Therehosld: 8991\n",
      "We have seen 1800 random subsets for each feature.\n"
     ]
    },
    {
     "name": "stderr",
     "output_type": "stream",
     "text": [
      "\r",
      " 30%|██████████████████████████████▉                                                                        | 30/100 [08:07<20:17, 17.39s/it]"
     ]
    },
    {
     "name": "stdout",
     "output_type": "stream",
     "text": [
      "Total number of random sets: 200, GR_stat: 1.03839730894371\n",
      "Total number of random sets: 300, GR_stat: 1.0222338517168705\n",
      "Total number of random sets: 400, GR_stat: 1.0134171128613063\n",
      "Total number of random sets: 500, GR_stat: 1.0175051838046574\n",
      "Total number of random sets: 600, GR_stat: 1.0126330256376688\n",
      "Total number of random sets: 700, GR_stat: 1.0078302852207917\n",
      "Total number of random sets: 800, GR_stat: 1.0071142031892744\n",
      "Total number of random sets: 900, GR_stat: 1.0091569642664213\n",
      "Total number of random sets: 1000, GR_stat: 1.0064861876596216\n",
      "Total number of random sets: 1100, GR_stat: 1.0064582019895663\n",
      "Total number of random sets: 1200, GR_stat: 1.0050114811312518\n",
      "Total number of random sets: 1300, GR_stat: 1.0038899749163126\n",
      "Therehosld: 8991\n",
      "We have seen 1400 random subsets for each feature.\n"
     ]
    },
    {
     "name": "stderr",
     "output_type": "stream",
     "text": [
      "\r",
      " 31%|███████████████████████████████▉                                                                       | 31/100 [08:23<19:20, 16.82s/it]"
     ]
    },
    {
     "name": "stdout",
     "output_type": "stream",
     "text": [
      "Total number of random sets: 200, GR_stat: 1.0296576980634489\n",
      "Total number of random sets: 300, GR_stat: 1.0314249226678431\n",
      "Total number of random sets: 400, GR_stat: 1.0380649028074025\n",
      "Total number of random sets: 500, GR_stat: 1.0149828727515877\n",
      "Total number of random sets: 600, GR_stat: 1.0124532211998083\n",
      "Total number of random sets: 700, GR_stat: 1.0124901087097782\n",
      "Total number of random sets: 800, GR_stat: 1.0167413958850837\n",
      "Total number of random sets: 900, GR_stat: 1.0071468191073558\n",
      "Total number of random sets: 1000, GR_stat: 1.0072665566252859\n",
      "Total number of random sets: 1100, GR_stat: 1.0106093560349088\n",
      "Total number of random sets: 1200, GR_stat: 1.0043939986202879\n",
      "Therehosld: 8991\n",
      "We have seen 1300 random subsets for each feature.\n"
     ]
    },
    {
     "name": "stderr",
     "output_type": "stream",
     "text": [
      "\r",
      " 32%|████████████████████████████████▉                                                                      | 32/100 [08:37<18:12, 16.07s/it]"
     ]
    },
    {
     "name": "stdout",
     "output_type": "stream",
     "text": [
      "Total number of random sets: 200, GR_stat: 1.0480925471490907\n",
      "Total number of random sets: 300, GR_stat: 1.02423650695453\n",
      "Total number of random sets: 400, GR_stat: 1.0230362342812687\n",
      "Total number of random sets: 500, GR_stat: 1.0145466761802717\n",
      "Total number of random sets: 600, GR_stat: 1.0150427863450662\n",
      "Total number of random sets: 700, GR_stat: 1.011727408345459\n",
      "Total number of random sets: 800, GR_stat: 1.0121771174131502\n",
      "Total number of random sets: 900, GR_stat: 1.0111009013836783\n",
      "Total number of random sets: 1000, GR_stat: 1.0084303853674774\n",
      "Total number of random sets: 1100, GR_stat: 1.0070798381823929\n",
      "Total number of random sets: 1200, GR_stat: 1.0068317721088833\n",
      "Total number of random sets: 1300, GR_stat: 1.0050922242189297\n",
      "Total number of random sets: 1400, GR_stat: 1.004568831221698\n",
      "Therehosld: 8991\n",
      "We have seen 1500 random subsets for each feature.\n"
     ]
    },
    {
     "name": "stderr",
     "output_type": "stream",
     "text": [
      "\r",
      " 33%|█████████████████████████████████▉                                                                     | 33/100 [08:54<18:08, 16.25s/it]"
     ]
    },
    {
     "name": "stdout",
     "output_type": "stream",
     "text": [
      "Total number of random sets: 200, GR_stat: 1.037906425748587\n",
      "Total number of random sets: 300, GR_stat: 1.0308343974483052\n",
      "Total number of random sets: 400, GR_stat: 1.0206293624670275\n",
      "Total number of random sets: 500, GR_stat: 1.0140528948147893\n",
      "Total number of random sets: 600, GR_stat: 1.0158126248883366\n",
      "Total number of random sets: 700, GR_stat: 1.0083791964597\n",
      "Total number of random sets: 800, GR_stat: 1.0130085675230198\n",
      "Total number of random sets: 900, GR_stat: 1.0055622747307857\n",
      "Total number of random sets: 1000, GR_stat: 1.0082659342430147\n",
      "Total number of random sets: 1100, GR_stat: 1.0066848992937376\n",
      "Total number of random sets: 1200, GR_stat: 1.006528893281212\n",
      "Total number of random sets: 1300, GR_stat: 1.0088618795992967\n",
      "Total number of random sets: 1400, GR_stat: 1.0059477395084164\n",
      "Total number of random sets: 1500, GR_stat: 1.0056688860319456\n",
      "Total number of random sets: 1600, GR_stat: 1.0053491735976583\n",
      "Total number of random sets: 1700, GR_stat: 1.004692450337841\n",
      "Therehosld: 8991\n",
      "We have seen 1800 random subsets for each feature.\n"
     ]
    },
    {
     "name": "stderr",
     "output_type": "stream",
     "text": [
      "\r",
      " 34%|███████████████████████████████████                                                                    | 34/100 [09:14<19:10, 17.44s/it]"
     ]
    },
    {
     "name": "stdout",
     "output_type": "stream",
     "text": [
      "Total number of random sets: 200, GR_stat: 1.0326802817473322\n",
      "Total number of random sets: 300, GR_stat: 1.018079489230125\n",
      "Total number of random sets: 400, GR_stat: 1.017959195902645\n",
      "Total number of random sets: 500, GR_stat: 1.0129223370844858\n",
      "Total number of random sets: 600, GR_stat: 1.0159111872909425\n",
      "Total number of random sets: 700, GR_stat: 1.0141629581628056\n",
      "Total number of random sets: 800, GR_stat: 1.0089705360966463\n",
      "Total number of random sets: 900, GR_stat: 1.0111267879771508\n",
      "Total number of random sets: 1000, GR_stat: 1.0060654435688914\n",
      "Total number of random sets: 1100, GR_stat: 1.0056159975479875\n",
      "Total number of random sets: 1200, GR_stat: 1.0055847236295408\n",
      "Total number of random sets: 1300, GR_stat: 1.0065649127583016\n",
      "Total number of random sets: 1400, GR_stat: 1.0048914373883848\n",
      "Therehosld: 8991\n",
      "We have seen 1500 random subsets for each feature.\n"
     ]
    },
    {
     "name": "stderr",
     "output_type": "stream",
     "text": [
      "\r",
      " 35%|████████████████████████████████████                                                                   | 35/100 [09:31<18:38, 17.21s/it]"
     ]
    },
    {
     "name": "stdout",
     "output_type": "stream",
     "text": [
      "Total number of random sets: 200, GR_stat: 1.0641978049322793\n",
      "Total number of random sets: 300, GR_stat: 1.025382410101291\n",
      "Total number of random sets: 400, GR_stat: 1.0155520755880283\n",
      "Total number of random sets: 500, GR_stat: 1.013634744277752\n",
      "Total number of random sets: 600, GR_stat: 1.0164511106233585\n",
      "Total number of random sets: 700, GR_stat: 1.0098724478673493\n",
      "Total number of random sets: 800, GR_stat: 1.01134758415153\n",
      "Total number of random sets: 900, GR_stat: 1.0069080488511248\n",
      "Total number of random sets: 1000, GR_stat: 1.007128247377187\n",
      "Total number of random sets: 1100, GR_stat: 1.0065385723456355\n",
      "Total number of random sets: 1200, GR_stat: 1.004463369470345\n",
      "Therehosld: 8991\n",
      "We have seen 1300 random subsets for each feature.\n"
     ]
    },
    {
     "name": "stderr",
     "output_type": "stream",
     "text": [
      "\r",
      " 36%|█████████████████████████████████████                                                                  | 36/100 [09:45<17:25, 16.34s/it]"
     ]
    },
    {
     "name": "stdout",
     "output_type": "stream",
     "text": [
      "Total number of random sets: 200, GR_stat: 1.02999366938467\n",
      "Total number of random sets: 300, GR_stat: 1.0201230143953102\n",
      "Total number of random sets: 400, GR_stat: 1.0164751072260299\n",
      "Total number of random sets: 500, GR_stat: 1.0156578918534267\n",
      "Total number of random sets: 600, GR_stat: 1.0128636411013827\n",
      "Total number of random sets: 700, GR_stat: 1.0090635528420713\n",
      "Total number of random sets: 800, GR_stat: 1.0067899539178604\n",
      "Total number of random sets: 900, GR_stat: 1.0084572428918703\n",
      "Total number of random sets: 1000, GR_stat: 1.0110245975193277\n",
      "Total number of random sets: 1100, GR_stat: 1.0051177004295206\n",
      "Total number of random sets: 1200, GR_stat: 1.004081311830279\n",
      "Therehosld: 8991\n",
      "We have seen 1300 random subsets for each feature.\n"
     ]
    },
    {
     "name": "stderr",
     "output_type": "stream",
     "text": [
      "\r",
      " 37%|██████████████████████████████████████                                                                 | 37/100 [09:59<16:33, 15.77s/it]"
     ]
    },
    {
     "name": "stdout",
     "output_type": "stream",
     "text": [
      "Total number of random sets: 200, GR_stat: 1.0416701135395634\n",
      "Total number of random sets: 300, GR_stat: 1.030496357508732\n",
      "Total number of random sets: 400, GR_stat: 1.0215897592165633\n",
      "Total number of random sets: 500, GR_stat: 1.0104605551622\n",
      "Total number of random sets: 600, GR_stat: 1.0109388237831216\n",
      "Total number of random sets: 700, GR_stat: 1.01037094184015\n",
      "Total number of random sets: 800, GR_stat: 1.0102277560169228\n",
      "Total number of random sets: 900, GR_stat: 1.005910005523853\n",
      "Total number of random sets: 1000, GR_stat: 1.0060216090711156\n",
      "Total number of random sets: 1100, GR_stat: 1.003755845586165\n",
      "Therehosld: 8991\n",
      "We have seen 1200 random subsets for each feature.\n"
     ]
    },
    {
     "name": "stderr",
     "output_type": "stream",
     "text": [
      "\r",
      " 38%|███████████████████████████████████████▏                                                               | 38/100 [10:12<15:28, 14.98s/it]"
     ]
    },
    {
     "name": "stdout",
     "output_type": "stream",
     "text": [
      "Total number of random sets: 200, GR_stat: 1.0368141374649862\n",
      "Total number of random sets: 300, GR_stat: 1.0213605899784617\n",
      "Total number of random sets: 400, GR_stat: 1.0111805022526457\n",
      "Total number of random sets: 500, GR_stat: 1.0159561673412068\n",
      "Total number of random sets: 600, GR_stat: 1.0126084105747728\n",
      "Total number of random sets: 700, GR_stat: 1.0113642164961612\n",
      "Total number of random sets: 800, GR_stat: 1.0093442088570657\n",
      "Total number of random sets: 900, GR_stat: 1.0078434998996115\n",
      "Total number of random sets: 1000, GR_stat: 1.004855705101324\n",
      "Therehosld: 8991\n",
      "We have seen 1100 random subsets for each feature.\n"
     ]
    },
    {
     "name": "stderr",
     "output_type": "stream",
     "text": [
      "\r",
      " 39%|████████████████████████████████████████▏                                                              | 39/100 [10:24<14:18, 14.07s/it]"
     ]
    },
    {
     "name": "stdout",
     "output_type": "stream",
     "text": [
      "Total number of random sets: 200, GR_stat: 1.030909747447123\n",
      "Total number of random sets: 300, GR_stat: 1.0189323882084829\n",
      "Total number of random sets: 400, GR_stat: 1.0203660936619003\n",
      "Total number of random sets: 500, GR_stat: 1.0155533056960442\n",
      "Total number of random sets: 600, GR_stat: 1.0137805782213796\n",
      "Total number of random sets: 700, GR_stat: 1.0098446088064306\n",
      "Total number of random sets: 800, GR_stat: 1.0119275897098736\n",
      "Total number of random sets: 900, GR_stat: 1.0085527286349447\n",
      "Total number of random sets: 1000, GR_stat: 1.004986218593564\n",
      "Therehosld: 8991\n",
      "We have seen 1100 random subsets for each feature.\n"
     ]
    },
    {
     "name": "stderr",
     "output_type": "stream",
     "text": [
      "\r",
      " 40%|█████████████████████████████████████████▏                                                             | 40/100 [10:36<13:26, 13.44s/it]"
     ]
    },
    {
     "name": "stdout",
     "output_type": "stream",
     "text": [
      "Total number of random sets: 200, GR_stat: 1.0384201937811715\n",
      "Total number of random sets: 300, GR_stat: 1.0430424692756621\n",
      "Total number of random sets: 400, GR_stat: 1.0232306954686294\n",
      "Total number of random sets: 500, GR_stat: 1.0186313688097797\n",
      "Total number of random sets: 600, GR_stat: 1.0139985235218707\n",
      "Total number of random sets: 700, GR_stat: 1.012178845297563\n",
      "Total number of random sets: 800, GR_stat: 1.0073566239314429\n",
      "Total number of random sets: 900, GR_stat: 1.0072893884366796\n",
      "Total number of random sets: 1000, GR_stat: 1.0094996493502313\n",
      "Total number of random sets: 1100, GR_stat: 1.0085952239167186\n",
      "Total number of random sets: 1200, GR_stat: 1.0071031059545377\n",
      "Total number of random sets: 1300, GR_stat: 1.0082760424028945\n",
      "Total number of random sets: 1400, GR_stat: 1.007047895237068\n",
      "Total number of random sets: 1500, GR_stat: 1.0070021318157671\n",
      "Total number of random sets: 1600, GR_stat: 1.0057103036752595\n",
      "Total number of random sets: 1700, GR_stat: 1.005010485798083\n",
      "Total number of random sets: 1800, GR_stat: 1.0049196531199736\n",
      "Therehosld: 8991\n",
      "We have seen 1900 random subsets for each feature.\n"
     ]
    },
    {
     "name": "stderr",
     "output_type": "stream",
     "text": [
      "\r",
      " 41%|██████████████████████████████████████████▏                                                            | 41/100 [10:58<15:33, 15.81s/it]"
     ]
    },
    {
     "name": "stdout",
     "output_type": "stream",
     "text": [
      "Total number of random sets: 200, GR_stat: 1.0322861218375399\n",
      "Total number of random sets: 300, GR_stat: 1.0197011423488436\n",
      "Total number of random sets: 400, GR_stat: 1.0199436867704588\n",
      "Total number of random sets: 500, GR_stat: 1.0133592956973168\n",
      "Total number of random sets: 600, GR_stat: 1.012298118443195\n",
      "Total number of random sets: 700, GR_stat: 1.0081400547590886\n",
      "Total number of random sets: 800, GR_stat: 1.010079337813153\n",
      "Total number of random sets: 900, GR_stat: 1.007778692934795\n",
      "Total number of random sets: 1000, GR_stat: 1.007080615813034\n",
      "Total number of random sets: 1100, GR_stat: 1.0067668511165122\n",
      "Total number of random sets: 1200, GR_stat: 1.006487641586361\n",
      "Total number of random sets: 1300, GR_stat: 1.0071766588765423\n",
      "Total number of random sets: 1400, GR_stat: 1.005787075553839\n",
      "Total number of random sets: 1500, GR_stat: 1.0040978848654827\n",
      "Therehosld: 8991\n",
      "We have seen 1600 random subsets for each feature.\n"
     ]
    },
    {
     "name": "stderr",
     "output_type": "stream",
     "text": [
      "\r",
      " 42%|███████████████████████████████████████████▎                                                           | 42/100 [11:16<15:52, 16.42s/it]"
     ]
    },
    {
     "name": "stdout",
     "output_type": "stream",
     "text": [
      "Total number of random sets: 200, GR_stat: 1.0292967476033201\n",
      "Total number of random sets: 300, GR_stat: 1.0340546604806715\n",
      "Total number of random sets: 400, GR_stat: 1.018700394089637\n",
      "Total number of random sets: 500, GR_stat: 1.0190168259658765\n",
      "Total number of random sets: 600, GR_stat: 1.0134984268560558\n",
      "Total number of random sets: 700, GR_stat: 1.009137216611531\n",
      "Total number of random sets: 800, GR_stat: 1.007489110893206\n",
      "Total number of random sets: 900, GR_stat: 1.0064377498476722\n",
      "Total number of random sets: 1000, GR_stat: 1.0077727730103736\n",
      "Total number of random sets: 1100, GR_stat: 1.0067043161691358\n",
      "Total number of random sets: 1200, GR_stat: 1.00560276856066\n",
      "Total number of random sets: 1300, GR_stat: 1.0062246881872206\n",
      "Total number of random sets: 1400, GR_stat: 1.005129028035836\n",
      "Total number of random sets: 1500, GR_stat: 1.0070529713012908\n",
      "Total number of random sets: 1600, GR_stat: 1.0043074128782432\n",
      "Therehosld: 8991\n",
      "We have seen 1700 random subsets for each feature.\n"
     ]
    },
    {
     "name": "stderr",
     "output_type": "stream",
     "text": [
      "\r",
      " 43%|████████████████████████████████████████████▎                                                          | 43/100 [11:35<16:20, 17.20s/it]"
     ]
    },
    {
     "name": "stdout",
     "output_type": "stream",
     "text": [
      "Total number of random sets: 200, GR_stat: 1.0545989294115652\n",
      "Total number of random sets: 300, GR_stat: 1.0204487094895265\n",
      "Total number of random sets: 400, GR_stat: 1.0154907061086078\n",
      "Total number of random sets: 500, GR_stat: 1.0180348868085571\n",
      "Total number of random sets: 600, GR_stat: 1.0138637475430559\n",
      "Total number of random sets: 700, GR_stat: 1.0091445783000415\n",
      "Total number of random sets: 800, GR_stat: 1.0114520423503406\n",
      "Total number of random sets: 900, GR_stat: 1.013114478590825\n",
      "Total number of random sets: 1000, GR_stat: 1.0062167654633773\n",
      "Total number of random sets: 1100, GR_stat: 1.007154159692091\n",
      "Total number of random sets: 1200, GR_stat: 1.0065338187218118\n",
      "Total number of random sets: 1300, GR_stat: 1.0049309481848072\n",
      "Therehosld: 8991\n",
      "We have seen 1400 random subsets for each feature.\n"
     ]
    },
    {
     "name": "stderr",
     "output_type": "stream",
     "text": [
      "\r",
      " 44%|█████████████████████████████████████████████▎                                                         | 44/100 [11:50<15:36, 16.71s/it]"
     ]
    },
    {
     "name": "stdout",
     "output_type": "stream",
     "text": [
      "Total number of random sets: 200, GR_stat: 1.0389436791759223\n",
      "Total number of random sets: 300, GR_stat: 1.0246508474820026\n",
      "Total number of random sets: 400, GR_stat: 1.0257828034355256\n",
      "Total number of random sets: 500, GR_stat: 1.0198398878040125\n",
      "Total number of random sets: 600, GR_stat: 1.0147821447159875\n",
      "Total number of random sets: 700, GR_stat: 1.0124547591152255\n",
      "Total number of random sets: 800, GR_stat: 1.0140754939606247\n",
      "Total number of random sets: 900, GR_stat: 1.0099110650663659\n",
      "Total number of random sets: 1000, GR_stat: 1.006192358471072\n",
      "Total number of random sets: 1100, GR_stat: 1.006607302679923\n",
      "Total number of random sets: 1200, GR_stat: 1.007105157210723\n",
      "Total number of random sets: 1300, GR_stat: 1.0053416313157142\n",
      "Total number of random sets: 1400, GR_stat: 1.0057749479015856\n",
      "Total number of random sets: 1500, GR_stat: 1.0037901742363151\n",
      "Therehosld: 8991\n",
      "We have seen 1600 random subsets for each feature.\n"
     ]
    },
    {
     "name": "stderr",
     "output_type": "stream",
     "text": [
      "\r",
      " 45%|██████████████████████████████████████████████▎                                                        | 45/100 [12:08<15:37, 17.05s/it]"
     ]
    },
    {
     "name": "stdout",
     "output_type": "stream",
     "text": [
      "Total number of random sets: 200, GR_stat: 1.0335519555915635\n",
      "Total number of random sets: 300, GR_stat: 1.0186711562431274\n",
      "Total number of random sets: 400, GR_stat: 1.010970554373006\n",
      "Total number of random sets: 500, GR_stat: 1.015937401850634\n",
      "Total number of random sets: 600, GR_stat: 1.010672192312316\n",
      "Total number of random sets: 700, GR_stat: 1.009177965771961\n",
      "Total number of random sets: 800, GR_stat: 1.0072556235464034\n",
      "Total number of random sets: 900, GR_stat: 1.0060108776884615\n",
      "Total number of random sets: 1000, GR_stat: 1.0053849146697522\n",
      "Total number of random sets: 1100, GR_stat: 1.0066758705893697\n",
      "Total number of random sets: 1200, GR_stat: 1.0047211184916023\n",
      "Therehosld: 8991\n",
      "We have seen 1300 random subsets for each feature.\n"
     ]
    },
    {
     "name": "stderr",
     "output_type": "stream",
     "text": [
      "\r",
      " 46%|███████████████████████████████████████████████▍                                                       | 46/100 [12:22<14:35, 16.21s/it]"
     ]
    },
    {
     "name": "stdout",
     "output_type": "stream",
     "text": [
      "Total number of random sets: 200, GR_stat: 1.0439207805814965\n",
      "Total number of random sets: 300, GR_stat: 1.0361999914140547\n",
      "Total number of random sets: 400, GR_stat: 1.0219547456556777\n",
      "Total number of random sets: 500, GR_stat: 1.0195577224190333\n",
      "Total number of random sets: 600, GR_stat: 1.016957040936821\n",
      "Total number of random sets: 700, GR_stat: 1.0097669989171387\n",
      "Total number of random sets: 800, GR_stat: 1.0108732002349972\n",
      "Total number of random sets: 900, GR_stat: 1.006258984351571\n",
      "Total number of random sets: 1000, GR_stat: 1.0067944404279365\n",
      "Total number of random sets: 1100, GR_stat: 1.0051800123310133\n",
      "Total number of random sets: 1200, GR_stat: 1.0055726424423084\n",
      "Total number of random sets: 1300, GR_stat: 1.0053284787244103\n",
      "Total number of random sets: 1400, GR_stat: 1.0032927568373369\n",
      "Therehosld: 8991\n",
      "We have seen 1500 random subsets for each feature.\n"
     ]
    },
    {
     "name": "stderr",
     "output_type": "stream",
     "text": [
      "\r",
      " 47%|████████████████████████████████████████████████▍                                                      | 47/100 [12:39<14:26, 16.34s/it]"
     ]
    },
    {
     "name": "stdout",
     "output_type": "stream",
     "text": [
      "Total number of random sets: 200, GR_stat: 1.0330975738165578\n",
      "Total number of random sets: 300, GR_stat: 1.0319362451445653\n",
      "Total number of random sets: 400, GR_stat: 1.0145099407565452\n",
      "Total number of random sets: 500, GR_stat: 1.012499732383725\n",
      "Total number of random sets: 600, GR_stat: 1.0098287857238029\n",
      "Total number of random sets: 700, GR_stat: 1.0056224295580343\n",
      "Total number of random sets: 800, GR_stat: 1.0075299571582947\n",
      "Total number of random sets: 900, GR_stat: 1.0070417968351395\n",
      "Total number of random sets: 1000, GR_stat: 1.006301628875452\n",
      "Total number of random sets: 1100, GR_stat: 1.0055415500374567\n",
      "Total number of random sets: 1200, GR_stat: 1.0062600305267082\n",
      "Total number of random sets: 1300, GR_stat: 1.0065118820242416\n",
      "Total number of random sets: 1400, GR_stat: 1.0045698237627314\n",
      "Therehosld: 8991\n",
      "We have seen 1500 random subsets for each feature.\n"
     ]
    },
    {
     "name": "stderr",
     "output_type": "stream",
     "text": [
      "\r",
      " 48%|█████████████████████████████████████████████████▍                                                     | 48/100 [12:56<14:14, 16.43s/it]"
     ]
    },
    {
     "name": "stdout",
     "output_type": "stream",
     "text": [
      "Total number of random sets: 200, GR_stat: 1.0492490730090502\n",
      "Total number of random sets: 300, GR_stat: 1.0280300878352657\n",
      "Total number of random sets: 400, GR_stat: 1.0165172577867179\n",
      "Total number of random sets: 500, GR_stat: 1.0119927236483608\n",
      "Total number of random sets: 600, GR_stat: 1.011769880663148\n",
      "Total number of random sets: 700, GR_stat: 1.01162949137206\n",
      "Total number of random sets: 800, GR_stat: 1.0059970488664574\n",
      "Total number of random sets: 900, GR_stat: 1.007069526587884\n",
      "Total number of random sets: 1000, GR_stat: 1.0068328841367118\n",
      "Total number of random sets: 1100, GR_stat: 1.0063470094185047\n",
      "Total number of random sets: 1200, GR_stat: 1.0054793900613361\n",
      "Total number of random sets: 1300, GR_stat: 1.0046738952410048\n",
      "Therehosld: 8991\n",
      "We have seen 1400 random subsets for each feature.\n"
     ]
    },
    {
     "name": "stderr",
     "output_type": "stream",
     "text": [
      "\r",
      " 49%|██████████████████████████████████████████████████▍                                                    | 49/100 [13:11<13:43, 16.14s/it]"
     ]
    },
    {
     "name": "stdout",
     "output_type": "stream",
     "text": [
      "Total number of random sets: 200, GR_stat: 1.0417788759671525\n",
      "Total number of random sets: 300, GR_stat: 1.0313423279656448\n",
      "Total number of random sets: 400, GR_stat: 1.0205579968845893\n",
      "Total number of random sets: 500, GR_stat: 1.0112132817896204\n",
      "Total number of random sets: 600, GR_stat: 1.0089727254345782\n",
      "Total number of random sets: 700, GR_stat: 1.0074507438645408\n",
      "Total number of random sets: 800, GR_stat: 1.0077797399699724\n",
      "Total number of random sets: 900, GR_stat: 1.0058966122479582\n",
      "Total number of random sets: 1000, GR_stat: 1.0099415617039729\n",
      "Total number of random sets: 1100, GR_stat: 1.0106310200058972\n",
      "Total number of random sets: 1200, GR_stat: 1.007332417299194\n",
      "Total number of random sets: 1300, GR_stat: 1.0078145556315778\n",
      "Total number of random sets: 1400, GR_stat: 1.006675112573925\n",
      "Total number of random sets: 1500, GR_stat: 1.0070429296511312\n",
      "Total number of random sets: 1600, GR_stat: 1.0060273902770338\n",
      "Total number of random sets: 1700, GR_stat: 1.0059153769409295\n",
      "Total number of random sets: 1800, GR_stat: 1.004683940117391\n",
      "Therehosld: 8991\n",
      "We have seen 1900 random subsets for each feature.\n"
     ]
    },
    {
     "name": "stderr",
     "output_type": "stream",
     "text": [
      "\r",
      " 50%|███████████████████████████████████████████████████▌                                                   | 50/100 [13:32<14:45, 17.71s/it]"
     ]
    },
    {
     "name": "stdout",
     "output_type": "stream",
     "text": [
      "Total number of random sets: 200, GR_stat: 1.0348968494506925\n",
      "Total number of random sets: 300, GR_stat: 1.0239300884611409\n",
      "Total number of random sets: 400, GR_stat: 1.0133899440591778\n",
      "Total number of random sets: 500, GR_stat: 1.0237466192975775\n",
      "Total number of random sets: 600, GR_stat: 1.015859155027988\n",
      "Total number of random sets: 700, GR_stat: 1.0198996431146916\n",
      "Total number of random sets: 800, GR_stat: 1.0150505274175772\n",
      "Total number of random sets: 900, GR_stat: 1.009034253398662\n",
      "Total number of random sets: 1000, GR_stat: 1.0074291769336698\n",
      "Total number of random sets: 1100, GR_stat: 1.0063583149150392\n",
      "Total number of random sets: 1200, GR_stat: 1.0075600580350292\n",
      "Total number of random sets: 1300, GR_stat: 1.0074409087881564\n",
      "Total number of random sets: 1400, GR_stat: 1.0078706252900298\n",
      "Total number of random sets: 1500, GR_stat: 1.0037542644175244\n",
      "Therehosld: 8991\n",
      "We have seen 1600 random subsets for each feature.\n"
     ]
    },
    {
     "name": "stderr",
     "output_type": "stream",
     "text": [
      "\r",
      " 51%|████████████████████████████████████████████████████▌                                                  | 51/100 [13:50<14:30, 17.77s/it]"
     ]
    },
    {
     "name": "stdout",
     "output_type": "stream",
     "text": [
      "Total number of random sets: 200, GR_stat: 1.0321614160985495\n",
      "Total number of random sets: 300, GR_stat: 1.0244088225695944\n",
      "Total number of random sets: 400, GR_stat: 1.018592941345643\n",
      "Total number of random sets: 500, GR_stat: 1.013022858649866\n",
      "Total number of random sets: 600, GR_stat: 1.010005617021311\n",
      "Total number of random sets: 700, GR_stat: 1.0137159932231372\n",
      "Total number of random sets: 800, GR_stat: 1.0161238981287848\n",
      "Total number of random sets: 900, GR_stat: 1.0142843409064513\n",
      "Total number of random sets: 1000, GR_stat: 1.013566454311298\n",
      "Total number of random sets: 1100, GR_stat: 1.0080286524696398\n",
      "Total number of random sets: 1200, GR_stat: 1.0106750416122872\n",
      "Total number of random sets: 1300, GR_stat: 1.0072522093134293\n",
      "Total number of random sets: 1400, GR_stat: 1.0045573611071452\n",
      "Therehosld: 8991\n",
      "We have seen 1500 random subsets for each feature.\n"
     ]
    },
    {
     "name": "stderr",
     "output_type": "stream",
     "text": [
      "\r",
      " 52%|█████████████████████████████████████████████████████▌                                                 | 52/100 [14:07<13:56, 17.43s/it]"
     ]
    },
    {
     "name": "stdout",
     "output_type": "stream",
     "text": [
      "Total number of random sets: 200, GR_stat: 1.030653774518179\n",
      "Total number of random sets: 300, GR_stat: 1.0191137378647945\n",
      "Total number of random sets: 400, GR_stat: 1.0222397064748279\n",
      "Total number of random sets: 500, GR_stat: 1.0191629285464034\n",
      "Total number of random sets: 600, GR_stat: 1.0155802909247713\n",
      "Total number of random sets: 700, GR_stat: 1.0113340195338472\n",
      "Total number of random sets: 800, GR_stat: 1.0122521024534015\n",
      "Total number of random sets: 900, GR_stat: 1.0094874083074454\n",
      "Total number of random sets: 1000, GR_stat: 1.0071683177175343\n",
      "Total number of random sets: 1100, GR_stat: 1.0071311280176016\n",
      "Total number of random sets: 1200, GR_stat: 1.0084995584956937\n",
      "Total number of random sets: 1300, GR_stat: 1.0057511716671559\n",
      "Total number of random sets: 1400, GR_stat: 1.0069362987902721\n",
      "Total number of random sets: 1500, GR_stat: 1.0047130360557914\n",
      "Therehosld: 8991\n",
      "We have seen 1600 random subsets for each feature.\n"
     ]
    },
    {
     "name": "stderr",
     "output_type": "stream",
     "text": [
      "\r",
      " 53%|██████████████████████████████████████████████████████▌                                                | 53/100 [14:25<13:45, 17.56s/it]"
     ]
    },
    {
     "name": "stdout",
     "output_type": "stream",
     "text": [
      "Total number of random sets: 200, GR_stat: 1.0465765878217614\n",
      "Total number of random sets: 300, GR_stat: 1.0198694583845727\n",
      "Total number of random sets: 400, GR_stat: 1.0142260962614746\n",
      "Total number of random sets: 500, GR_stat: 1.0117315969161818\n",
      "Total number of random sets: 600, GR_stat: 1.0151880499455124\n",
      "Total number of random sets: 700, GR_stat: 1.0111442367855255\n",
      "Total number of random sets: 800, GR_stat: 1.011408172234393\n",
      "Total number of random sets: 900, GR_stat: 1.0071800896974432\n",
      "Total number of random sets: 1000, GR_stat: 1.008083560120098\n",
      "Total number of random sets: 1100, GR_stat: 1.009377376245315\n",
      "Total number of random sets: 1200, GR_stat: 1.0072025528458346\n",
      "Total number of random sets: 1300, GR_stat: 1.005220858441222\n",
      "Total number of random sets: 1400, GR_stat: 1.0051401717904316\n",
      "Total number of random sets: 1500, GR_stat: 1.0044098414860059\n",
      "Therehosld: 8991\n",
      "We have seen 1600 random subsets for each feature.\n"
     ]
    },
    {
     "name": "stderr",
     "output_type": "stream",
     "text": [
      "\r",
      " 54%|███████████████████████████████████████████████████████▌                                               | 54/100 [14:43<13:31, 17.64s/it]"
     ]
    },
    {
     "name": "stdout",
     "output_type": "stream",
     "text": [
      "Total number of random sets: 200, GR_stat: 1.039680955732559\n",
      "Total number of random sets: 300, GR_stat: 1.0229865323435559\n",
      "Total number of random sets: 400, GR_stat: 1.0259220642372486\n",
      "Total number of random sets: 500, GR_stat: 1.0134320782261095\n",
      "Total number of random sets: 600, GR_stat: 1.008529314297983\n",
      "Total number of random sets: 700, GR_stat: 1.0103698200386029\n",
      "Total number of random sets: 800, GR_stat: 1.008094823412886\n",
      "Total number of random sets: 900, GR_stat: 1.006031207583191\n",
      "Total number of random sets: 1000, GR_stat: 1.0061811194873285\n",
      "Total number of random sets: 1100, GR_stat: 1.0089950287628389\n",
      "Total number of random sets: 1200, GR_stat: 1.0055062687122076\n",
      "Total number of random sets: 1300, GR_stat: 1.007090778976635\n",
      "Total number of random sets: 1400, GR_stat: 1.0052404993346526\n",
      "Total number of random sets: 1500, GR_stat: 1.0043910932768991\n",
      "Therehosld: 8991\n",
      "We have seen 1600 random subsets for each feature.\n"
     ]
    },
    {
     "name": "stderr",
     "output_type": "stream",
     "text": [
      "\r",
      " 55%|████████████████████████████████████████████████████████▋                                              | 55/100 [15:00<13:16, 17.69s/it]"
     ]
    },
    {
     "name": "stdout",
     "output_type": "stream",
     "text": [
      "Total number of random sets: 200, GR_stat: 1.0442432078845507\n",
      "Total number of random sets: 300, GR_stat: 1.0200539034768565\n",
      "Total number of random sets: 400, GR_stat: 1.0279482529576807\n",
      "Total number of random sets: 500, GR_stat: 1.012610411031605\n",
      "Total number of random sets: 600, GR_stat: 1.015065019725291\n",
      "Total number of random sets: 700, GR_stat: 1.0120532555098787\n",
      "Total number of random sets: 800, GR_stat: 1.0135543225096224\n",
      "Total number of random sets: 900, GR_stat: 1.0103141578952974\n",
      "Total number of random sets: 1000, GR_stat: 1.0096704994950143\n",
      "Total number of random sets: 1100, GR_stat: 1.0063927862735862\n",
      "Total number of random sets: 1200, GR_stat: 1.0074459269793699\n",
      "Total number of random sets: 1300, GR_stat: 1.0054718395869506\n",
      "Total number of random sets: 1400, GR_stat: 1.006700764029567\n",
      "Total number of random sets: 1500, GR_stat: 1.0048153489288678\n",
      "Therehosld: 8991\n",
      "We have seen 1600 random subsets for each feature.\n"
     ]
    },
    {
     "name": "stderr",
     "output_type": "stream",
     "text": [
      "\r",
      " 56%|█████████████████████████████████████████████████████████▋                                             | 56/100 [15:18<13:00, 17.74s/it]"
     ]
    },
    {
     "name": "stdout",
     "output_type": "stream",
     "text": [
      "Total number of random sets: 200, GR_stat: 1.0616462657997057\n",
      "Total number of random sets: 300, GR_stat: 1.0347034669025885\n",
      "Total number of random sets: 400, GR_stat: 1.0273765114845217\n",
      "Total number of random sets: 500, GR_stat: 1.0159732049871244\n",
      "Total number of random sets: 600, GR_stat: 1.0117038154431544\n",
      "Total number of random sets: 700, GR_stat: 1.0107138119567174\n",
      "Total number of random sets: 800, GR_stat: 1.0088559062401241\n",
      "Total number of random sets: 900, GR_stat: 1.0056376025927711\n",
      "Total number of random sets: 1000, GR_stat: 1.0073926434286733\n",
      "Total number of random sets: 1100, GR_stat: 1.0058490610950683\n",
      "Total number of random sets: 1200, GR_stat: 1.008812710969819\n",
      "Total number of random sets: 1300, GR_stat: 1.0056603266597925\n",
      "Total number of random sets: 1400, GR_stat: 1.005313272506067\n",
      "Total number of random sets: 1500, GR_stat: 1.0040128645162278\n",
      "Therehosld: 8991\n",
      "We have seen 1600 random subsets for each feature.\n"
     ]
    },
    {
     "name": "stderr",
     "output_type": "stream",
     "text": [
      "\r",
      " 57%|██████████████████████████████████████████████████████████▋                                            | 57/100 [15:36<12:44, 17.77s/it]"
     ]
    },
    {
     "name": "stdout",
     "output_type": "stream",
     "text": [
      "Total number of random sets: 200, GR_stat: 1.0412629923037238\n",
      "Total number of random sets: 300, GR_stat: 1.0318892486005824\n",
      "Total number of random sets: 400, GR_stat: 1.0277436351286453\n",
      "Total number of random sets: 500, GR_stat: 1.0238897300647576\n",
      "Total number of random sets: 600, GR_stat: 1.0088256248875234\n",
      "Total number of random sets: 700, GR_stat: 1.0111098341983045\n",
      "Total number of random sets: 800, GR_stat: 1.011084149519001\n",
      "Total number of random sets: 900, GR_stat: 1.008371404400595\n",
      "Total number of random sets: 1000, GR_stat: 1.006447507583945\n",
      "Total number of random sets: 1100, GR_stat: 1.004790250455716\n",
      "Therehosld: 8991\n",
      "We have seen 1200 random subsets for each feature.\n"
     ]
    },
    {
     "name": "stderr",
     "output_type": "stream",
     "text": [
      "\r",
      " 58%|███████████████████████████████████████████████████████████▋                                           | 58/100 [15:49<11:29, 16.41s/it]"
     ]
    },
    {
     "name": "stdout",
     "output_type": "stream",
     "text": [
      "Total number of random sets: 200, GR_stat: 1.0487049854200652\n",
      "Total number of random sets: 300, GR_stat: 1.0204248582909015\n",
      "Total number of random sets: 400, GR_stat: 1.028944350959493\n",
      "Total number of random sets: 500, GR_stat: 1.0131601684215839\n",
      "Total number of random sets: 600, GR_stat: 1.009602251513456\n",
      "Total number of random sets: 700, GR_stat: 1.0071010522216168\n",
      "Total number of random sets: 800, GR_stat: 1.007819664880739\n",
      "Total number of random sets: 900, GR_stat: 1.0075624232697273\n",
      "Total number of random sets: 1000, GR_stat: 1.0068452092724207\n",
      "Total number of random sets: 1100, GR_stat: 1.0051628229391838\n",
      "Total number of random sets: 1200, GR_stat: 1.0054747907890365\n",
      "Total number of random sets: 1300, GR_stat: 1.0069791398286914\n",
      "Total number of random sets: 1400, GR_stat: 1.0060170019208818\n",
      "Total number of random sets: 1500, GR_stat: 1.0046733698702435\n",
      "Therehosld: 8991\n",
      "We have seen 1600 random subsets for each feature.\n"
     ]
    },
    {
     "name": "stderr",
     "output_type": "stream",
     "text": [
      "\r",
      " 59%|████████████████████████████████████████████████████████████▊                                          | 59/100 [16:07<11:31, 16.86s/it]"
     ]
    },
    {
     "name": "stdout",
     "output_type": "stream",
     "text": [
      "Total number of random sets: 200, GR_stat: 1.0702566837150191\n",
      "Total number of random sets: 300, GR_stat: 1.0359035114845334\n",
      "Total number of random sets: 400, GR_stat: 1.0183193901811356\n",
      "Total number of random sets: 500, GR_stat: 1.0137081009150197\n",
      "Total number of random sets: 600, GR_stat: 1.0135582247727724\n",
      "Total number of random sets: 700, GR_stat: 1.009142721936395\n",
      "Total number of random sets: 800, GR_stat: 1.008606026629789\n",
      "Total number of random sets: 900, GR_stat: 1.008614281341451\n",
      "Total number of random sets: 1000, GR_stat: 1.0058268484724413\n",
      "Total number of random sets: 1100, GR_stat: 1.005230145862699\n",
      "Total number of random sets: 1200, GR_stat: 1.005314798419323\n",
      "Total number of random sets: 1300, GR_stat: 1.006661523363242\n",
      "Total number of random sets: 1400, GR_stat: 1.0036299772340154\n",
      "Therehosld: 8991\n",
      "We have seen 1500 random subsets for each feature.\n"
     ]
    },
    {
     "name": "stderr",
     "output_type": "stream",
     "text": [
      "\r",
      " 60%|█████████████████████████████████████████████████████████████▊                                         | 60/100 [16:24<11:12, 16.80s/it]"
     ]
    },
    {
     "name": "stdout",
     "output_type": "stream",
     "text": [
      "Total number of random sets: 200, GR_stat: 1.0401166766383845\n",
      "Total number of random sets: 300, GR_stat: 1.0309763823955307\n",
      "Total number of random sets: 400, GR_stat: 1.0227514999931622\n",
      "Total number of random sets: 500, GR_stat: 1.0130222484972145\n",
      "Total number of random sets: 600, GR_stat: 1.0151624148615601\n",
      "Total number of random sets: 700, GR_stat: 1.0149192144637538\n",
      "Total number of random sets: 800, GR_stat: 1.0092812942040872\n",
      "Total number of random sets: 900, GR_stat: 1.004588921025491\n",
      "Therehosld: 8991\n",
      "We have seen 1000 random subsets for each feature.\n"
     ]
    },
    {
     "name": "stderr",
     "output_type": "stream",
     "text": [
      "\r",
      " 61%|██████████████████████████████████████████████████████████████▊                                        | 61/100 [16:35<09:45, 15.00s/it]"
     ]
    },
    {
     "name": "stdout",
     "output_type": "stream",
     "text": [
      "Total number of random sets: 200, GR_stat: 1.024470164554605\n",
      "Total number of random sets: 300, GR_stat: 1.0272778982560558\n",
      "Total number of random sets: 400, GR_stat: 1.0160553484601085\n",
      "Total number of random sets: 500, GR_stat: 1.0206068880281796\n",
      "Total number of random sets: 600, GR_stat: 1.0138859154634805\n",
      "Total number of random sets: 700, GR_stat: 1.018944256191145\n",
      "Total number of random sets: 800, GR_stat: 1.0105102134865864\n",
      "Total number of random sets: 900, GR_stat: 1.0084149298734677\n",
      "Total number of random sets: 1000, GR_stat: 1.011502512573879\n",
      "Total number of random sets: 1100, GR_stat: 1.0070269337692626\n",
      "Total number of random sets: 1200, GR_stat: 1.0067572608702424\n",
      "Total number of random sets: 1300, GR_stat: 1.0065808953134234\n",
      "Total number of random sets: 1400, GR_stat: 1.007600391063743\n",
      "Total number of random sets: 1500, GR_stat: 1.0041006919826685\n",
      "Therehosld: 8991\n",
      "We have seen 1600 random subsets for each feature.\n"
     ]
    },
    {
     "name": "stderr",
     "output_type": "stream",
     "text": [
      "\r",
      " 62%|███████████████████████████████████████████████████████████████▊                                       | 62/100 [16:53<10:02, 15.86s/it]"
     ]
    },
    {
     "name": "stdout",
     "output_type": "stream",
     "text": [
      "Total number of random sets: 200, GR_stat: 1.0380866435233693\n",
      "Total number of random sets: 300, GR_stat: 1.0193123807167956\n",
      "Total number of random sets: 400, GR_stat: 1.0202800026845733\n",
      "Total number of random sets: 500, GR_stat: 1.0141106598365386\n",
      "Total number of random sets: 600, GR_stat: 1.0184242280546454\n",
      "Total number of random sets: 700, GR_stat: 1.0114607323340477\n",
      "Total number of random sets: 800, GR_stat: 1.0070991080768787\n",
      "Total number of random sets: 900, GR_stat: 1.00966534242527\n",
      "Total number of random sets: 1000, GR_stat: 1.0075666419518254\n",
      "Total number of random sets: 1100, GR_stat: 1.0083260337182924\n",
      "Total number of random sets: 1200, GR_stat: 1.0046839139295565\n",
      "Therehosld: 8991\n",
      "We have seen 1300 random subsets for each feature.\n"
     ]
    },
    {
     "name": "stderr",
     "output_type": "stream",
     "text": [
      "\r",
      " 63%|████████████████████████████████████████████████████████████████▉                                      | 63/100 [17:07<09:29, 15.40s/it]"
     ]
    },
    {
     "name": "stdout",
     "output_type": "stream",
     "text": [
      "Total number of random sets: 200, GR_stat: 1.0294906422572474\n",
      "Total number of random sets: 300, GR_stat: 1.0212360963920282\n",
      "Total number of random sets: 400, GR_stat: 1.019136630182431\n",
      "Total number of random sets: 500, GR_stat: 1.011125496744868\n",
      "Total number of random sets: 600, GR_stat: 1.0166180158564202\n",
      "Total number of random sets: 700, GR_stat: 1.0076933457359036\n",
      "Total number of random sets: 800, GR_stat: 1.011409899017972\n",
      "Total number of random sets: 900, GR_stat: 1.0099829928558544\n",
      "Total number of random sets: 1000, GR_stat: 1.007776024941685\n",
      "Total number of random sets: 1100, GR_stat: 1.008081186400129\n",
      "Total number of random sets: 1200, GR_stat: 1.0084023864980916\n",
      "Total number of random sets: 1300, GR_stat: 1.0057761298868757\n",
      "Total number of random sets: 1400, GR_stat: 1.0060948479663634\n",
      "Total number of random sets: 1500, GR_stat: 1.0060576176421057\n",
      "Total number of random sets: 1600, GR_stat: 1.0049277193969646\n",
      "Therehosld: 8991\n",
      "We have seen 1700 random subsets for each feature.\n"
     ]
    },
    {
     "name": "stderr",
     "output_type": "stream",
     "text": [
      "\r",
      " 64%|█████████████████████████████████████████████████████████████████▉                                     | 64/100 [17:26<09:54, 16.52s/it]"
     ]
    },
    {
     "name": "stdout",
     "output_type": "stream",
     "text": [
      "Total number of random sets: 200, GR_stat: 1.06551217901715\n",
      "Total number of random sets: 300, GR_stat: 1.0259661445761132\n",
      "Total number of random sets: 400, GR_stat: 1.0184120966694523\n",
      "Total number of random sets: 500, GR_stat: 1.0110449340173704\n",
      "Total number of random sets: 600, GR_stat: 1.0093989894622895\n",
      "Total number of random sets: 700, GR_stat: 1.0095076247223427\n",
      "Total number of random sets: 800, GR_stat: 1.0150878992790977\n",
      "Total number of random sets: 900, GR_stat: 1.0075219224175955\n",
      "Total number of random sets: 1000, GR_stat: 1.0090562325617118\n",
      "Total number of random sets: 1100, GR_stat: 1.0083719038098227\n",
      "Total number of random sets: 1200, GR_stat: 1.0065052058450679\n",
      "Total number of random sets: 1300, GR_stat: 1.004813577639575\n",
      "Therehosld: 8991\n",
      "We have seen 1400 random subsets for each feature.\n"
     ]
    },
    {
     "name": "stderr",
     "output_type": "stream",
     "text": [
      "\r",
      " 65%|██████████████████████████████████████████████████████████████████▉                                    | 65/100 [17:42<09:27, 16.22s/it]"
     ]
    },
    {
     "name": "stdout",
     "output_type": "stream",
     "text": [
      "Total number of random sets: 200, GR_stat: 1.054114448803321\n",
      "Total number of random sets: 300, GR_stat: 1.0407081346536693\n",
      "Total number of random sets: 400, GR_stat: 1.027793969492987\n",
      "Total number of random sets: 500, GR_stat: 1.012201178018849\n",
      "Total number of random sets: 600, GR_stat: 1.0091669938609404\n",
      "Total number of random sets: 700, GR_stat: 1.0095682061817344\n",
      "Total number of random sets: 800, GR_stat: 1.0050439979002004\n",
      "Total number of random sets: 900, GR_stat: 1.0073178700858179\n",
      "Total number of random sets: 1000, GR_stat: 1.005421627121742\n",
      "Total number of random sets: 1100, GR_stat: 1.0036146638259091\n",
      "Therehosld: 8991\n",
      "We have seen 1200 random subsets for each feature.\n"
     ]
    },
    {
     "name": "stderr",
     "output_type": "stream",
     "text": [
      "\r",
      " 66%|███████████████████████████████████████████████████████████████████▉                                   | 66/100 [17:55<08:41, 15.33s/it]"
     ]
    },
    {
     "name": "stdout",
     "output_type": "stream",
     "text": [
      "Total number of random sets: 200, GR_stat: 1.0311043836393954\n",
      "Total number of random sets: 300, GR_stat: 1.0237866187883538\n",
      "Total number of random sets: 400, GR_stat: 1.0138776629994666\n",
      "Total number of random sets: 500, GR_stat: 1.01435126629242\n",
      "Total number of random sets: 600, GR_stat: 1.0137200106999935\n",
      "Total number of random sets: 700, GR_stat: 1.0127288935946857\n",
      "Total number of random sets: 800, GR_stat: 1.0097271472392089\n",
      "Total number of random sets: 900, GR_stat: 1.0081812305788027\n",
      "Total number of random sets: 1000, GR_stat: 1.0092646022617862\n",
      "Total number of random sets: 1100, GR_stat: 1.010338058983615\n",
      "Total number of random sets: 1200, GR_stat: 1.007372321508631\n",
      "Total number of random sets: 1300, GR_stat: 1.0077043096028797\n",
      "Total number of random sets: 1400, GR_stat: 1.0079249048935992\n",
      "Total number of random sets: 1500, GR_stat: 1.0083264635538913\n",
      "Total number of random sets: 1600, GR_stat: 1.0065130316436761\n",
      "Total number of random sets: 1700, GR_stat: 1.007178791237902\n",
      "Total number of random sets: 1800, GR_stat: 1.005246217144827\n",
      "Total number of random sets: 1900, GR_stat: 1.0078345276720062\n",
      "Total number of random sets: 2000, GR_stat: 1.0055548781409813\n",
      "Total number of random sets: 2100, GR_stat: 1.0056833112340697\n",
      "Total number of random sets: 2200, GR_stat: 1.0059519220843962\n",
      "Total number of random sets: 2300, GR_stat: 1.0034765510709818\n",
      "Therehosld: 8991\n",
      "We have seen 2400 random subsets for each feature.\n"
     ]
    },
    {
     "name": "stderr",
     "output_type": "stream",
     "text": [
      "\r",
      " 67%|█████████████████████████████████████████████████████████████████████                                  | 67/100 [18:22<10:25, 18.94s/it]"
     ]
    },
    {
     "name": "stdout",
     "output_type": "stream",
     "text": [
      "Total number of random sets: 200, GR_stat: 1.0432059869273014\n",
      "Total number of random sets: 300, GR_stat: 1.028805176592279\n",
      "Total number of random sets: 400, GR_stat: 1.0139946160439661\n",
      "Total number of random sets: 500, GR_stat: 1.017537695393352\n",
      "Total number of random sets: 600, GR_stat: 1.0125875458306681\n",
      "Total number of random sets: 700, GR_stat: 1.0085980101895908\n",
      "Total number of random sets: 800, GR_stat: 1.010278651986829\n",
      "Total number of random sets: 900, GR_stat: 1.0083648554350106\n",
      "Total number of random sets: 1000, GR_stat: 1.0066709658118822\n",
      "Total number of random sets: 1100, GR_stat: 1.0066860446018449\n",
      "Total number of random sets: 1200, GR_stat: 1.0073633714545616\n",
      "Total number of random sets: 1300, GR_stat: 1.004774991763294\n",
      "Therehosld: 8991\n",
      "We have seen 1400 random subsets for each feature.\n"
     ]
    },
    {
     "name": "stderr",
     "output_type": "stream",
     "text": [
      "\r",
      " 68%|██████████████████████████████████████████████████████████████████████                                 | 68/100 [18:38<09:33, 17.91s/it]"
     ]
    },
    {
     "name": "stdout",
     "output_type": "stream",
     "text": [
      "Total number of random sets: 200, GR_stat: 1.0393840127352076\n",
      "Total number of random sets: 300, GR_stat: 1.019845916208746\n",
      "Total number of random sets: 400, GR_stat: 1.0159627358049164\n",
      "Total number of random sets: 500, GR_stat: 1.0131020686697827\n",
      "Total number of random sets: 600, GR_stat: 1.0150164974092826\n",
      "Total number of random sets: 700, GR_stat: 1.0098126987243612\n",
      "Total number of random sets: 800, GR_stat: 1.0079682929424534\n",
      "Total number of random sets: 900, GR_stat: 1.0097334269469787\n",
      "Total number of random sets: 1000, GR_stat: 1.0058477390587055\n",
      "Total number of random sets: 1100, GR_stat: 1.0089681410847962\n",
      "Total number of random sets: 1200, GR_stat: 1.0055015653572477\n",
      "Total number of random sets: 1300, GR_stat: 1.0059347883339347\n",
      "Total number of random sets: 1400, GR_stat: 1.0060071320116375\n",
      "Total number of random sets: 1500, GR_stat: 1.004019347968144\n",
      "Therehosld: 8991\n",
      "We have seen 1600 random subsets for each feature.\n"
     ]
    },
    {
     "name": "stderr",
     "output_type": "stream",
     "text": [
      "\r",
      " 69%|███████████████████████████████████████████████████████████████████████                                | 69/100 [18:56<09:14, 17.89s/it]"
     ]
    },
    {
     "name": "stdout",
     "output_type": "stream",
     "text": [
      "Total number of random sets: 200, GR_stat: 1.029652456521849\n",
      "Total number of random sets: 300, GR_stat: 1.023001806896265\n",
      "Total number of random sets: 400, GR_stat: 1.0175424439073482\n",
      "Total number of random sets: 500, GR_stat: 1.0126161410944534\n",
      "Total number of random sets: 600, GR_stat: 1.0148734136191775\n",
      "Total number of random sets: 700, GR_stat: 1.0123640276685093\n",
      "Total number of random sets: 800, GR_stat: 1.0085123956926383\n",
      "Total number of random sets: 900, GR_stat: 1.0108148590041623\n",
      "Total number of random sets: 1000, GR_stat: 1.0066269635275988\n",
      "Total number of random sets: 1100, GR_stat: 1.0074406327151655\n",
      "Total number of random sets: 1200, GR_stat: 1.006032358889599\n",
      "Total number of random sets: 1300, GR_stat: 1.0064977791801832\n",
      "Total number of random sets: 1400, GR_stat: 1.0062291031599928\n",
      "Total number of random sets: 1500, GR_stat: 1.0076885901230839\n",
      "Total number of random sets: 1600, GR_stat: 1.0057230038119065\n",
      "Total number of random sets: 1700, GR_stat: 1.005069725326014\n",
      "Total number of random sets: 1800, GR_stat: 1.0031283247933176\n",
      "Therehosld: 8991\n",
      "We have seen 1900 random subsets for each feature.\n"
     ]
    },
    {
     "name": "stderr",
     "output_type": "stream",
     "text": [
      "\r",
      " 70%|████████████████████████████████████████████████████████████████████████                               | 70/100 [19:17<09:28, 18.96s/it]"
     ]
    },
    {
     "name": "stdout",
     "output_type": "stream",
     "text": [
      "Total number of random sets: 200, GR_stat: 1.040535432050826\n",
      "Total number of random sets: 300, GR_stat: 1.027759412676796\n",
      "Total number of random sets: 400, GR_stat: 1.0191560240098219\n",
      "Total number of random sets: 500, GR_stat: 1.0164380277293459\n",
      "Total number of random sets: 600, GR_stat: 1.0103314831937256\n",
      "Total number of random sets: 700, GR_stat: 1.0145491012463859\n",
      "Total number of random sets: 800, GR_stat: 1.0111511790285568\n",
      "Total number of random sets: 900, GR_stat: 1.0118702858819002\n",
      "Total number of random sets: 1000, GR_stat: 1.0077347022368217\n",
      "Total number of random sets: 1100, GR_stat: 1.0052643667013563\n",
      "Total number of random sets: 1200, GR_stat: 1.0095284436178036\n",
      "Total number of random sets: 1300, GR_stat: 1.0051855338251678\n",
      "Total number of random sets: 1400, GR_stat: 1.006215077449582\n",
      "Total number of random sets: 1500, GR_stat: 1.00433244749761\n",
      "Therehosld: 8991\n",
      "We have seen 1600 random subsets for each feature.\n"
     ]
    },
    {
     "name": "stderr",
     "output_type": "stream",
     "text": [
      "\r",
      " 71%|█████████████████████████████████████████████████████████████████████████▏                             | 71/100 [19:35<09:00, 18.64s/it]"
     ]
    },
    {
     "name": "stdout",
     "output_type": "stream",
     "text": [
      "Total number of random sets: 200, GR_stat: 1.0277359697029\n",
      "Total number of random sets: 300, GR_stat: 1.039623394855109\n",
      "Total number of random sets: 400, GR_stat: 1.0250332288796347\n",
      "Total number of random sets: 500, GR_stat: 1.013653849942059\n",
      "Total number of random sets: 600, GR_stat: 1.0116328759942486\n",
      "Total number of random sets: 700, GR_stat: 1.0104432477046823\n",
      "Total number of random sets: 800, GR_stat: 1.010235879967432\n",
      "Total number of random sets: 900, GR_stat: 1.007509747539845\n",
      "Total number of random sets: 1000, GR_stat: 1.0052924947693562\n",
      "Total number of random sets: 1100, GR_stat: 1.0076169228059857\n",
      "Total number of random sets: 1200, GR_stat: 1.0044243465403122\n",
      "Therehosld: 8991\n",
      "We have seen 1300 random subsets for each feature.\n"
     ]
    },
    {
     "name": "stderr",
     "output_type": "stream",
     "text": [
      "\r",
      " 72%|██████████████████████████████████████████████████████████████████████████▏                            | 72/100 [19:49<08:06, 17.39s/it]"
     ]
    },
    {
     "name": "stdout",
     "output_type": "stream",
     "text": [
      "Total number of random sets: 200, GR_stat: 1.0490991014842321\n",
      "Total number of random sets: 300, GR_stat: 1.0402543312158434\n",
      "Total number of random sets: 400, GR_stat: 1.0191399113877557\n",
      "Total number of random sets: 500, GR_stat: 1.0123935791964407\n",
      "Total number of random sets: 600, GR_stat: 1.0104103036122185\n",
      "Total number of random sets: 700, GR_stat: 1.0148099231847414\n",
      "Total number of random sets: 800, GR_stat: 1.0082599638681236\n",
      "Total number of random sets: 900, GR_stat: 1.009415029661887\n",
      "Total number of random sets: 1000, GR_stat: 1.0072677948869346\n",
      "Total number of random sets: 1100, GR_stat: 1.00520938717409\n",
      "Total number of random sets: 1200, GR_stat: 1.0085243594720699\n",
      "Total number of random sets: 1300, GR_stat: 1.0039215198579325\n",
      "Therehosld: 8991\n",
      "We have seen 1400 random subsets for each feature.\n"
     ]
    },
    {
     "name": "stderr",
     "output_type": "stream",
     "text": [
      "\r",
      " 73%|███████████████████████████████████████████████████████████████████████████▏                           | 73/100 [20:05<07:34, 16.83s/it]"
     ]
    },
    {
     "name": "stdout",
     "output_type": "stream",
     "text": [
      "Total number of random sets: 200, GR_stat: 1.047470172072018\n",
      "Total number of random sets: 300, GR_stat: 1.0359964372655082\n",
      "Total number of random sets: 400, GR_stat: 1.0209496826324485\n",
      "Total number of random sets: 500, GR_stat: 1.0141414235093995\n",
      "Total number of random sets: 600, GR_stat: 1.011812335004532\n",
      "Total number of random sets: 700, GR_stat: 1.010914742724893\n",
      "Total number of random sets: 800, GR_stat: 1.011630953078799\n",
      "Total number of random sets: 900, GR_stat: 1.0095653463213672\n",
      "Total number of random sets: 1000, GR_stat: 1.014079019711265\n",
      "Total number of random sets: 1100, GR_stat: 1.007220626870855\n",
      "Total number of random sets: 1200, GR_stat: 1.0114258938510405\n",
      "Total number of random sets: 1300, GR_stat: 1.0068777488271299\n",
      "Total number of random sets: 1400, GR_stat: 1.004983179943074\n",
      "Therehosld: 8991\n",
      "We have seen 1500 random subsets for each feature.\n"
     ]
    },
    {
     "name": "stderr",
     "output_type": "stream",
     "text": [
      "\r",
      " 74%|████████████████████████████████████████████████████████████████████████████▏                          | 74/100 [20:22<07:16, 16.80s/it]"
     ]
    },
    {
     "name": "stdout",
     "output_type": "stream",
     "text": [
      "Total number of random sets: 200, GR_stat: 1.0261359364242129\n",
      "Total number of random sets: 300, GR_stat: 1.035948782278134\n",
      "Total number of random sets: 400, GR_stat: 1.0179348092132965\n",
      "Total number of random sets: 500, GR_stat: 1.0127781253722556\n",
      "Total number of random sets: 600, GR_stat: 1.0082881160368944\n",
      "Total number of random sets: 700, GR_stat: 1.0088254964353798\n",
      "Total number of random sets: 800, GR_stat: 1.0085927751229515\n",
      "Total number of random sets: 900, GR_stat: 1.0085234011421247\n",
      "Total number of random sets: 1000, GR_stat: 1.0077989459839716\n",
      "Total number of random sets: 1100, GR_stat: 1.004856142548048\n",
      "Therehosld: 8991\n",
      "We have seen 1200 random subsets for each feature.\n"
     ]
    },
    {
     "name": "stderr",
     "output_type": "stream",
     "text": [
      "\r",
      " 75%|█████████████████████████████████████████████████████████████████████████████▎                         | 75/100 [20:35<06:32, 15.70s/it]"
     ]
    },
    {
     "name": "stdout",
     "output_type": "stream",
     "text": [
      "Total number of random sets: 200, GR_stat: 1.0421742205079323\n",
      "Total number of random sets: 300, GR_stat: 1.0332406023218785\n",
      "Total number of random sets: 400, GR_stat: 1.0136258267191736\n",
      "Total number of random sets: 500, GR_stat: 1.0230702512836893\n",
      "Total number of random sets: 600, GR_stat: 1.008349378861752\n",
      "Total number of random sets: 700, GR_stat: 1.0128179863312565\n",
      "Total number of random sets: 800, GR_stat: 1.0110065913512687\n",
      "Total number of random sets: 900, GR_stat: 1.0099072116282\n",
      "Total number of random sets: 1000, GR_stat: 1.0127427683002277\n",
      "Total number of random sets: 1100, GR_stat: 1.0079506898715367\n",
      "Total number of random sets: 1200, GR_stat: 1.0066885089220585\n",
      "Total number of random sets: 1300, GR_stat: 1.008760255568105\n",
      "Total number of random sets: 1400, GR_stat: 1.004598014251311\n",
      "Therehosld: 8991\n",
      "We have seen 1500 random subsets for each feature.\n"
     ]
    },
    {
     "name": "stderr",
     "output_type": "stream",
     "text": [
      "\r",
      " 76%|██████████████████████████████████████████████████████████████████████████████▎                        | 76/100 [20:51<06:23, 15.99s/it]"
     ]
    },
    {
     "name": "stdout",
     "output_type": "stream",
     "text": [
      "Total number of random sets: 200, GR_stat: 1.0385904386245988\n",
      "Total number of random sets: 300, GR_stat: 1.026749665147735\n",
      "Total number of random sets: 400, GR_stat: 1.0146623901670297\n",
      "Total number of random sets: 500, GR_stat: 1.0121200941953372\n",
      "Total number of random sets: 600, GR_stat: 1.0097363151630439\n",
      "Total number of random sets: 700, GR_stat: 1.0100835650112365\n",
      "Total number of random sets: 800, GR_stat: 1.0089027393042365\n",
      "Total number of random sets: 900, GR_stat: 1.0085820876604465\n",
      "Total number of random sets: 1000, GR_stat: 1.0040745216065514\n",
      "Therehosld: 8991\n",
      "We have seen 1100 random subsets for each feature.\n"
     ]
    },
    {
     "name": "stderr",
     "output_type": "stream",
     "text": [
      "\r",
      " 77%|███████████████████████████████████████████████████████████████████████████████▎                       | 77/100 [21:03<05:39, 14.78s/it]"
     ]
    },
    {
     "name": "stdout",
     "output_type": "stream",
     "text": [
      "Total number of random sets: 200, GR_stat: 1.0330160343373056\n",
      "Total number of random sets: 300, GR_stat: 1.0201853715014904\n",
      "Total number of random sets: 400, GR_stat: 1.0180307942397249\n",
      "Total number of random sets: 500, GR_stat: 1.011326449337572\n",
      "Total number of random sets: 600, GR_stat: 1.0106465902051949\n",
      "Total number of random sets: 700, GR_stat: 1.01420114907488\n",
      "Total number of random sets: 800, GR_stat: 1.009525427747062\n",
      "Total number of random sets: 900, GR_stat: 1.0070669156619683\n",
      "Total number of random sets: 1000, GR_stat: 1.0109189489397392\n",
      "Total number of random sets: 1100, GR_stat: 1.0049696781352029\n",
      "Therehosld: 8991\n",
      "We have seen 1200 random subsets for each feature.\n"
     ]
    },
    {
     "name": "stderr",
     "output_type": "stream",
     "text": [
      "\r",
      " 78%|████████████████████████████████████████████████████████████████████████████████▎                      | 78/100 [21:16<05:14, 14.29s/it]"
     ]
    },
    {
     "name": "stdout",
     "output_type": "stream",
     "text": [
      "Total number of random sets: 200, GR_stat: 1.0249963577293322\n",
      "Total number of random sets: 300, GR_stat: 1.0321322728458462\n",
      "Total number of random sets: 400, GR_stat: 1.0213014314750166\n",
      "Total number of random sets: 500, GR_stat: 1.0198852769139697\n",
      "Total number of random sets: 600, GR_stat: 1.0191587088448546\n",
      "Total number of random sets: 700, GR_stat: 1.0101137586829603\n",
      "Total number of random sets: 800, GR_stat: 1.011710327786252\n",
      "Total number of random sets: 900, GR_stat: 1.0091309403312632\n",
      "Total number of random sets: 1000, GR_stat: 1.0130243167070359\n",
      "Total number of random sets: 1100, GR_stat: 1.0089211699549658\n",
      "Total number of random sets: 1200, GR_stat: 1.0093131526867754\n",
      "Total number of random sets: 1300, GR_stat: 1.0111470102953766\n",
      "Total number of random sets: 1400, GR_stat: 1.0070156441095737\n",
      "Total number of random sets: 1500, GR_stat: 1.0095787653507822\n",
      "Total number of random sets: 1600, GR_stat: 1.0046866417838283\n",
      "Therehosld: 8991\n",
      "We have seen 1700 random subsets for each feature.\n"
     ]
    },
    {
     "name": "stderr",
     "output_type": "stream",
     "text": [
      "\r",
      " 79%|█████████████████████████████████████████████████████████████████████████████████▎                     | 79/100 [21:36<05:30, 15.72s/it]"
     ]
    },
    {
     "name": "stdout",
     "output_type": "stream",
     "text": [
      "Total number of random sets: 200, GR_stat: 1.0515697705884952\n",
      "Total number of random sets: 300, GR_stat: 1.0262503487226644\n",
      "Total number of random sets: 400, GR_stat: 1.0130284930408455\n",
      "Total number of random sets: 500, GR_stat: 1.0148069264491633\n",
      "Total number of random sets: 600, GR_stat: 1.0117510509710128\n",
      "Total number of random sets: 700, GR_stat: 1.0121192095416063\n",
      "Total number of random sets: 800, GR_stat: 1.0112169481556783\n",
      "Total number of random sets: 900, GR_stat: 1.0095441652683097\n",
      "Total number of random sets: 1000, GR_stat: 1.0093759108866998\n",
      "Total number of random sets: 1100, GR_stat: 1.0060518775825262\n",
      "Total number of random sets: 1200, GR_stat: 1.0060023081716496\n",
      "Total number of random sets: 1300, GR_stat: 1.0053554629176282\n",
      "Total number of random sets: 1400, GR_stat: 1.0055528493117074\n",
      "Total number of random sets: 1500, GR_stat: 1.0042227389364602\n",
      "Therehosld: 8991\n",
      "We have seen 1600 random subsets for each feature.\n"
     ]
    },
    {
     "name": "stderr",
     "output_type": "stream",
     "text": [
      "\r",
      " 80%|██████████████████████████████████████████████████████████████████████████████████▍                    | 80/100 [21:54<05:28, 16.40s/it]"
     ]
    },
    {
     "name": "stdout",
     "output_type": "stream",
     "text": [
      "Total number of random sets: 200, GR_stat: 1.054978722503143\n",
      "Total number of random sets: 300, GR_stat: 1.0210567319174837\n",
      "Total number of random sets: 400, GR_stat: 1.0230960128626354\n",
      "Total number of random sets: 500, GR_stat: 1.0310822333870084\n",
      "Total number of random sets: 600, GR_stat: 1.024484651655912\n",
      "Total number of random sets: 700, GR_stat: 1.0206511246553445\n",
      "Total number of random sets: 800, GR_stat: 1.0092783990049257\n",
      "Total number of random sets: 900, GR_stat: 1.0069102101849572\n",
      "Total number of random sets: 1000, GR_stat: 1.0140273257967534\n",
      "Total number of random sets: 1100, GR_stat: 1.0051710345374738\n",
      "Total number of random sets: 1200, GR_stat: 1.0049426549120037\n",
      "Therehosld: 8991\n",
      "We have seen 1300 random subsets for each feature.\n"
     ]
    },
    {
     "name": "stderr",
     "output_type": "stream",
     "text": [
      "\r",
      " 81%|███████████████████████████████████████████████████████████████████████████████████▍                   | 81/100 [22:08<04:59, 15.78s/it]"
     ]
    },
    {
     "name": "stdout",
     "output_type": "stream",
     "text": [
      "Total number of random sets: 200, GR_stat: 1.0448676349942563\n",
      "Total number of random sets: 300, GR_stat: 1.0221040046836822\n",
      "Total number of random sets: 400, GR_stat: 1.0199268974958666\n",
      "Total number of random sets: 500, GR_stat: 1.013624335669919\n",
      "Total number of random sets: 600, GR_stat: 1.0126042006271843\n",
      "Total number of random sets: 700, GR_stat: 1.0133042668101957\n",
      "Total number of random sets: 800, GR_stat: 1.0090792248774028\n",
      "Total number of random sets: 900, GR_stat: 1.010140348408058\n",
      "Total number of random sets: 1000, GR_stat: 1.0077020719888263\n",
      "Total number of random sets: 1100, GR_stat: 1.0069507814797873\n",
      "Total number of random sets: 1200, GR_stat: 1.0062284151508003\n",
      "Total number of random sets: 1300, GR_stat: 1.005789948009069\n",
      "Total number of random sets: 1400, GR_stat: 1.0066795580820591\n",
      "Total number of random sets: 1500, GR_stat: 1.0050526251847076\n",
      "Total number of random sets: 1600, GR_stat: 1.006706698172089\n",
      "Total number of random sets: 1700, GR_stat: 1.0033665603080908\n",
      "Therehosld: 8991\n",
      "We have seen 1800 random subsets for each feature.\n"
     ]
    },
    {
     "name": "stderr",
     "output_type": "stream",
     "text": [
      "\r",
      " 82%|████████████████████████████████████████████████████████████████████████████████████▍                  | 82/100 [22:28<05:08, 17.11s/it]"
     ]
    },
    {
     "name": "stdout",
     "output_type": "stream",
     "text": [
      "Total number of random sets: 200, GR_stat: 1.0367620090046594\n",
      "Total number of random sets: 300, GR_stat: 1.0370169932565085\n",
      "Total number of random sets: 400, GR_stat: 1.0175015464144008\n",
      "Total number of random sets: 500, GR_stat: 1.0117096854729306\n",
      "Total number of random sets: 600, GR_stat: 1.0127877821412932\n",
      "Total number of random sets: 700, GR_stat: 1.012203069664136\n",
      "Total number of random sets: 800, GR_stat: 1.008303570740262\n",
      "Total number of random sets: 900, GR_stat: 1.0072854007479883\n",
      "Total number of random sets: 1000, GR_stat: 1.0076169357975107\n",
      "Total number of random sets: 1100, GR_stat: 1.0073605026864199\n",
      "Total number of random sets: 1200, GR_stat: 1.0066961803952597\n",
      "Total number of random sets: 1300, GR_stat: 1.006289970214487\n",
      "Total number of random sets: 1400, GR_stat: 1.0043137614290243\n",
      "Therehosld: 8991\n",
      "We have seen 1500 random subsets for each feature.\n"
     ]
    },
    {
     "name": "stderr",
     "output_type": "stream",
     "text": [
      "\r",
      " 83%|█████████████████████████████████████████████████████████████████████████████████████▍                 | 83/100 [22:45<04:48, 16.99s/it]"
     ]
    },
    {
     "name": "stdout",
     "output_type": "stream",
     "text": [
      "Total number of random sets: 200, GR_stat: 1.048893177290633\n",
      "Total number of random sets: 300, GR_stat: 1.0262931176440795\n",
      "Total number of random sets: 400, GR_stat: 1.0178463367066413\n",
      "Total number of random sets: 500, GR_stat: 1.0172980896478736\n",
      "Total number of random sets: 600, GR_stat: 1.0114322607476998\n",
      "Total number of random sets: 700, GR_stat: 1.0111836945475383\n",
      "Total number of random sets: 800, GR_stat: 1.0062440551250302\n",
      "Total number of random sets: 900, GR_stat: 1.0052931844660056\n",
      "Total number of random sets: 1000, GR_stat: 1.0058282285092353\n",
      "Total number of random sets: 1100, GR_stat: 1.0059940204860842\n",
      "Total number of random sets: 1200, GR_stat: 1.0068866500492246\n",
      "Total number of random sets: 1300, GR_stat: 1.0051374139005764\n",
      "Total number of random sets: 1400, GR_stat: 1.0057458086183817\n",
      "Total number of random sets: 1500, GR_stat: 1.0037665479624884\n",
      "Therehosld: 8991\n",
      "We have seen 1600 random subsets for each feature.\n"
     ]
    },
    {
     "name": "stderr",
     "output_type": "stream",
     "text": [
      "\r",
      " 84%|██████████████████████████████████████████████████████████████████████████████████████▌                | 84/100 [23:03<04:36, 17.25s/it]"
     ]
    },
    {
     "name": "stdout",
     "output_type": "stream",
     "text": [
      "Total number of random sets: 200, GR_stat: 1.0511306598088608\n",
      "Total number of random sets: 300, GR_stat: 1.024634751068999\n",
      "Total number of random sets: 400, GR_stat: 1.0253764170801927\n",
      "Total number of random sets: 500, GR_stat: 1.0154642365630258\n",
      "Total number of random sets: 600, GR_stat: 1.0167780562135385\n",
      "Total number of random sets: 700, GR_stat: 1.015290327648301\n",
      "Total number of random sets: 800, GR_stat: 1.0164113500672376\n",
      "Total number of random sets: 900, GR_stat: 1.007432871268749\n",
      "Total number of random sets: 1000, GR_stat: 1.0071902220419815\n",
      "Total number of random sets: 1100, GR_stat: 1.0087187770367736\n",
      "Total number of random sets: 1200, GR_stat: 1.006422113497399\n",
      "Total number of random sets: 1300, GR_stat: 1.0048199135114528\n",
      "Therehosld: 8991\n",
      "We have seen 1400 random subsets for each feature.\n"
     ]
    },
    {
     "name": "stderr",
     "output_type": "stream",
     "text": [
      "\r",
      " 85%|███████████████████████████████████████████████████████████████████████████████████████▌               | 85/100 [23:18<04:10, 16.72s/it]"
     ]
    },
    {
     "name": "stdout",
     "output_type": "stream",
     "text": [
      "Total number of random sets: 200, GR_stat: 1.0358589348198626\n",
      "Total number of random sets: 300, GR_stat: 1.0276025299423481\n",
      "Total number of random sets: 400, GR_stat: 1.0124105807525465\n",
      "Total number of random sets: 500, GR_stat: 1.0209042504268988\n",
      "Total number of random sets: 600, GR_stat: 1.0153264447794805\n",
      "Total number of random sets: 700, GR_stat: 1.0092367640228819\n",
      "Total number of random sets: 800, GR_stat: 1.0074033131221933\n",
      "Total number of random sets: 900, GR_stat: 1.0096104795566903\n",
      "Total number of random sets: 1000, GR_stat: 1.008084624812745\n",
      "Total number of random sets: 1100, GR_stat: 1.0078085412018263\n",
      "Total number of random sets: 1200, GR_stat: 1.009795820763234\n",
      "Total number of random sets: 1300, GR_stat: 1.0057347749628542\n",
      "Total number of random sets: 1400, GR_stat: 1.0059285699267386\n",
      "Total number of random sets: 1500, GR_stat: 1.0052911991576954\n",
      "Total number of random sets: 1600, GR_stat: 1.0046455716244673\n",
      "Therehosld: 8991\n",
      "We have seen 1700 random subsets for each feature.\n"
     ]
    },
    {
     "name": "stderr",
     "output_type": "stream",
     "text": [
      "\r",
      " 86%|████████████████████████████████████████████████████████████████████████████████████████▌              | 86/100 [23:37<04:03, 17.42s/it]"
     ]
    },
    {
     "name": "stdout",
     "output_type": "stream",
     "text": [
      "Total number of random sets: 200, GR_stat: 1.051638313500634\n",
      "Total number of random sets: 300, GR_stat: 1.026436997743458\n",
      "Total number of random sets: 400, GR_stat: 1.0245191737335135\n",
      "Total number of random sets: 500, GR_stat: 1.0121079331997473\n",
      "Total number of random sets: 600, GR_stat: 1.0110147365853936\n",
      "Total number of random sets: 700, GR_stat: 1.014917673607569\n",
      "Total number of random sets: 800, GR_stat: 1.009725732708831\n",
      "Total number of random sets: 900, GR_stat: 1.0114855156514084\n",
      "Total number of random sets: 1000, GR_stat: 1.008045056072813\n",
      "Total number of random sets: 1100, GR_stat: 1.0084806691903947\n",
      "Total number of random sets: 1200, GR_stat: 1.0088029041918853\n",
      "Total number of random sets: 1300, GR_stat: 1.0076992950973949\n",
      "Total number of random sets: 1400, GR_stat: 1.006206933658117\n",
      "Total number of random sets: 1500, GR_stat: 1.004746947032213\n",
      "Therehosld: 8991\n",
      "We have seen 1600 random subsets for each feature.\n"
     ]
    },
    {
     "name": "stderr",
     "output_type": "stream",
     "text": [
      "\r",
      " 87%|█████████████████████████████████████████████████████████████████████████████████████████▌             | 87/100 [23:55<03:49, 17.63s/it]"
     ]
    },
    {
     "name": "stdout",
     "output_type": "stream",
     "text": [
      "Total number of random sets: 200, GR_stat: 1.0370834869352077\n",
      "Total number of random sets: 300, GR_stat: 1.0197227290053548\n",
      "Total number of random sets: 400, GR_stat: 1.0138280290681658\n",
      "Total number of random sets: 500, GR_stat: 1.0160043152985294\n",
      "Total number of random sets: 600, GR_stat: 1.0105650972012048\n",
      "Total number of random sets: 700, GR_stat: 1.0132370608693886\n",
      "Total number of random sets: 800, GR_stat: 1.0104805342076424\n",
      "Total number of random sets: 900, GR_stat: 1.0077803296773673\n",
      "Total number of random sets: 1000, GR_stat: 1.0071219225655454\n",
      "Total number of random sets: 1100, GR_stat: 1.0092336063697336\n",
      "Total number of random sets: 1200, GR_stat: 1.0115269516567096\n",
      "Total number of random sets: 1300, GR_stat: 1.0051458577153638\n",
      "Total number of random sets: 1400, GR_stat: 1.0073758655259926\n",
      "Total number of random sets: 1500, GR_stat: 1.0047878399272412\n",
      "Therehosld: 8991\n",
      "We have seen 1600 random subsets for each feature.\n"
     ]
    },
    {
     "name": "stderr",
     "output_type": "stream",
     "text": [
      "\r",
      " 88%|██████████████████████████████████████████████████████████████████████████████████████████▋            | 88/100 [24:13<03:32, 17.70s/it]"
     ]
    },
    {
     "name": "stdout",
     "output_type": "stream",
     "text": [
      "Total number of random sets: 200, GR_stat: 1.0409090357137405\n",
      "Total number of random sets: 300, GR_stat: 1.0254162108229423\n",
      "Total number of random sets: 400, GR_stat: 1.018873218623218\n",
      "Total number of random sets: 500, GR_stat: 1.016844428018114\n",
      "Total number of random sets: 600, GR_stat: 1.0099456800422038\n",
      "Total number of random sets: 700, GR_stat: 1.0120874694380697\n",
      "Total number of random sets: 800, GR_stat: 1.0070908433440924\n",
      "Total number of random sets: 900, GR_stat: 1.0065115051516444\n",
      "Total number of random sets: 1000, GR_stat: 1.007360042150717\n",
      "Total number of random sets: 1100, GR_stat: 1.0062418868137104\n",
      "Total number of random sets: 1200, GR_stat: 1.0050793170847838\n",
      "Total number of random sets: 1300, GR_stat: 1.0074373999943471\n",
      "Total number of random sets: 1400, GR_stat: 1.004399890008076\n",
      "Therehosld: 8991\n",
      "We have seen 1500 random subsets for each feature.\n"
     ]
    },
    {
     "name": "stderr",
     "output_type": "stream",
     "text": [
      "\r",
      " 89%|███████████████████████████████████████████████████████████████████████████████████████████▋           | 89/100 [24:30<03:11, 17.39s/it]"
     ]
    },
    {
     "name": "stdout",
     "output_type": "stream",
     "text": [
      "Total number of random sets: 200, GR_stat: 1.0286799336811232\n",
      "Total number of random sets: 300, GR_stat: 1.0370717577456474\n",
      "Total number of random sets: 400, GR_stat: 1.0152332984629682\n",
      "Total number of random sets: 500, GR_stat: 1.0143786708096383\n",
      "Total number of random sets: 600, GR_stat: 1.0128870169998658\n",
      "Total number of random sets: 700, GR_stat: 1.0112546596414225\n",
      "Total number of random sets: 800, GR_stat: 1.0085241142963224\n",
      "Total number of random sets: 900, GR_stat: 1.0110242462811965\n",
      "Total number of random sets: 1000, GR_stat: 1.0094776148443068\n",
      "Total number of random sets: 1100, GR_stat: 1.007571995934362\n",
      "Total number of random sets: 1200, GR_stat: 1.0068738271107625\n",
      "Total number of random sets: 1300, GR_stat: 1.0057752087761918\n",
      "Total number of random sets: 1400, GR_stat: 1.0059315055681908\n",
      "Total number of random sets: 1500, GR_stat: 1.0064604782901543\n",
      "Total number of random sets: 1600, GR_stat: 1.0038790327063516\n",
      "Therehosld: 8991\n",
      "We have seen 1700 random subsets for each feature.\n"
     ]
    },
    {
     "name": "stderr",
     "output_type": "stream",
     "text": [
      "\r",
      " 90%|████████████████████████████████████████████████████████████████████████████████████████████▋          | 90/100 [24:49<02:59, 17.92s/it]"
     ]
    },
    {
     "name": "stdout",
     "output_type": "stream",
     "text": [
      "Total number of random sets: 200, GR_stat: 1.0399828423321087\n",
      "Total number of random sets: 300, GR_stat: 1.025108348046258\n",
      "Total number of random sets: 400, GR_stat: 1.0189499773751518\n",
      "Total number of random sets: 500, GR_stat: 1.0169821261087704\n",
      "Total number of random sets: 600, GR_stat: 1.0144780218160607\n",
      "Total number of random sets: 700, GR_stat: 1.0143455766435288\n",
      "Total number of random sets: 800, GR_stat: 1.0118717168786784\n",
      "Total number of random sets: 900, GR_stat: 1.0124757800523787\n",
      "Total number of random sets: 1000, GR_stat: 1.0060327531984175\n",
      "Total number of random sets: 1100, GR_stat: 1.0069742964415864\n",
      "Total number of random sets: 1200, GR_stat: 1.008423355198425\n",
      "Total number of random sets: 1300, GR_stat: 1.0055688224323986\n",
      "Total number of random sets: 1400, GR_stat: 1.0051868136274051\n",
      "Total number of random sets: 1500, GR_stat: 1.0044647770178885\n",
      "Therehosld: 8991\n",
      "We have seen 1600 random subsets for each feature.\n"
     ]
    },
    {
     "name": "stderr",
     "output_type": "stream",
     "text": [
      "\r",
      " 91%|█████████████████████████████████████████████████████████████████████████████████████████████▋         | 91/100 [25:07<02:41, 17.91s/it]"
     ]
    },
    {
     "name": "stdout",
     "output_type": "stream",
     "text": [
      "Total number of random sets: 200, GR_stat: 1.0450043562535023\n",
      "Total number of random sets: 300, GR_stat: 1.0303000534161635\n",
      "Total number of random sets: 400, GR_stat: 1.0229254849758522\n",
      "Total number of random sets: 500, GR_stat: 1.0198271661750256\n",
      "Total number of random sets: 600, GR_stat: 1.0145470569913546\n",
      "Total number of random sets: 700, GR_stat: 1.0110640239283075\n",
      "Total number of random sets: 800, GR_stat: 1.007033622189044\n",
      "Total number of random sets: 900, GR_stat: 1.0079235698289464\n",
      "Total number of random sets: 1000, GR_stat: 1.0084676687742538\n",
      "Total number of random sets: 1100, GR_stat: 1.0080341766443743\n",
      "Total number of random sets: 1200, GR_stat: 1.008883667964892\n",
      "Total number of random sets: 1300, GR_stat: 1.007946196143966\n",
      "Total number of random sets: 1400, GR_stat: 1.0077005024195358\n",
      "Total number of random sets: 1500, GR_stat: 1.006377064581294\n",
      "Total number of random sets: 1600, GR_stat: 1.0054450335633718\n",
      "Total number of random sets: 1700, GR_stat: 1.0046825538101278\n",
      "Therehosld: 8991\n",
      "We have seen 1800 random subsets for each feature.\n"
     ]
    },
    {
     "name": "stderr",
     "output_type": "stream",
     "text": [
      "\r",
      " 92%|██████████████████████████████████████████████████████████████████████████████████████████████▊        | 92/100 [25:27<02:28, 18.60s/it]"
     ]
    },
    {
     "name": "stdout",
     "output_type": "stream",
     "text": [
      "Total number of random sets: 200, GR_stat: 1.046865870132433\n",
      "Total number of random sets: 300, GR_stat: 1.02594255270584\n",
      "Total number of random sets: 400, GR_stat: 1.018825127515448\n",
      "Total number of random sets: 500, GR_stat: 1.022102616284162\n",
      "Total number of random sets: 600, GR_stat: 1.0121336933071676\n",
      "Total number of random sets: 700, GR_stat: 1.0165585014586596\n",
      "Total number of random sets: 800, GR_stat: 1.0123712013354376\n",
      "Total number of random sets: 900, GR_stat: 1.011877740101105\n",
      "Total number of random sets: 1000, GR_stat: 1.010017538713419\n",
      "Total number of random sets: 1100, GR_stat: 1.009488530785849\n",
      "Total number of random sets: 1200, GR_stat: 1.0058850991632124\n",
      "Total number of random sets: 1300, GR_stat: 1.0089386170751409\n",
      "Total number of random sets: 1400, GR_stat: 1.0056506471586009\n",
      "Total number of random sets: 1500, GR_stat: 1.0050399989672008\n",
      "Total number of random sets: 1600, GR_stat: 1.0035962288037314\n",
      "Therehosld: 8991\n",
      "We have seen 1700 random subsets for each feature.\n"
     ]
    },
    {
     "name": "stderr",
     "output_type": "stream",
     "text": [
      "\r",
      " 93%|███████████████████████████████████████████████████████████████████████████████████████████████▊       | 93/100 [25:46<02:11, 18.74s/it]"
     ]
    },
    {
     "name": "stdout",
     "output_type": "stream",
     "text": [
      "Total number of random sets: 200, GR_stat: 1.0452314703319932\n",
      "Total number of random sets: 300, GR_stat: 1.030434010025631\n",
      "Total number of random sets: 400, GR_stat: 1.0308819763388715\n",
      "Total number of random sets: 500, GR_stat: 1.022228397444225\n",
      "Total number of random sets: 600, GR_stat: 1.0137587791900653\n",
      "Total number of random sets: 700, GR_stat: 1.0172857127514228\n",
      "Total number of random sets: 800, GR_stat: 1.0105554761557616\n",
      "Total number of random sets: 900, GR_stat: 1.0080059918331332\n",
      "Total number of random sets: 1000, GR_stat: 1.0075514600123128\n",
      "Total number of random sets: 1100, GR_stat: 1.0056950363678943\n",
      "Total number of random sets: 1200, GR_stat: 1.0051219470776835\n",
      "Total number of random sets: 1300, GR_stat: 1.0046958985419687\n",
      "Therehosld: 8991\n",
      "We have seen 1400 random subsets for each feature.\n"
     ]
    },
    {
     "name": "stderr",
     "output_type": "stream",
     "text": [
      "\r",
      " 94%|████████████████████████████████████████████████████████████████████████████████████████████████▊      | 94/100 [26:02<01:46, 17.81s/it]"
     ]
    },
    {
     "name": "stdout",
     "output_type": "stream",
     "text": [
      "Total number of random sets: 200, GR_stat: 1.0461673779325416\n",
      "Total number of random sets: 300, GR_stat: 1.0187774613748688\n",
      "Total number of random sets: 400, GR_stat: 1.0220277528674155\n",
      "Total number of random sets: 500, GR_stat: 1.0139554325519502\n",
      "Total number of random sets: 600, GR_stat: 1.0131751970010687\n",
      "Total number of random sets: 700, GR_stat: 1.0084506808992053\n",
      "Total number of random sets: 800, GR_stat: 1.009505963209777\n",
      "Total number of random sets: 900, GR_stat: 1.0087119243734286\n",
      "Total number of random sets: 1000, GR_stat: 1.0067306597740027\n",
      "Total number of random sets: 1100, GR_stat: 1.0057962510917944\n",
      "Total number of random sets: 1200, GR_stat: 1.004804168499453\n",
      "Therehosld: 8991\n",
      "We have seen 1300 random subsets for each feature.\n"
     ]
    },
    {
     "name": "stderr",
     "output_type": "stream",
     "text": [
      "\r",
      " 95%|█████████████████████████████████████████████████████████████████████████████████████████████████▊     | 95/100 [26:16<01:23, 16.78s/it]"
     ]
    },
    {
     "name": "stdout",
     "output_type": "stream",
     "text": [
      "Total number of random sets: 200, GR_stat: 1.026786105612011\n",
      "Total number of random sets: 300, GR_stat: 1.0249023657684606\n",
      "Total number of random sets: 400, GR_stat: 1.0224585252442036\n",
      "Total number of random sets: 500, GR_stat: 1.0121144535575313\n",
      "Total number of random sets: 600, GR_stat: 1.0078412286738998\n",
      "Total number of random sets: 700, GR_stat: 1.0082312265414928\n",
      "Total number of random sets: 800, GR_stat: 1.0065567618872178\n",
      "Total number of random sets: 900, GR_stat: 1.0083901162327167\n",
      "Total number of random sets: 1000, GR_stat: 1.0065184445170094\n",
      "Total number of random sets: 1100, GR_stat: 1.00554673614773\n",
      "Total number of random sets: 1200, GR_stat: 1.0063224252330232\n",
      "Total number of random sets: 1300, GR_stat: 1.0053097628223067\n",
      "Total number of random sets: 1400, GR_stat: 1.004605083250596\n",
      "Therehosld: 8991\n",
      "We have seen 1500 random subsets for each feature.\n"
     ]
    },
    {
     "name": "stderr",
     "output_type": "stream",
     "text": [
      "\r",
      " 96%|██████████████████████████████████████████████████████████████████████████████████████████████████▉    | 96/100 [26:33<01:07, 16.76s/it]"
     ]
    },
    {
     "name": "stdout",
     "output_type": "stream",
     "text": [
      "Total number of random sets: 200, GR_stat: 1.026931074660754\n",
      "Total number of random sets: 300, GR_stat: 1.0244193912894042\n",
      "Total number of random sets: 400, GR_stat: 1.0201666597003802\n",
      "Total number of random sets: 500, GR_stat: 1.0260544782968162\n",
      "Total number of random sets: 600, GR_stat: 1.0155971821970848\n",
      "Total number of random sets: 700, GR_stat: 1.0134618250489618\n",
      "Total number of random sets: 800, GR_stat: 1.0094234992759323\n",
      "Total number of random sets: 900, GR_stat: 1.0100191202363453\n",
      "Total number of random sets: 1000, GR_stat: 1.0099994053673857\n",
      "Total number of random sets: 1100, GR_stat: 1.008681880100923\n",
      "Total number of random sets: 1200, GR_stat: 1.0060457207460396\n",
      "Total number of random sets: 1300, GR_stat: 1.0062599947391468\n",
      "Total number of random sets: 1400, GR_stat: 1.0042922890358439\n",
      "Therehosld: 8991\n",
      "We have seen 1500 random subsets for each feature.\n"
     ]
    },
    {
     "name": "stderr",
     "output_type": "stream",
     "text": [
      "\r",
      " 97%|███████████████████████████████████████████████████████████████████████████████████████████████████▉   | 97/100 [26:50<00:50, 16.73s/it]"
     ]
    },
    {
     "name": "stdout",
     "output_type": "stream",
     "text": [
      "Total number of random sets: 200, GR_stat: 1.0378794278194023\n",
      "Total number of random sets: 300, GR_stat: 1.0247612501283963\n",
      "Total number of random sets: 400, GR_stat: 1.0174842237571498\n",
      "Total number of random sets: 500, GR_stat: 1.013875283954211\n",
      "Total number of random sets: 600, GR_stat: 1.017327100820753\n",
      "Total number of random sets: 700, GR_stat: 1.0149107193937925\n",
      "Total number of random sets: 800, GR_stat: 1.0112786034132268\n",
      "Total number of random sets: 900, GR_stat: 1.0084351829805678\n",
      "Total number of random sets: 1000, GR_stat: 1.0064251754375964\n",
      "Total number of random sets: 1100, GR_stat: 1.0067390329606782\n",
      "Total number of random sets: 1200, GR_stat: 1.0085750787622074\n",
      "Total number of random sets: 1300, GR_stat: 1.0062857332311026\n",
      "Total number of random sets: 1400, GR_stat: 1.005039302490151\n",
      "Total number of random sets: 1500, GR_stat: 1.0047276709650625\n",
      "Therehosld: 8991\n",
      "We have seen 1600 random subsets for each feature.\n"
     ]
    },
    {
     "name": "stderr",
     "output_type": "stream",
     "text": [
      "\r",
      " 98%|████████████████████████████████████████████████████████████████████████████████████████████████████▉  | 98/100 [27:07<00:34, 17.07s/it]"
     ]
    },
    {
     "name": "stdout",
     "output_type": "stream",
     "text": [
      "Total number of random sets: 200, GR_stat: 1.045615736325599\n",
      "Total number of random sets: 300, GR_stat: 1.0378178244937493\n",
      "Total number of random sets: 400, GR_stat: 1.0184888396091023\n",
      "Total number of random sets: 500, GR_stat: 1.0128551593015656\n",
      "Total number of random sets: 600, GR_stat: 1.0171178851245168\n",
      "Total number of random sets: 700, GR_stat: 1.008811735088075\n",
      "Total number of random sets: 800, GR_stat: 1.01014222270753\n",
      "Total number of random sets: 900, GR_stat: 1.0115853515117228\n",
      "Total number of random sets: 1000, GR_stat: 1.009671713834924\n",
      "Total number of random sets: 1100, GR_stat: 1.0087415744595127\n",
      "Total number of random sets: 1200, GR_stat: 1.0057618851245682\n",
      "Total number of random sets: 1300, GR_stat: 1.0069947387000235\n",
      "Total number of random sets: 1400, GR_stat: 1.0045554632676221\n",
      "Therehosld: 8991\n",
      "We have seen 1500 random subsets for each feature.\n"
     ]
    },
    {
     "name": "stderr",
     "output_type": "stream",
     "text": [
      "\r",
      " 99%|█████████████████████████████████████████████████████████████████████████████████████████████████████▉ | 99/100 [27:24<00:16, 16.96s/it]"
     ]
    },
    {
     "name": "stdout",
     "output_type": "stream",
     "text": [
      "Total number of random sets: 200, GR_stat: 1.0358917963068703\n",
      "Total number of random sets: 300, GR_stat: 1.028015250233688\n",
      "Total number of random sets: 400, GR_stat: 1.0191026790194126\n",
      "Total number of random sets: 500, GR_stat: 1.012044343465493\n",
      "Total number of random sets: 600, GR_stat: 1.0141135566940875\n",
      "Total number of random sets: 700, GR_stat: 1.010673849871207\n",
      "Total number of random sets: 800, GR_stat: 1.0136033187184401\n",
      "Total number of random sets: 900, GR_stat: 1.0072508240213274\n",
      "Total number of random sets: 1000, GR_stat: 1.0069308413596758\n",
      "Total number of random sets: 1100, GR_stat: 1.0055361540550662\n",
      "Total number of random sets: 1200, GR_stat: 1.0048894237299364\n",
      "Therehosld: 8991\n",
      "We have seen 1300 random subsets for each feature.\n"
     ]
    },
    {
     "name": "stderr",
     "output_type": "stream",
     "text": [
      "100%|██████████████████████████████████████████████████████████████████████████████████████████████████████| 100/100 [27:38<00:00, 16.59s/it]"
     ]
    },
    {
     "name": "stdout",
     "output_type": "stream",
     "text": [
      "CPU times: user 32min 20s, sys: 402 ms, total: 32min 21s\n",
      "Wall time: 32min 32s\n"
     ]
    },
    {
     "name": "stderr",
     "output_type": "stream",
     "text": [
      "\n"
     ]
    }
   ],
   "source": [
    "%%time\n",
    "if not os.path.exists(f'{dir_path}/fraud_example.pickle'):\n",
    "    # Generate a conditional coalition function\n",
    "    conditional_extension=weightedSHAP.generate_coalition_function(model_to_explain, X_train, X_est, problem, ML_model)\n",
    "    \n",
    "    # With the conditional coalition function, we compute attributions\n",
    "    exp_dict=weightedSHAP.compute_attributions(problem, ML_model,\n",
    "                                                 model_to_explain, conditional_extension,\n",
    "                                                 X_train, y_train,\n",
    "                                                 X_val, y_val, \n",
    "                                                 X_test, y_test)\n",
    "\n",
    "    with open(f'{dir_path}/fraud_example.pickle', 'wb') as handle:\n",
    "        pickle.dump(exp_dict, handle, protocol=pickle.HIGHEST_PROTOCOL)\n",
    "else:\n",
    "    with open(f'{dir_path}/fraud_example.pickle', 'rb') as handle:\n",
    "        exp_dict = pickle.load(handle)\n"
   ]
  },
  {
   "cell_type": "markdown",
   "id": "aea55d5e",
   "metadata": {},
   "source": [
    "## Analysis on WeightedSHAP\n",
    "\n",
    "- The output of `weightedSHAP.compute_attributions` includes\n",
    " - `value_list`: A list of WeightedSHAP values\n",
    " - `true_list`: A list of true labels\n",
    " - `pred_list`: A list of predictions\n",
    " - `input_list`: A list of inputs \n",
    " - `cond_pred_keep_absolute`: Conditional expectation of predictions. Features with large absolute values are added first.\n"
   ]
  },
  {
   "cell_type": "code",
   "execution_count": 5,
   "id": "a94ffbd0",
   "metadata": {},
   "outputs": [
    {
     "data": {
      "text/plain": [
       "dict_keys(['value_list', 'true_list', 'pred_list', 'input_list', 'cond_pred_keep_absolute'])"
      ]
     },
     "execution_count": 5,
     "metadata": {},
     "output_type": "execute_result"
    }
   ],
   "source": [
    "exp_dict.keys()"
   ]
  },
  {
   "cell_type": "code",
   "execution_count": 6,
   "id": "152c3f55",
   "metadata": {},
   "outputs": [
    {
     "name": "stdout",
     "output_type": "stream",
     "text": [
      "MSE of the original model: 0.226\n"
     ]
    }
   ],
   "source": [
    "y_test=np.array(exp_dict['true_list'])\n",
    "pred_list=np.array(exp_dict['pred_list'])\n",
    "print(f'MSE of the original model: {np.mean((y_test-pred_list)**2):.3f}') "
   ]
  },
  {
   "cell_type": "code",
   "execution_count": 7,
   "id": "b5ee0fff",
   "metadata": {},
   "outputs": [
    {
     "data": {
      "text/plain": [
       "array([ 5.27072906e-04,  1.15623832e-04, -5.90561759e-04, -8.56068487e-04,\n",
       "       -2.00099095e-03, -4.33300002e-04, -2.32418838e-04,  1.56371117e-04,\n",
       "        6.06552122e-04,  2.02561724e-04, -3.74546747e-04, -3.55333934e-04,\n",
       "       -4.69395899e-04, -2.51963355e-04, -4.93760546e-04, -2.75447831e-04,\n",
       "       -1.00003397e-03, -6.22114935e-04, -6.86678428e-04, -4.97084540e-04,\n",
       "       -4.39929183e-04, -1.46221802e-04,  9.40129984e-04,  4.76076439e-05,\n",
       "       -3.04372283e-04, -5.95798592e-06,  3.08996978e-05, -4.45181898e-05,\n",
       "       -1.66809801e-04, -8.60084820e-04,  7.07575418e-05,  3.91670292e-04,\n",
       "       -1.51094738e-05,  2.16321038e-04, -7.68537157e-05, -1.71748609e-05,\n",
       "       -4.00098588e-05,  2.55571345e-05,  1.56242911e-04, -4.88033612e-05,\n",
       "       -3.13683119e-05, -3.38949756e-05, -7.08956632e-05,  1.15877723e-04,\n",
       "       -4.30486561e-06,  2.48757653e-05, -6.56670849e-05,  1.08915042e-04,\n",
       "        1.27705742e-04,  2.64011764e-04, -3.18576616e-04, -4.15835907e-04,\n",
       "        4.23872671e-05, -1.05014579e-04,  4.11649143e-05,  5.16132021e-05,\n",
       "        5.10616794e-05, -1.01175845e-04,  3.88619947e-04,  8.45262658e-04,\n",
       "       -8.63789368e-05,  1.48592811e-04, -6.97463789e-05,  1.42736072e-05,\n",
       "       -3.28376631e-05, -7.96537603e-05,  3.96361225e-06,  1.09929530e-04,\n",
       "       -2.14001856e-04,  1.90145145e-04,  2.05256898e-05,  3.13287542e-04,\n",
       "       -4.47199838e-04,  4.24249374e-05, -4.66237606e-05,  9.67806667e-05,\n",
       "       -7.75162161e-05, -1.51779004e-05, -5.13157922e-04, -4.68692292e-06,\n",
       "        2.31573739e-04, -7.74552223e-05, -1.05025114e-04,  1.37249368e-04,\n",
       "       -3.61839536e-05,  1.50252129e-05,  1.33643662e-04, -1.59113320e-04,\n",
       "       -2.60105447e-04,  2.72944282e-04])"
      ]
     },
     "execution_count": 7,
     "metadata": {},
     "output_type": "execute_result"
    }
   ],
   "source": [
    "exp_dict['value_list'][0] # WeightedSHAP value of the first test sample"
   ]
  },
  {
   "cell_type": "code",
   "execution_count": 8,
   "id": "5f907b73",
   "metadata": {},
   "outputs": [],
   "source": [
    "def find_optimal_list(cond_pred, pred_list, is_lower_better=True):\n",
    "    diff_mat=np.mean(np.abs(cond_pred - pred_list.reshape(-1,1,1)), axis=-1)\n",
    "    return np.argmin(diff_mat, axis=1)\n",
    "\n",
    "cond_pred_keep_absolute=np.array(exp_dict['cond_pred_keep_absolute'])\n",
    "\n",
    "# Find a optimal weight and construct WeightedSHAP\n",
    "list_of_optimal_weights=find_optimal_list(cond_pred_keep_absolute, pred_list) \n",
    "N_test_sample=len(list_of_optimal_weights)\n",
    "\n",
    "SHAP_condi_coal=cond_pred_keep_absolute[:,6,:] # SHAP\n",
    "WeightedSHAP_condi_coal=cond_pred_keep_absolute[np.arange(N_test_sample), list_of_optimal_weights,:]\n",
    "cond_pred_keep_absolute_short=np.array((SHAP_condi_coal, WeightedSHAP_condi_coal)).transpose((1,0,2))\n",
    "recovery_curve_keep_absolute=np.mean(np.abs(cond_pred_keep_absolute_short - pred_list.reshape(-1,1,1)), axis=0)\n"
   ]
  },
  {
   "cell_type": "code",
   "execution_count": 9,
   "id": "4e4599f2",
   "metadata": {},
   "outputs": [
    {
     "data": {
      "text/plain": [
       "Text(0, 0.5, '$|f(x)-\\\\mathbb{E}[f(X) \\\\mid X_S = x_S]|$')"
      ]
     },
     "execution_count": 9,
     "metadata": {},
     "output_type": "execute_result"
    },
    {
     "data": {
      "image/png": "[encoded data removed]",
      "text/plain": [
       "<Figure size 500x400 with 1 Axes>"
      ]
     },
     "metadata": {},
     "output_type": "display_data"
    }
   ],
   "source": [
    "from matplotlib import pyplot as plt\n",
    "plt.figure(figsize=(5,4))\n",
    "n_features=len(recovery_curve_keep_absolute[0])\n",
    "n_display_features=int(n_features*0.6)\n",
    "\n",
    "plt.plot(recovery_curve_keep_absolute[0][max(1,int(n_features*0.075)):n_display_features],\n",
    "         label='Shapley', color='green', linewidth=2, alpha=0.6)\n",
    "plt.plot(recovery_curve_keep_absolute[1][max(1,int(n_features*0.075)):n_display_features],\n",
    "         label='WeightedSHAP', color='red', linewidth=2, alpha=0.6)\n",
    "plt.legend(fontsize=12)\n",
    "xlabel_text='Number of features added' \n",
    "plt.title(f'Prediction recovery error curve\\n Dataset: fraud \\n the lower, the better', fontsize=15)\n",
    "plt.xticks(np.arange(n_features)[max(1,int(n_features*0.075)):n_display_features][::n_display_features//6],\n",
    "               np.arange(n_features)[max(1,int(n_features*0.075)):n_display_features][::n_display_features//6])\n",
    "plt.xlabel(xlabel_text, fontsize=15)\n",
    "plt.ylabel(r'$|f(x)-\\mathbb{E}[f(X) \\mid X_S = x_S]|$', fontsize=15)\n",
    "    "
   ]
  },
  {
   "cell_type": "code",
   "execution_count": null,
   "id": "27c0199b",
   "metadata": {},
   "outputs": [],
   "source": []
  },
  {
   "cell_type": "code",
   "execution_count": null,
   "id": "6cb254a9",
   "metadata": {},
   "outputs": [],
   "source": []
  }
 ],
 "metadata": {
  "kernelspec": {
   "display_name": "Python 3 (ipykernel)",
   "language": "python",
   "name": "python3"
  },
  "language_info": {
   "codemirror_mode": {
    "name": "ipython",
    "version": 3
   },
   "file_extension": ".py",
   "mimetype": "text/x-python",
   "name": "python",
   "nbconvert_exporter": "python",
   "pygments_lexer": "ipython3",
   "version": "3.10.4"
  }
 },
 "nbformat": 4,
 "nbformat_minor": 5
}
